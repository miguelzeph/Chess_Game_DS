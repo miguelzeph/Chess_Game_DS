{
 "cells": [
  {
   "cell_type": "code",
   "execution_count": 1,
   "metadata": {},
   "outputs": [],
   "source": [
    "import pandas as pd\n",
    "import numpy as np\n",
    "import random"
   ]
  },
  {
   "cell_type": "code",
   "execution_count": null,
   "metadata": {},
   "outputs": [],
   "source": []
  },
  {
   "cell_type": "code",
   "execution_count": 2,
   "metadata": {},
   "outputs": [],
   "source": [
    "# Criar a Tabela onde serão colocadas os resultados do PC\n",
    "col = []\n",
    "for n in range(1,10):\n",
    "     col.append(n)\n",
    "col.append('resultado')"
   ]
  },
  {
   "cell_type": "code",
   "execution_count": 3,
   "metadata": {},
   "outputs": [],
   "source": [
    "df = pd.DataFrame(\n",
    "    columns=col\n",
    ")"
   ]
  },
  {
   "cell_type": "code",
   "execution_count": 4,
   "metadata": {
    "scrolled": true
   },
   "outputs": [
    {
     "data": {
      "text/html": [
       "<div>\n",
       "<style scoped>\n",
       "    .dataframe tbody tr th:only-of-type {\n",
       "        vertical-align: middle;\n",
       "    }\n",
       "\n",
       "    .dataframe tbody tr th {\n",
       "        vertical-align: top;\n",
       "    }\n",
       "\n",
       "    .dataframe thead th {\n",
       "        text-align: right;\n",
       "    }\n",
       "</style>\n",
       "<table border=\"1\" class=\"dataframe\">\n",
       "  <thead>\n",
       "    <tr style=\"text-align: right;\">\n",
       "      <th></th>\n",
       "      <th>1</th>\n",
       "      <th>2</th>\n",
       "      <th>3</th>\n",
       "      <th>4</th>\n",
       "      <th>5</th>\n",
       "      <th>6</th>\n",
       "      <th>7</th>\n",
       "      <th>8</th>\n",
       "      <th>9</th>\n",
       "      <th>resultado</th>\n",
       "    </tr>\n",
       "  </thead>\n",
       "  <tbody>\n",
       "  </tbody>\n",
       "</table>\n",
       "</div>"
      ],
      "text/plain": [
       "Empty DataFrame\n",
       "Columns: [1, 2, 3, 4, 5, 6, 7, 8, 9, resultado]\n",
       "Index: []"
      ]
     },
     "execution_count": 4,
     "metadata": {},
     "output_type": "execute_result"
    }
   ],
   "source": [
    "df"
   ]
  },
  {
   "cell_type": "code",
   "execution_count": 5,
   "metadata": {},
   "outputs": [],
   "source": [
    "# Regra do Jogo\n",
    "\"\"\"\n",
    "\n",
    "PLAYER = 1 (X)\n",
    "MAQUINA = 0 (O)\n",
    "\n",
    "Result\n",
    "V = 1\n",
    "E = 0.5\n",
    "D = 0\n",
    "\n",
    "\"\"\";"
   ]
  },
  {
   "cell_type": "code",
   "execution_count": 6,
   "metadata": {},
   "outputs": [],
   "source": [
    "\"\"\"\n",
    "# condição de vitória\n",
    "\n",
    "123 = 0 ou 1\n",
    "159 = ...\n",
    "147\n",
    "256\n",
    "369\n",
    "357\n",
    "789\n",
    "456\n",
    "\n",
    "Se 9 turnos passarem e não tiver vitorioso, então é EMPATE\n",
    "\"\"\";"
   ]
  },
  {
   "cell_type": "code",
   "execution_count": 7,
   "metadata": {},
   "outputs": [],
   "source": [
    "def verificar_derrota(pos):\n",
    "    if pos[1] == pos[2] == pos[3] == 1:\n",
    "        return 0\n",
    "    if pos[4] == pos[5] == pos[6] == 1:\n",
    "        return 0\n",
    "    if pos[1] == pos[4] == pos[7] == 1:\n",
    "        return 0\n",
    "    if pos[1] == pos[5] == pos[9] == 1:\n",
    "        return 0\n",
    "    if pos[2] == pos[5] == pos[6] == 1:\n",
    "        return 0\n",
    "    if pos[3] == pos[5] == pos[7] == 1:\n",
    "        return 0\n",
    "    if pos[3] == pos[6] == pos[9] == 1:\n",
    "        return 0\n",
    "    if pos[7] == pos[8] == pos[9] == 1:\n",
    "        return 0\n",
    "    return 'nada'"
   ]
  },
  {
   "cell_type": "code",
   "execution_count": 8,
   "metadata": {},
   "outputs": [],
   "source": [
    "def verificar_vitoria(pos):\n",
    "    if pos[1] == pos[2] == pos[3] == 0:\n",
    "        return 1\n",
    "    if pos[4] == pos[5] == pos[6] == 0:\n",
    "        return 1\n",
    "    if pos[1] == pos[4] == pos[7] == 0:\n",
    "        return 1\n",
    "    if pos[1] == pos[5] == pos[9] == 0:\n",
    "        return 1\n",
    "    if pos[2] == pos[5] == pos[6] == 0:\n",
    "        return 1\n",
    "    if pos[3] == pos[5] == pos[7] == 0:\n",
    "        return 1\n",
    "    if pos[3] == pos[6] == pos[9] == 0:\n",
    "        return 1\n",
    "    if pos[7] == pos[8] == pos[9] == 0:\n",
    "        return 1\n",
    "    return 'nada'"
   ]
  },
  {
   "cell_type": "code",
   "execution_count": 9,
   "metadata": {
    "scrolled": true
   },
   "outputs": [],
   "source": [
    "# Sortear posição não utilizada\n",
    "\"\"\"\n",
    "livres =[]\n",
    "for n in list(pos.keys())[:-1]:\n",
    "    print(n)\n",
    "    if list(pos.values())[n-1] == 0.5:\n",
    "        livres.append(n)\n",
    "livres\n",
    "\n",
    "\n",
    "# ou\n",
    "\n",
    "livres =[n for n in list(pos.keys())[:-1] if list(pos.values())[n-1]== 0.5]\n",
    "\n",
    "livres\n",
    "\"\"\";"
   ]
  },
  {
   "cell_type": "code",
   "execution_count": 10,
   "metadata": {},
   "outputs": [],
   "source": [
    "pos = {\n",
    "    1:0.5,\n",
    "    2:0.5,\n",
    "    3:0.5,\n",
    "    4:0.5,\n",
    "    5:0.5,\n",
    "    6:0.5,\n",
    "    7:0.5,\n",
    "    8:0.5,\n",
    "    9:0.5,\n",
    "    'resultado':None\n",
    "}"
   ]
  },
  {
   "cell_type": "code",
   "execution_count": 11,
   "metadata": {},
   "outputs": [
    {
     "data": {
      "text/plain": [
       "9"
      ]
     },
     "execution_count": 11,
     "metadata": {},
     "output_type": "execute_result"
    }
   ],
   "source": [
    "\"\"\"\n",
    "def sortear_pos(a,b):\n",
    "    return random.randint(a,b)\n",
    "\"\"\"\n",
    "\n",
    "def sortear_pos(pos): # Ganhar tempo\n",
    "    livres =[n for n in list(pos.keys())[:-1] if list(pos.values())[n-1]== 0.5]\n",
    "    \n",
    "    return random.sample(livres,1)[0] # sortear 1 número dentro dos LIVRES\n",
    "\n",
    "sortear_pos(pos)\n",
    "    "
   ]
  },
  {
   "cell_type": "code",
   "execution_count": 12,
   "metadata": {},
   "outputs": [],
   "source": [
    "def verificar_tudo(pos):\n",
    "    if pos[1] != 0.5 and pos[2] != 0.5 and pos[3] != 0.5 and pos[4] != 0.5 and pos[5] != 0.5 and pos[6] != 0.5 and pos[7] != 0.5 and pos[8] != 0.5 and pos[9] != 0.5:\n",
    "        return 'break'\n",
    "    \n",
    "    return None\n",
    "    "
   ]
  },
  {
   "cell_type": "code",
   "execution_count": 13,
   "metadata": {},
   "outputs": [],
   "source": [
    "def verificar_turno(t):\n",
    "    if t == 9: # Verificar tempo (f)\n",
    "        return 'break'\n",
    "    return None"
   ]
  },
  {
   "cell_type": "code",
   "execution_count": 23,
   "metadata": {
    "scrolled": false
   },
   "outputs": [
    {
     "name": "stdout",
     "output_type": "stream",
     "text": [
      "player:1\n",
      "pc: 2\n",
      "player:2\n",
      "player, tente outro numero:2\n",
      "player, tente outro numero:2\n",
      "player, tente outro numero:2\n",
      "player, tente outro numero:3\n",
      "pc: 2\n",
      "pc, tente outro numero:1\n",
      "pc, tente outro numero:1\n",
      "pc, tente outro numero:2\n",
      "pc, tente outro numero:3\n",
      "pc, tente outro numero:4\n",
      "player:3\n",
      "player, tente outro numero:2\n",
      "player, tente outro numero:1\n",
      "player, tente outro numero:5\n",
      "pc: 6\n",
      "player:7\n",
      "derrotado\n",
      "{1: 1, 2: 0, 3: 1, 4: 0, 5: 1, 6: 0, 7: 1, 8: 0.5, 9: 0.5, 'resultado': 0}\n"
     ]
    }
   ],
   "source": [
    "pos = {\n",
    "    1:0.5,\n",
    "    2:0.5,\n",
    "    3:0.5,\n",
    "    4:0.5,\n",
    "    5:0.5,\n",
    "    6:0.5,\n",
    "    7:0.5,\n",
    "    8:0.5,\n",
    "    9:0.5,\n",
    "    'resultado':None\n",
    "}\n",
    "\n",
    "\n",
    "t = 0\n",
    "while True:\n",
    "    \n",
    "    # Jogar Player    \n",
    "    pl = int(input('player:')) # Criar função com Try e Excepet Value erro\n",
    "    \n",
    "    \n",
    "    \n",
    "    if pos[pl] == 0.5:\n",
    "        pos[pl] = 1\n",
    "    \n",
    "    else:\n",
    "        while True:\n",
    "            pl = int(input('player, tente outro numero:'))\n",
    "            if pos[pl] == 0.5:\n",
    "                pos[pl] = 1  \n",
    "                break\n",
    "    \n",
    "        \n",
    "    #-----------------------------------\n",
    "    # Verificar derrota\n",
    "    if verificar_derrota(pos) == 0:\n",
    "        print('derrotado')\n",
    "        pos['resultado'] = 0\n",
    "        break\n",
    "    # Verificar Vitoria\n",
    "    if verificar_vitoria(pos) == 1:\n",
    "        print('vencedor')\n",
    "        pos['resultado'] = 1\n",
    "        break\n",
    "    # Verificar Turno\n",
    "    t +=1\n",
    "    if verificar_turno(t) == 'break':\n",
    "        print('turno')\n",
    "        pos['resultado'] = 0.5 # Empate\n",
    "        break\n",
    "    # Verificar Tudo\n",
    "    if verificar_tudo(pos) == 'break':\n",
    "        print('tudo')\n",
    "        pos['resultado'] = 0.5 # Empate\n",
    "        break \n",
    "\n",
    "    \n",
    "    # Jogar PC    \n",
    "    pc = int(input('pc: ')) # Criar função com Try e Excepet Value erro\n",
    "\n",
    "    if pos[pc] == 0.5:\n",
    "        pos[pc] = 0\n",
    "        \n",
    "    else:\n",
    "        while True:\n",
    "            pc = int(input('pc, tente outro numero:'))\n",
    "            if pos[pc] == 0.5:\n",
    "                pos[pc] = 0 \n",
    "                break\n",
    "\n",
    "    \n",
    "    #-----------------------------------\n",
    "    # Verificar derrota\n",
    "    if verificar_derrota(pos) == 0:\n",
    "        print('derrotado')\n",
    "        pos['resultado'] = 0\n",
    "        break\n",
    "    # Verificar vitoria\n",
    "    if verificar_vitoria(pos) == 1:\n",
    "        print('vencedor')\n",
    "        pos['resultado'] = 1\n",
    "        break\n",
    "    # Verificar Turno\n",
    "    t +=1\n",
    "    if verificar_turno(t) == 'break':\n",
    "        print('turno')\n",
    "        pos['resultado'] = 0.5 # Empate\n",
    "        break \n",
    "    # Verificar Tudo\n",
    "    if verificar_tudo(pos) == 'break':\n",
    "        print('tudo')\n",
    "        pos['resultado'] = 0.5 # Empate\n",
    "        break\n",
    "\n",
    "print(pos)\n"
   ]
  },
  {
   "cell_type": "markdown",
   "metadata": {},
   "source": [
    "## Adicionar os Resultados no DF"
   ]
  },
  {
   "cell_type": "code",
   "execution_count": 15,
   "metadata": {},
   "outputs": [],
   "source": [
    "# Adicionar resultados em um vetor df1\n",
    "df1 = pd.DataFrame( columns=list(pos.keys()) )\n",
    "\n",
    "for i in df1.columns:\n",
    "    if i == 'resultado':\n",
    "        df1[i] = [pos[i]]\n",
    "    else:    \n",
    "        df1[i] = [pos[int(i)]]"
   ]
  },
  {
   "cell_type": "code",
   "execution_count": 16,
   "metadata": {
    "scrolled": true
   },
   "outputs": [
    {
     "data": {
      "text/html": [
       "<div>\n",
       "<style scoped>\n",
       "    .dataframe tbody tr th:only-of-type {\n",
       "        vertical-align: middle;\n",
       "    }\n",
       "\n",
       "    .dataframe tbody tr th {\n",
       "        vertical-align: top;\n",
       "    }\n",
       "\n",
       "    .dataframe thead th {\n",
       "        text-align: right;\n",
       "    }\n",
       "</style>\n",
       "<table border=\"1\" class=\"dataframe\">\n",
       "  <thead>\n",
       "    <tr style=\"text-align: right;\">\n",
       "      <th></th>\n",
       "      <th>1</th>\n",
       "      <th>2</th>\n",
       "      <th>3</th>\n",
       "      <th>4</th>\n",
       "      <th>5</th>\n",
       "      <th>6</th>\n",
       "      <th>7</th>\n",
       "      <th>8</th>\n",
       "      <th>9</th>\n",
       "      <th>resultado</th>\n",
       "    </tr>\n",
       "  </thead>\n",
       "  <tbody>\n",
       "    <tr>\n",
       "      <th>0</th>\n",
       "      <td>1</td>\n",
       "      <td>0</td>\n",
       "      <td>1</td>\n",
       "      <td>0</td>\n",
       "      <td>1</td>\n",
       "      <td>0</td>\n",
       "      <td>1</td>\n",
       "      <td>0.5</td>\n",
       "      <td>0.5</td>\n",
       "      <td>0</td>\n",
       "    </tr>\n",
       "  </tbody>\n",
       "</table>\n",
       "</div>"
      ],
      "text/plain": [
       "   1  2  3  4  5  6  7    8    9  resultado\n",
       "0  1  0  1  0  1  0  1  0.5  0.5          0"
      ]
     },
     "execution_count": 16,
     "metadata": {},
     "output_type": "execute_result"
    }
   ],
   "source": [
    "# Tabela com novo resultado\n",
    "df1"
   ]
  },
  {
   "cell_type": "code",
   "execution_count": 17,
   "metadata": {
    "scrolled": true
   },
   "outputs": [
    {
     "data": {
      "text/html": [
       "<div>\n",
       "<style scoped>\n",
       "    .dataframe tbody tr th:only-of-type {\n",
       "        vertical-align: middle;\n",
       "    }\n",
       "\n",
       "    .dataframe tbody tr th {\n",
       "        vertical-align: top;\n",
       "    }\n",
       "\n",
       "    .dataframe thead th {\n",
       "        text-align: right;\n",
       "    }\n",
       "</style>\n",
       "<table border=\"1\" class=\"dataframe\">\n",
       "  <thead>\n",
       "    <tr style=\"text-align: right;\">\n",
       "      <th></th>\n",
       "      <th>1</th>\n",
       "      <th>2</th>\n",
       "      <th>3</th>\n",
       "      <th>4</th>\n",
       "      <th>5</th>\n",
       "      <th>6</th>\n",
       "      <th>7</th>\n",
       "      <th>8</th>\n",
       "      <th>9</th>\n",
       "      <th>resultado</th>\n",
       "    </tr>\n",
       "  </thead>\n",
       "  <tbody>\n",
       "  </tbody>\n",
       "</table>\n",
       "</div>"
      ],
      "text/plain": [
       "Empty DataFrame\n",
       "Columns: [1, 2, 3, 4, 5, 6, 7, 8, 9, resultado]\n",
       "Index: []"
      ]
     },
     "execution_count": 17,
     "metadata": {},
     "output_type": "execute_result"
    }
   ],
   "source": [
    "# Tabela acumulativa, que eu vou armazenar os dados\n",
    "df"
   ]
  },
  {
   "cell_type": "code",
   "execution_count": 18,
   "metadata": {},
   "outputs": [
    {
     "data": {
      "text/plain": [
       "(Index([1, 2, 3, 4, 5, 6, 7, 8, 9, 'resultado'], dtype='object'),\n",
       " Index([1, 2, 3, 4, 5, 6, 7, 8, 9, 'resultado'], dtype='object'))"
      ]
     },
     "execution_count": 18,
     "metadata": {},
     "output_type": "execute_result"
    }
   ],
   "source": [
    "# Verificar se as colunas são as mesmas\n",
    "df.columns, df1.columns"
   ]
  },
  {
   "cell_type": "code",
   "execution_count": 19,
   "metadata": {
    "scrolled": true
   },
   "outputs": [
    {
     "data": {
      "text/html": [
       "<div>\n",
       "<style scoped>\n",
       "    .dataframe tbody tr th:only-of-type {\n",
       "        vertical-align: middle;\n",
       "    }\n",
       "\n",
       "    .dataframe tbody tr th {\n",
       "        vertical-align: top;\n",
       "    }\n",
       "\n",
       "    .dataframe thead th {\n",
       "        text-align: right;\n",
       "    }\n",
       "</style>\n",
       "<table border=\"1\" class=\"dataframe\">\n",
       "  <thead>\n",
       "    <tr style=\"text-align: right;\">\n",
       "      <th></th>\n",
       "      <th>1</th>\n",
       "      <th>2</th>\n",
       "      <th>3</th>\n",
       "      <th>4</th>\n",
       "      <th>5</th>\n",
       "      <th>6</th>\n",
       "      <th>7</th>\n",
       "      <th>8</th>\n",
       "      <th>9</th>\n",
       "      <th>resultado</th>\n",
       "    </tr>\n",
       "  </thead>\n",
       "  <tbody>\n",
       "    <tr>\n",
       "      <th>0</th>\n",
       "      <td>1</td>\n",
       "      <td>0</td>\n",
       "      <td>1</td>\n",
       "      <td>0</td>\n",
       "      <td>1</td>\n",
       "      <td>0</td>\n",
       "      <td>1</td>\n",
       "      <td>0.5</td>\n",
       "      <td>0.5</td>\n",
       "      <td>0</td>\n",
       "    </tr>\n",
       "  </tbody>\n",
       "</table>\n",
       "</div>"
      ],
      "text/plain": [
       "   1  2  3  4  5  6  7    8    9 resultado\n",
       "0  1  0  1  0  1  0  1  0.5  0.5         0"
      ]
     },
     "execution_count": 19,
     "metadata": {},
     "output_type": "execute_result"
    }
   ],
   "source": [
    "# Adicionar as linhas \n",
    "#(dica: tem que ter o msm nome na coluna... cuidado Int x Str)\n",
    "df = df.append(df1,ignore_index=True)\n",
    "\n",
    "df"
   ]
  },
  {
   "cell_type": "code",
   "execution_count": null,
   "metadata": {},
   "outputs": [],
   "source": []
  },
  {
   "cell_type": "markdown",
   "metadata": {},
   "source": [
    "## Testes de Sorteio"
   ]
  },
  {
   "cell_type": "code",
   "execution_count": 20,
   "metadata": {},
   "outputs": [
    {
     "name": "stdout",
     "output_type": "stream",
     "text": [
      "7\n",
      "6\n",
      "4\n",
      "3\n",
      "0\n",
      "4\n",
      "4\n",
      "7\n",
      "1\n"
     ]
    }
   ],
   "source": [
    "for x in range(0,9):\n",
    "    print(random.randint(0,9))"
   ]
  },
  {
   "cell_type": "code",
   "execution_count": 22,
   "metadata": {},
   "outputs": [
    {
     "data": {
      "text/plain": [
       "6"
      ]
     },
     "execution_count": 22,
     "metadata": {},
     "output_type": "execute_result"
    }
   ],
   "source": [
    "samples = random.sample([0,10,2,3,5,6,7,8],1)\n",
    "samples[0] "
   ]
  },
  {
   "cell_type": "code",
   "execution_count": null,
   "metadata": {},
   "outputs": [],
   "source": []
  }
 ],
 "metadata": {
  "kernelspec": {
   "display_name": "Python 3",
   "language": "python",
   "name": "python3"
  },
  "language_info": {
   "codemirror_mode": {
    "name": "ipython",
    "version": 3
   },
   "file_extension": ".py",
   "mimetype": "text/x-python",
   "name": "python",
   "nbconvert_exporter": "python",
   "pygments_lexer": "ipython3",
   "version": "3.6.9"
  }
 },
 "nbformat": 4,
 "nbformat_minor": 2
}
