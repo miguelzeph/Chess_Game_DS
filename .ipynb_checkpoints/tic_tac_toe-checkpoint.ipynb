{
 "cells": [
  {
   "cell_type": "markdown",
   "metadata": {},
   "source": [
    "## AMBIENTE "
   ]
  },
  {
   "cell_type": "code",
   "execution_count": 103,
   "metadata": {
    "ExecuteTime": {
     "end_time": "2021-04-01T12:51:24.467464Z",
     "start_time": "2021-04-01T12:51:24.464532Z"
    }
   },
   "outputs": [],
   "source": [
    "import numpy as np\n",
    "import random"
   ]
  },
  {
   "cell_type": "code",
   "execution_count": 329,
   "metadata": {
    "ExecuteTime": {
     "end_time": "2021-04-01T15:37:38.758071Z",
     "start_time": "2021-04-01T15:37:38.743527Z"
    }
   },
   "outputs": [
    {
     "data": {
      "text/plain": [
       "40"
      ]
     },
     "execution_count": 329,
     "metadata": {},
     "output_type": "execute_result"
    }
   ],
   "source": [
    "# Exemplo de herança de classe\n",
    "\n",
    "class Personagem(object):\n",
    "    k = 10\n",
    "    def __init__(self, nome):\n",
    "        self.nome = nome\n",
    "        \n",
    "    def ataque(self, alvo):\n",
    "        alvo.hp -= self.mp\n",
    "\n",
    "# Raças \n",
    "class Dracula(Personagem):\n",
    "    def __init__(self,nome):\n",
    "        super().__init__(nome)\n",
    "        self.hp = 100\n",
    "        self.mp = 10            \n",
    "class Ghoust(Personagem):\n",
    "    def __init__(self,nome):\n",
    "        super().__init__(nome)\n",
    "        self.hp = 50\n",
    "        self.mp = 30\n",
    "\n",
    "p1 = Dracula('Miguel')\n",
    "p2 = Ghoust('Priscila')\n",
    "\n",
    "p1.ataque(p2)\n",
    "p2.hp"
   ]
  },
  {
   "cell_type": "code",
   "execution_count": 316,
   "metadata": {
    "ExecuteTime": {
     "end_time": "2021-04-01T14:55:51.471118Z",
     "start_time": "2021-04-01T14:55:51.463715Z"
    }
   },
   "outputs": [
    {
     "data": {
      "text/plain": [
       "array([[0., 0., 0.],\n",
       "       [0., 0., 0.],\n",
       "       [0., 0., 0.]])"
      ]
     },
     "execution_count": 316,
     "metadata": {},
     "output_type": "execute_result"
    }
   ],
   "source": [
    "\"\"\"\n",
    "Exemplo de Q( ESTADO , AÇÕES )\n",
    "\n",
    "Q = np.zeros( (3,3,4) )\n",
    "Significa que você tem uma Matriz 3 x 3 com 9 possibilidade de ESTADOS\n",
    "( neste caso, jogo da velha, são posições espaciais)\n",
    "e em casa posição você tem 4 posibilidades AÇÔES (imagine um jogo com cima, baixo, esquerda, direita)\n",
    "\"\"\"\n",
    "\n",
    "\"\"\"\n",
    "Veja que não iremos colocar ações aqui, pois só existe uma por player... 1 para p1 e -1 para p2...\n",
    "ou seja, o player 1 só pode jogar X... ele não pode jogar W, K, B etc...  fixando o exemplo do personagem,\n",
    "imagine que você pode ir para cima, baixo, esquerda e direita... temos aqui 4 estados possíveis\n",
    "\"\"\"\n",
    "Q = np.zeros( (3,3) )\n",
    "Q"
   ]
  },
  {
   "cell_type": "code",
   "execution_count": 352,
   "metadata": {
    "ExecuteTime": {
     "end_time": "2021-04-01T16:05:26.913022Z",
     "start_time": "2021-04-01T16:05:26.879539Z"
    },
    "code_folding": [
     15,
     19,
     46,
     61,
     100
    ],
    "scrolled": false
   },
   "outputs": [
    {
     "data": {
      "text/plain": [
       "array([[0., 0., 0.],\n",
       "       [0., 0., 0.],\n",
       "       [0., 0., 0.]])"
      ]
     },
     "execution_count": 352,
     "metadata": {},
     "output_type": "execute_result"
    }
   ],
   "source": [
    "class Game(qLearning):\n",
    "    \n",
    "    def __init__(self):\n",
    "        \n",
    "        \"\"\"\n",
    "        As perspectivas de vitórias e derrota são sempre\n",
    "        relacionadas com o player 1 (p1), ele é o nosso\n",
    "        jogador principal (máquina que será treinada)\n",
    "        \"\"\"\n",
    "        super().__init__()\n",
    "        self.board = np.zeros((3,3))\n",
    "        self.p1 = 1 \n",
    "        self.p2 = -1\n",
    "    \n",
    "    # reset game\n",
    "    def reset (self):\n",
    "        self.board = np.zeros((3,3))\n",
    "    \n",
    "    # draw board\n",
    "    def draw_board(self):\n",
    "        \n",
    "        draw = ''\n",
    "\n",
    "        for i in range(3):\n",
    "            for j in range(3):\n",
    "                simbolo = ''\n",
    "                # simbolo X (p1 = 1) ou O (p2 = -1)\n",
    "                if game.board[i][j] == 1:\n",
    "                    symbol = 'X'\n",
    "                elif game.board[i][j] == -1:\n",
    "                    symbol = 'O'\n",
    "                else:\n",
    "                    symbol = ' '\n",
    "\n",
    "\n",
    "                draw += '|'+symbol+''\n",
    "\n",
    "\n",
    "\n",
    "                if j == 2:\n",
    "\n",
    "                    draw +='|\\n-------\\n'\n",
    "        \n",
    "        print(draw)\n",
    "    \n",
    "    # jogada - Human\n",
    "    def select_pos_by_human(self, player, name):\n",
    "        \n",
    "        while True:\n",
    "            row = int( input(name+' row :') )\n",
    "            col = int( input(name+' col :') )\n",
    "\n",
    "            # Tem que checar se a posição está ocupada\n",
    "            if self.board[row,col] == 0:\n",
    "                self.board[row,col] = player\n",
    "                break\n",
    "            else:\n",
    "                print('p1 escolha outra posição...')\n",
    "        return row,col\n",
    "    \n",
    "    # jogada - Random \n",
    "    def select_pos_by_random(self, player, name):\n",
    "        \n",
    "        # get INDEX row and col equals zero (posição livre pra jogar)\n",
    "        available_pos = np.where( game.board == 0 )\n",
    "\n",
    "        row = available_pos[0]\n",
    "        col = available_pos[1]\n",
    "\n",
    "        # list_index_available\n",
    "        list_index_available = [[r,c] for r,c in zip(row,col)]\n",
    "\n",
    "        # sort one randomly\n",
    "        row_col = random.sample(list_index_available, k = 1)[0]\n",
    "\n",
    "        row = row_col[0] # Linha\n",
    "        col = row_col[1] # Coluna\n",
    "\n",
    "        self.board[row][col] = player\n",
    "        \n",
    "        print(name + f' jogou na posição { str(row_col) }')\n",
    "    \n",
    "    # jogada - QLearning\n",
    "    def select_pos_by_q(self, player, name):\n",
    "        \n",
    "    \n",
    "        if np.random.uniform(0, 1) <= epsilon:\n",
    "            select_pos_by_random(player =  player, name =  name)\n",
    "            \n",
    "        else:\n",
    "            \n",
    "            # pegue o ÍNDICE com o  ESTADO na tabela Q com maior valores\n",
    "            q_max_pos = np.where( game.board == np.max(self.Q) )\n",
    "\n",
    "            row = q_max_pos[0]\n",
    "            col = q_max_pos[1]\n",
    "\n",
    "            self.board[row][col] = player\n",
    "        \n",
    "        return row,col\n",
    "    \n",
    "    # chegar vencedor\n",
    "    def check_win(self):\n",
    "        \n",
    "        # Row\n",
    "        if sum(self.board[0]) == 3 or sum(self.board[1]) == 3 or sum(self.board[2]) == 3:\n",
    "            #print('venceu')\n",
    "            return 1\n",
    "        if sum(self.board[0]) == -3 or sum(self.board[1]) == -3 or sum(self.board[2]) == -3:\n",
    "            #print('perdeu')\n",
    "            return -1\n",
    "        # Col\n",
    "        if sum(self.board[:,0]) == 3 or sum(self.board[:,1]) == 3 or sum(self.board[:,2]) == 3:\n",
    "            #print('venceu')\n",
    "            return 1\n",
    "        if sum(self.board[:,0]) == - 3 or sum(self.board[:,1]) == - 3 or sum(self.board[:,2]) == - 3:\n",
    "            #print('perdeu')\n",
    "            return -1\n",
    "        # Diagonal\n",
    "        if sum(game.board.diagonal()) == 3 or sum(np.fliplr(game.board).diagonal()) == 3:\n",
    "            #print('venceu')\n",
    "            return 1\n",
    "        if sum(game.board.diagonal()) == -3 or sum(np.fliplr(game.board).diagonal()) == -3:\n",
    "            #print('perdeu')\n",
    "            return -1\n",
    "        # Empate\n",
    "        if not 0 in self.board:\n",
    "            #print('empate')\n",
    "            return 0\n",
    "        \n",
    "        # continua = 2, empate = 0, vitoria = 1, derrota = -1\n",
    "        return 2\n",
    "        \n",
    "    # iniciar o Jogo\n",
    "    def start(self):\n",
    "        \n",
    "        print ( 'player 1 = X\\nplayer 2 = O\\n')\n",
    "        while True:\n",
    "            \n",
    "            # player 1 joga\n",
    "            pos = self.select_pos_by_random(self.p1, name = 'player 1')\n",
    "            # desenhar jogada do player 1\n",
    "            self.draw_board()\n",
    "            # checa resultado\n",
    "            if self.check_win() != 2: # continua = 2, empate = 0, vitoria = 1, derrota = -1\n",
    "                self.update_q(\n",
    "                    row    = pos[0],\n",
    "                    col    = pos[1],\n",
    "                    reward = self.reward(result = self.check_win() )\n",
    "                )\n",
    "                break\n",
    "            \n",
    "            \n",
    "            # player 2 joga\n",
    "            pos = self.select_pos_by_human(self.p2, name = 'player 2')\n",
    "            # desenhar jogada player 2\n",
    "            self.draw_board()\n",
    "            # checar resultado\n",
    "            if self.check_win() != 2: # continua = 2, empate = 0, vitoria = 1, derrota = -1\n",
    "                self.update_q(\n",
    "                    row    = pos[0],\n",
    "                    col    = pos[1],\n",
    "                    reward = self.reward(result = self.check_win() )\n",
    "                )\n",
    "                break\n",
    "        \"\"\"        \n",
    "        estado = self.check_win() # ESTADO\n",
    "    \n",
    "        if estado == 1:\n",
    "            print('venceu')\n",
    "        if estado == -1:\n",
    "            print('perdeu')\n",
    "        if estado == 0:\n",
    "            print('empate')\n",
    "        \n",
    "        return estado # ESTADO\n",
    "        \"\"\"\n",
    "        \n",
    "\n",
    "\n",
    "game = Game()\n",
    "game.board"
   ]
  },
  {
   "cell_type": "code",
   "execution_count": 353,
   "metadata": {
    "ExecuteTime": {
     "end_time": "2021-04-01T16:05:35.950964Z",
     "start_time": "2021-04-01T16:05:29.199939Z"
    }
   },
   "outputs": [
    {
     "name": "stdout",
     "output_type": "stream",
     "text": [
      "player 1 = X\n",
      "player 2 = O\n",
      "\n",
      "player 1 jogou na posição [1, 0]\n",
      "| | | |\n",
      "-------\n",
      "|X| | |\n",
      "-------\n",
      "| | | |\n",
      "-------\n",
      "\n",
      "player 2 row :0\n",
      "player 2 col :0\n",
      "|O| | |\n",
      "-------\n",
      "|X| | |\n",
      "-------\n",
      "| | | |\n",
      "-------\n",
      "\n",
      "player 1 jogou na posição [0, 1]\n",
      "|O|X| |\n",
      "-------\n",
      "|X| | |\n",
      "-------\n",
      "| | | |\n",
      "-------\n",
      "\n",
      "player 2 row :1\n",
      "player 2 col :1\n",
      "|O|X| |\n",
      "-------\n",
      "|X|O| |\n",
      "-------\n",
      "| | | |\n",
      "-------\n",
      "\n",
      "player 1 jogou na posição [1, 2]\n",
      "|O|X| |\n",
      "-------\n",
      "|X|O|X|\n",
      "-------\n",
      "| | | |\n",
      "-------\n",
      "\n",
      "player 2 row :2\n",
      "player 2 col :2\n",
      "|O|X| |\n",
      "-------\n",
      "|X|O|X|\n",
      "-------\n",
      "| | |O|\n",
      "-------\n",
      "\n"
     ]
    },
    {
     "ename": "NameError",
     "evalue": "name 'gamma' is not defined",
     "output_type": "error",
     "traceback": [
      "\u001b[0;31m---------------------------------------------------------------------------\u001b[0m",
      "\u001b[0;31mNameError\u001b[0m                                 Traceback (most recent call last)",
      "\u001b[0;32m<ipython-input-353-adad24d56b5e>\u001b[0m in \u001b[0;36m<module>\u001b[0;34m\u001b[0m\n\u001b[1;32m      1\u001b[0m \u001b[0mgame\u001b[0m\u001b[0;34m.\u001b[0m\u001b[0mreset\u001b[0m\u001b[0;34m(\u001b[0m\u001b[0;34m)\u001b[0m\u001b[0;34m\u001b[0m\u001b[0;34m\u001b[0m\u001b[0m\n\u001b[0;32m----> 2\u001b[0;31m \u001b[0mgame\u001b[0m\u001b[0;34m.\u001b[0m\u001b[0mstart\u001b[0m\u001b[0;34m(\u001b[0m\u001b[0;34m)\u001b[0m\u001b[0;34m\u001b[0m\u001b[0;34m\u001b[0m\u001b[0m\n\u001b[0m",
      "\u001b[0;32m<ipython-input-352-0784bfc972d7>\u001b[0m in \u001b[0;36mstart\u001b[0;34m(self)\u001b[0m\n\u001b[1;32m    161\u001b[0m                     \u001b[0mrow\u001b[0m    \u001b[0;34m=\u001b[0m \u001b[0mpos\u001b[0m\u001b[0;34m[\u001b[0m\u001b[0;36m0\u001b[0m\u001b[0;34m]\u001b[0m\u001b[0;34m,\u001b[0m\u001b[0;34m\u001b[0m\u001b[0;34m\u001b[0m\u001b[0m\n\u001b[1;32m    162\u001b[0m                     \u001b[0mcol\u001b[0m    \u001b[0;34m=\u001b[0m \u001b[0mpos\u001b[0m\u001b[0;34m[\u001b[0m\u001b[0;36m1\u001b[0m\u001b[0;34m]\u001b[0m\u001b[0;34m,\u001b[0m\u001b[0;34m\u001b[0m\u001b[0;34m\u001b[0m\u001b[0m\n\u001b[0;32m--> 163\u001b[0;31m                     \u001b[0mreward\u001b[0m \u001b[0;34m=\u001b[0m \u001b[0mself\u001b[0m\u001b[0;34m.\u001b[0m\u001b[0mreward\u001b[0m\u001b[0;34m(\u001b[0m\u001b[0mresult\u001b[0m \u001b[0;34m=\u001b[0m \u001b[0mself\u001b[0m\u001b[0;34m.\u001b[0m\u001b[0mcheck_win\u001b[0m\u001b[0;34m(\u001b[0m\u001b[0;34m)\u001b[0m \u001b[0;34m)\u001b[0m\u001b[0;34m\u001b[0m\u001b[0;34m\u001b[0m\u001b[0m\n\u001b[0m\u001b[1;32m    164\u001b[0m                 )\n\u001b[1;32m    165\u001b[0m                 \u001b[0;32mbreak\u001b[0m\u001b[0;34m\u001b[0m\u001b[0;34m\u001b[0m\u001b[0m\n",
      "\u001b[0;32m<ipython-input-345-44a529d5d9c1>\u001b[0m in \u001b[0;36mupdate_q\u001b[0;34m(self, row, col, reward)\u001b[0m\n\u001b[1;32m     24\u001b[0m     \u001b[0;32mdef\u001b[0m \u001b[0mupdate_q\u001b[0m\u001b[0;34m(\u001b[0m\u001b[0mself\u001b[0m\u001b[0;34m,\u001b[0m \u001b[0mrow\u001b[0m\u001b[0;34m,\u001b[0m \u001b[0mcol\u001b[0m\u001b[0;34m,\u001b[0m \u001b[0mreward\u001b[0m\u001b[0;34m)\u001b[0m\u001b[0;34m:\u001b[0m\u001b[0;34m\u001b[0m\u001b[0;34m\u001b[0m\u001b[0m\n\u001b[1;32m     25\u001b[0m \u001b[0;34m\u001b[0m\u001b[0m\n\u001b[0;32m---> 26\u001b[0;31m         \u001b[0mself\u001b[0m\u001b[0;34m.\u001b[0m\u001b[0mQ\u001b[0m\u001b[0;34m[\u001b[0m\u001b[0mrow\u001b[0m\u001b[0;34m]\u001b[0m\u001b[0;34m[\u001b[0m\u001b[0mcol\u001b[0m\u001b[0;34m]\u001b[0m \u001b[0;34m=\u001b[0m \u001b[0mself\u001b[0m\u001b[0;34m.\u001b[0m\u001b[0mQ\u001b[0m\u001b[0;34m[\u001b[0m\u001b[0mrow\u001b[0m\u001b[0;34m]\u001b[0m\u001b[0;34m[\u001b[0m\u001b[0mcol\u001b[0m\u001b[0;34m]\u001b[0m \u001b[0;34m*\u001b[0m\u001b[0;34m(\u001b[0m \u001b[0mreward\u001b[0m \u001b[0;34m+\u001b[0m \u001b[0mgamma\u001b[0m\u001b[0;34m*\u001b[0m \u001b[0mnp\u001b[0m\u001b[0;34m.\u001b[0m\u001b[0mmax\u001b[0m\u001b[0;34m(\u001b[0m\u001b[0mself\u001b[0m\u001b[0;34m.\u001b[0m\u001b[0mQ\u001b[0m\u001b[0;34m)\u001b[0m \u001b[0;34m-\u001b[0m \u001b[0mself\u001b[0m\u001b[0;34m.\u001b[0m\u001b[0mQ\u001b[0m\u001b[0;34m[\u001b[0m\u001b[0mrow\u001b[0m\u001b[0;34m]\u001b[0m\u001b[0;34m[\u001b[0m\u001b[0mcol\u001b[0m\u001b[0;34m]\u001b[0m \u001b[0;34m)\u001b[0m\u001b[0;34m\u001b[0m\u001b[0;34m\u001b[0m\u001b[0m\n\u001b[0m\u001b[1;32m     27\u001b[0m \u001b[0;34m\u001b[0m\u001b[0m\n\u001b[1;32m     28\u001b[0m \u001b[0;34m\u001b[0m\u001b[0m\n",
      "\u001b[0;31mNameError\u001b[0m: name 'gamma' is not defined"
     ]
    }
   ],
   "source": [
    "game.reset()\n",
    "game.start()"
   ]
  },
  {
   "cell_type": "markdown",
   "metadata": {
    "heading_collapsed": true
   },
   "source": [
    "### Testes para criar o Ambiente"
   ]
  },
  {
   "cell_type": "code",
   "execution_count": 248,
   "metadata": {
    "ExecuteTime": {
     "end_time": "2021-04-01T13:49:37.025135Z",
     "start_time": "2021-04-01T13:49:37.018853Z"
    },
    "hidden": true,
    "scrolled": false
   },
   "outputs": [
    {
     "data": {
      "text/plain": [
       "array([[ 1., -1., -1.],\n",
       "       [ 1.,  1.,  1.],\n",
       "       [-1.,  1., -1.]])"
      ]
     },
     "execution_count": 248,
     "metadata": {},
     "output_type": "execute_result"
    }
   ],
   "source": [
    "game.board"
   ]
  },
  {
   "cell_type": "code",
   "execution_count": 222,
   "metadata": {
    "ExecuteTime": {
     "end_time": "2021-04-01T13:28:35.643049Z",
     "start_time": "2021-04-01T13:28:35.633296Z"
    },
    "hidden": true
   },
   "outputs": [
    {
     "name": "stdout",
     "output_type": "stream",
     "text": [
      "| | |X|\n",
      "-------\n",
      "| |O|X|\n",
      "-------\n",
      "|O| |X|\n",
      "-------\n",
      "\n"
     ]
    }
   ],
   "source": [
    "printar = ''\n",
    "\n",
    "for i in range(3):\n",
    "\n",
    "    for j in range(3):\n",
    "        simbolo = ''\n",
    "        # simbolo X (p1 = 1) ou O (p2 = -1)\n",
    "        if game.board[i][j] == 1:\n",
    "            symbol = 'X'\n",
    "        elif game.board[i][j] == -1:\n",
    "            symbol = 'O'\n",
    "        else:\n",
    "            symbol = ' '\n",
    "            \n",
    "        \n",
    "        printar += '|'+symbol+''\n",
    "        \n",
    "        \n",
    "        \n",
    "        if j == 2:\n",
    "            \n",
    "            printar +='|\\n-------\\n'\n",
    "    \n",
    "\n",
    "print(printar)"
   ]
  },
  {
   "cell_type": "code",
   "execution_count": 123,
   "metadata": {
    "ExecuteTime": {
     "end_time": "2021-04-01T12:54:56.134272Z",
     "start_time": "2021-04-01T12:54:56.127494Z"
    },
    "hidden": true
   },
   "outputs": [],
   "source": [
    "# np.where ( LISTA == VALOR ) - pega os índices de acordo com os valores\n",
    "# random.sample(list_index_available, k = 1)[0] - pega uma amostra aleatoriamente\n",
    "\n",
    "# get INDEX row and col equals zero (posição livre pra jogar)\n",
    "available_pos = np.where(game.board == 0)\n",
    "\n",
    "\n",
    "row = available_pos[0]\n",
    "col = available_pos[1]\n",
    "\n",
    "# list_index_available\n",
    "list_index_available = [[r,c] for r,c in zip(row,col)]\n",
    "\n",
    "# sort one\n",
    "row_col = random.sample(list_index_available, k = 1)[0]\n",
    "\n",
    "row = row_col[0]\n",
    "col = row_col[1]\n",
    "\n",
    "game.board[row][col] , row_col"
   ]
  },
  {
   "cell_type": "code",
   "execution_count": 88,
   "metadata": {
    "ExecuteTime": {
     "end_time": "2021-04-01T12:37:48.462175Z",
     "start_time": "2021-04-01T12:37:48.453334Z"
    },
    "hidden": true
   },
   "outputs": [
    {
     "data": {
      "text/plain": [
       "[(1, 2), (2, 0), (2, 1), (2, 2)]"
      ]
     },
     "execution_count": 88,
     "metadata": {},
     "output_type": "execute_result"
    }
   ],
   "source": [
    "list_index_available"
   ]
  },
  {
   "cell_type": "code",
   "execution_count": 27,
   "metadata": {
    "ExecuteTime": {
     "end_time": "2021-04-01T09:58:53.021104Z",
     "start_time": "2021-04-01T09:58:53.015132Z"
    },
    "hidden": true
   },
   "outputs": [],
   "source": [
    "game.select_pos(0,2,-1)"
   ]
  },
  {
   "cell_type": "code",
   "execution_count": 38,
   "metadata": {
    "ExecuteTime": {
     "end_time": "2021-04-01T10:34:22.331591Z",
     "start_time": "2021-04-01T10:34:22.324447Z"
    },
    "hidden": true
   },
   "outputs": [
    {
     "data": {
      "text/plain": [
       "0.0"
      ]
     },
     "execution_count": 38,
     "metadata": {},
     "output_type": "execute_result"
    }
   ],
   "source": [
    "game.board[0,1]"
   ]
  },
  {
   "cell_type": "code",
   "execution_count": 247,
   "metadata": {
    "ExecuteTime": {
     "end_time": "2021-04-01T13:49:15.742660Z",
     "start_time": "2021-04-01T13:49:15.735042Z"
    },
    "hidden": true
   },
   "outputs": [
    {
     "data": {
      "text/plain": [
       "array([ 1.,  1., -1.])"
      ]
     },
     "execution_count": 247,
     "metadata": {},
     "output_type": "execute_result"
    }
   ],
   "source": [
    "# np.diagonal() - Pega a DIAGONAL deu uma matriz 2x2\n",
    "\n",
    "game.board.diagonal() # Diagonal 1"
   ]
  },
  {
   "cell_type": "code",
   "execution_count": 246,
   "metadata": {
    "ExecuteTime": {
     "end_time": "2021-04-01T13:49:12.721172Z",
     "start_time": "2021-04-01T13:49:12.713511Z"
    },
    "hidden": true
   },
   "outputs": [
    {
     "data": {
      "text/plain": [
       "array([-1.,  1., -1.])"
      ]
     },
     "execution_count": 246,
     "metadata": {},
     "output_type": "execute_result"
    }
   ],
   "source": [
    "#np.fliplr( MATRIZ ) + diagonal() - Pega a diagonal contrária\n",
    "\n",
    "np.fliplr(game.board).diagonal() # Diagonal 2"
   ]
  },
  {
   "cell_type": "code",
   "execution_count": 252,
   "metadata": {
    "ExecuteTime": {
     "end_time": "2021-04-01T13:50:30.056262Z",
     "start_time": "2021-04-01T13:50:30.051965Z"
    },
    "hidden": true,
    "scrolled": true
   },
   "outputs": [
    {
     "name": "stdout",
     "output_type": "stream",
     "text": [
      "printou\n"
     ]
    }
   ],
   "source": [
    "# testando se consigo comparar condição com matriz 2x2\n",
    "\n",
    "if 1 in game.board:\n",
    "    print('printou')"
   ]
  },
  {
   "cell_type": "markdown",
   "metadata": {},
   "source": [
    "## Q Learning"
   ]
  },
  {
   "cell_type": "code",
   "execution_count": 354,
   "metadata": {
    "ExecuteTime": {
     "end_time": "2021-04-01T16:06:18.184714Z",
     "start_time": "2021-04-01T16:06:18.174079Z"
    },
    "code_folding": []
   },
   "outputs": [],
   "source": [
    "class qLearning(object):\n",
    "\n",
    "    \n",
    "    \n",
    "    \n",
    "    def __init__(self):\n",
    "        # Tabela Q (Estados , Ações ) Ações são 1 apenas (X)\n",
    "        self.Q = np.zeros( (3,3) )\n",
    "        # the percentage of tiem when we should take the best action\n",
    "        epsilon = 0.2\n",
    "        # Discount for future rewards\n",
    "        gamma   = 0.9\n",
    "        # learning rate - the rate at which the AI agent should learn\n",
    "        lr      = 0.9\n",
    "\n",
    "    \n",
    "    def reward(self, result):\n",
    "        if result == 1:  # Vitória\n",
    "            return 1\n",
    "        if result == -1: # Derrota\n",
    "            return 0\n",
    "        if result == 0:  # Empate\n",
    "            return 0.5\n",
    "    \n",
    "    def update_q(self, row, col, reward):\n",
    "        \n",
    "        self.Q[row][col] = self.Q[row][col] + lr*( reward + gamma* np.max(self.Q) - self.Q[row][col] )\n",
    "        \n",
    "    "
   ]
  },
  {
   "cell_type": "code",
   "execution_count": 319,
   "metadata": {
    "ExecuteTime": {
     "end_time": "2021-04-01T15:21:46.774072Z",
     "start_time": "2021-04-01T15:21:46.767593Z"
    }
   },
   "outputs": [],
   "source": [
    "Q[2][1] = 1"
   ]
  },
  {
   "cell_type": "code",
   "execution_count": 324,
   "metadata": {
    "ExecuteTime": {
     "end_time": "2021-04-01T15:22:15.855289Z",
     "start_time": "2021-04-01T15:22:15.845506Z"
    }
   },
   "outputs": [
    {
     "data": {
      "text/plain": [
       "1.0"
      ]
     },
     "execution_count": 324,
     "metadata": {},
     "output_type": "execute_result"
    }
   ],
   "source": [
    "np.max(Q)"
   ]
  }
 ],
 "metadata": {
  "kernelspec": {
   "display_name": "Python 3",
   "language": "python",
   "name": "python3"
  },
  "language_info": {
   "codemirror_mode": {
    "name": "ipython",
    "version": 3
   },
   "file_extension": ".py",
   "mimetype": "text/x-python",
   "name": "python",
   "nbconvert_exporter": "python",
   "pygments_lexer": "ipython3",
   "version": "3.6.9"
  }
 },
 "nbformat": 4,
 "nbformat_minor": 2
}
