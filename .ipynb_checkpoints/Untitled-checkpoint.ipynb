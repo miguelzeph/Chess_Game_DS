{
 "cells": [
  {
   "cell_type": "code",
   "execution_count": 39,
   "metadata": {
    "ExecuteTime": {
     "end_time": "2021-03-30T19:48:47.875013Z",
     "start_time": "2021-03-30T19:48:47.870124Z"
    }
   },
   "outputs": [],
   "source": [
    "import numpy as np"
   ]
  },
  {
   "cell_type": "code",
   "execution_count": 95,
   "metadata": {
    "ExecuteTime": {
     "end_time": "2021-03-30T21:28:48.012715Z",
     "start_time": "2021-03-30T21:28:47.998612Z"
    }
   },
   "outputs": [
    {
     "data": {
      "text/plain": [
       "array([[0., 0., 0.],\n",
       "       [0., 0., 0.],\n",
       "       [0., 0., 0.]])"
      ]
     },
     "execution_count": 95,
     "metadata": {},
     "output_type": "execute_result"
    }
   ],
   "source": [
    "class Game(object):\n",
    "    \n",
    "    def __init__(self):\n",
    "        self.board = np.zeros((3,3))\n",
    "        self.p1 = 1\n",
    "        self.p2 = -1\n",
    "    \n",
    "    def restart_board(self):\n",
    "        self.board = np.zeros((3,3))\n",
    "    \n",
    "    def select_pos(self, row, col, player):\n",
    "        if self.board[row,col] == 0:\n",
    "            self.board[row,col] = player\n",
    "             \n",
    "        \n",
    "game = Game()\n",
    "game.board"
   ]
  },
  {
   "cell_type": "code",
   "execution_count": 96,
   "metadata": {
    "ExecuteTime": {
     "end_time": "2021-03-30T21:29:39.546855Z",
     "start_time": "2021-03-30T21:29:39.541770Z"
    }
   },
   "outputs": [],
   "source": [
    "game.select_pos(0,0,1)"
   ]
  },
  {
   "cell_type": "code",
   "execution_count": 97,
   "metadata": {
    "ExecuteTime": {
     "end_time": "2021-03-30T21:29:48.790293Z",
     "start_time": "2021-03-30T21:29:48.780783Z"
    }
   },
   "outputs": [
    {
     "data": {
      "text/plain": [
       "array([[1., 0., 0.],\n",
       "       [0., 0., 0.],\n",
       "       [0., 0., 0.]])"
      ]
     },
     "execution_count": 97,
     "metadata": {},
     "output_type": "execute_result"
    }
   ],
   "source": [
    "game.board"
   ]
  }
 ],
 "metadata": {
  "kernelspec": {
   "display_name": "Python 3",
   "language": "python",
   "name": "python3"
  },
  "language_info": {
   "codemirror_mode": {
    "name": "ipython",
    "version": 3
   },
   "file_extension": ".py",
   "mimetype": "text/x-python",
   "name": "python",
   "nbconvert_exporter": "python",
   "pygments_lexer": "ipython3",
   "version": "3.6.9"
  }
 },
 "nbformat": 4,
 "nbformat_minor": 2
}
