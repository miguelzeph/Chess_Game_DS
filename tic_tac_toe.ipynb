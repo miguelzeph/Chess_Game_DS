{
 "cells": [
  {
   "cell_type": "markdown",
   "metadata": {},
   "source": [
    "## AMBIENTE "
   ]
  },
  {
   "cell_type": "code",
   "execution_count": 103,
   "metadata": {
    "ExecuteTime": {
     "end_time": "2021-04-01T12:51:24.467464Z",
     "start_time": "2021-04-01T12:51:24.464532Z"
    }
   },
   "outputs": [],
   "source": [
    "import numpy as np\n",
    "import random"
   ]
  },
  {
   "cell_type": "code",
   "execution_count": 316,
   "metadata": {
    "ExecuteTime": {
     "end_time": "2021-04-01T14:55:51.471118Z",
     "start_time": "2021-04-01T14:55:51.463715Z"
    }
   },
   "outputs": [
    {
     "data": {
      "text/plain": [
       "array([[0., 0., 0.],\n",
       "       [0., 0., 0.],\n",
       "       [0., 0., 0.]])"
      ]
     },
     "execution_count": 316,
     "metadata": {},
     "output_type": "execute_result"
    }
   ],
   "source": [
    "\"\"\"\n",
    "Exemplo de Q( ESTADO , AÇÕES )\n",
    "\n",
    "Q = np.zeros( (3,3,4) )\n",
    "Significa que você tem uma Matriz 3 x 3 com 9 possibilidade de ESTADOS\n",
    "( neste caso, jogo da velha, são posições espaciais)\n",
    "e em casa posição você tem 4 posibilidades AÇÔES (imagine um jogo com cima, baixo, esquerda, direita)\n",
    "\"\"\"\n",
    "\n",
    "\"\"\"\n",
    "Veja que não iremos colocar ações aqui, pois só existe uma por player... 1 para p1 e -1 para p2...\n",
    "ou seja, o player 1 só pode jogar X... ele não pode jogar W, K, B etc...  fixando o exemplo do personagem,\n",
    "imagine que você pode ir para cima, baixo, esquerda e direita... temos aqui 4 estados possíveis\n",
    "\"\"\"\n",
    "Q = np.zeros( (3,3) )\n",
    "Q"
   ]
  },
  {
   "cell_type": "code",
   "execution_count": null,
   "metadata": {},
   "outputs": [],
   "source": [
    "y = x.copy()"
   ]
  },
  {
   "cell_type": "code",
   "execution_count": 940,
   "metadata": {
    "ExecuteTime": {
     "end_time": "2021-04-01T23:06:33.071681Z",
     "start_time": "2021-04-01T23:06:33.064925Z"
    }
   },
   "outputs": [
    {
     "data": {
      "text/plain": [
       "(array([0, 1, 2, 3]),)"
      ]
     },
     "execution_count": 940,
     "metadata": {},
     "output_type": "execute_result"
    }
   ],
   "source": [
    "x = [0,0,0,0]\n",
    "y = x.copy()\n",
    "del y[0]\n",
    "np.where( x == np.max(x) )"
   ]
  },
  {
   "cell_type": "code",
   "execution_count": 942,
   "metadata": {
    "ExecuteTime": {
     "end_time": "2021-04-01T23:06:37.467587Z",
     "start_time": "2021-04-01T23:06:37.460460Z"
    }
   },
   "outputs": [
    {
     "data": {
      "text/plain": [
       "[0, 0, 0]"
      ]
     },
     "execution_count": 942,
     "metadata": {},
     "output_type": "execute_result"
    }
   ],
   "source": [
    "y"
   ]
  },
  {
   "cell_type": "code",
   "execution_count": null,
   "metadata": {},
   "outputs": [],
   "source": []
  },
  {
   "cell_type": "code",
   "execution_count": 965,
   "metadata": {
    "ExecuteTime": {
     "end_time": "2021-04-01T23:17:47.562645Z",
     "start_time": "2021-04-01T23:17:47.486628Z"
    },
    "code_folding": [
     2,
     14,
     18,
     54,
     83,
     135
    ],
    "scrolled": true
   },
   "outputs": [
    {
     "data": {
      "text/plain": [
       "array([[0., 0., 0.],\n",
       "       [0., 0., 0.],\n",
       "       [0., 0., 0.]])"
      ]
     },
     "execution_count": 965,
     "metadata": {},
     "output_type": "execute_result"
    }
   ],
   "source": [
    "class Game(qLearning):\n",
    "    \n",
    "    def __init__(self):\n",
    "        \n",
    "        \"\"\"\n",
    "        As perspectivas de vitórias e derrota são sempre\n",
    "        relacionadas com o player 1 (p1), ele é o nosso\n",
    "        jogador principal (máquina que será treinada)\n",
    "        \"\"\"\n",
    "        super().__init__()\n",
    "        self.board = np.zeros((3,3))\n",
    "        self.player = 1 # player1 = 1      player2 = -1\n",
    "    \n",
    "    # reset game\n",
    "    def reset (self):\n",
    "        self.board = np.zeros((3,3))\n",
    "    \n",
    "    # draw board\n",
    "    def draw_board(self):\n",
    "        \n",
    "        draw = ''\n",
    "\n",
    "        for i in range(3):\n",
    "            for j in range(3):\n",
    "                simbolo = ''\n",
    "                # simbolo X (p1 = 1) ou O (p2 = -1)\n",
    "                if game.board[i][j] == 1:\n",
    "                    symbol = 'X'\n",
    "                elif game.board[i][j] == -1:\n",
    "                    symbol = 'O'\n",
    "                else:\n",
    "                    symbol = ' '\n",
    "\n",
    "\n",
    "                draw += '|'+symbol+''\n",
    "\n",
    "\n",
    "\n",
    "                if j == 2:\n",
    "\n",
    "                    draw +='|\\n-------\\n'\n",
    "        \n",
    "        print(draw)\n",
    "        \n",
    "    # available_moves\n",
    "    def available_moves(self):\n",
    "        return np.argwhere(self.board == 0)\n",
    "    \n",
    "    # random available move choice\n",
    "    def available_move_choice(self):\n",
    "        return random.choice(self.available_moves())\n",
    "    \n",
    "    \n",
    "    # jogada - Random \n",
    "    def select_pos_by_random(self, player, name):\n",
    "        \"\"\"\n",
    "        # get INDEX row and col equals zero (posição livre pra jogar)\n",
    "        available_pos = np.where( game.board == 0 )\n",
    "\n",
    "        row = available_pos[0]\n",
    "        col = available_pos[1]\n",
    "\n",
    "        # list_index_available\n",
    "        list_index_available = [[r,c] for r,c in zip(row,col)]\n",
    "        \n",
    "        # sort one randomly\n",
    "        row_col = random.sample(list_index_available, k = 1)[0]\n",
    "        \"\"\"\n",
    "        \n",
    "        row_col = self.available_move_choice()\n",
    "        \n",
    "        \n",
    "        \n",
    "        row = row_col[0] # Linha\n",
    "        col = row_col[1] # Coluna\n",
    "\n",
    "        self.board[row][col] = player\n",
    "        \n",
    "        print(name + f' jogou na posição { str(row_col) }')\n",
    "        \n",
    "        return row,col\n",
    "    \n",
    "    # jogada - Human\n",
    "    def select_pos_by_human(self, player, name):\n",
    "        \n",
    "        while True:\n",
    "            row = int( input(name+' row :') )\n",
    "            col = int( input(name+' col :') )\n",
    "\n",
    "            # Tem que checar se a posição está ocupada\n",
    "            if self.board[row,col] == 0:\n",
    "                self.board[row,col] = player\n",
    "                break\n",
    "            else:\n",
    "                print('p1 escolha outra posição...')\n",
    "        return row,col\n",
    "    \n",
    "    # jogada - QLearning\n",
    "    def select_pos_by_q(self, player, name):\n",
    "        \n",
    "    \n",
    "        if np.random.uniform(0, 1) <= self.epsilon:\n",
    "            self.select_pos_by_random(player =  player, name =  name)\n",
    "            \n",
    "            \n",
    "        else:\n",
    "            \n",
    "            Q_new = self.Q # Caso de empates, eu faço uma cópia e deleto os valores\n",
    "            \n",
    "            while True:\n",
    "                # Veja os valores disponíveis\n",
    "                available_moves = self.available_move_choice()\n",
    "\n",
    "                # pegue o ÍNDICE com o  ESTADO na tabela Q com maior valores\n",
    "                q_max_pos = np.where( Q_new == np.max(Q_new) )\n",
    "\n",
    "                row = q_max_pos[0][0]\n",
    "                col = q_max_pos[1][0]\n",
    "\n",
    "                if [row,col] in available_moves:\n",
    "\n",
    "                    print(q_max_pos, row, col)\n",
    "\n",
    "                    # Jogar no Tabuleiro\n",
    "                    self.board[row][col] = player\n",
    "\n",
    "                    return row,col\n",
    "\n",
    "\n",
    "                else:\n",
    "                    # Remove o maior valor disponível... tenta outro\n",
    "                    del Q_new[row][col]\n",
    "                \n",
    "    \n",
    "    # chegar vencedor\n",
    "    def check_win(self):\n",
    "        \n",
    "        # Row\n",
    "        if sum(self.board[0]) == 3 or sum(self.board[1]) == 3 or sum(self.board[2]) == 3:\n",
    "            #print('venceu')\n",
    "            return 1\n",
    "        if sum(self.board[0]) == -3 or sum(self.board[1]) == -3 or sum(self.board[2]) == -3:\n",
    "            #print('perdeu')\n",
    "            return -1\n",
    "        # Col\n",
    "        if sum(self.board[:,0]) == 3 or sum(self.board[:,1]) == 3 or sum(self.board[:,2]) == 3:\n",
    "            #print('venceu')\n",
    "            return 1\n",
    "        if sum(self.board[:,0]) == - 3 or sum(self.board[:,1]) == - 3 or sum(self.board[:,2]) == - 3:\n",
    "            #print('perdeu')\n",
    "            return -1\n",
    "        # Diagonal\n",
    "        if sum(game.board.diagonal()) == 3 or sum(np.fliplr(game.board).diagonal()) == 3:\n",
    "            #print('venceu')\n",
    "            return 1\n",
    "        if sum(game.board.diagonal()) == -3 or sum(np.fliplr(game.board).diagonal()) == -3:\n",
    "            #print('perdeu')\n",
    "            return -1\n",
    "        # Empate\n",
    "        if not 0 in self.board:\n",
    "            #print('empate')\n",
    "            return 0\n",
    "        \n",
    "        # continua = 2, empate = 0, vitoria = 1, derrota = -1\n",
    "        return 2\n",
    "        \n",
    "    # iniciar o Jogo\n",
    "    def start(self):\n",
    "        \n",
    "        print ( 'player 1 = X\\nplayer 2 = O\\n')\n",
    "        while True:\n",
    "            \n",
    "            # player 1 joga\n",
    "            #pos = self.select_pos_by_q(self.p1, name = 'player 1')\n",
    "            pos = self.select_pos_by_q(self.player, name = 'player '+str(self.player))\n",
    "            # desenhar jogada do player 1\n",
    "            self.draw_board()\n",
    "            \n",
    "            \n",
    "            \n",
    "            # update_q\n",
    "            self.update_q(\n",
    "                    row    = pos[0],\n",
    "                    col    = pos[1],\n",
    "                    reward = self.reward(result = self.check_win() )\n",
    "                )\n",
    "            print(self.Q)\n",
    "            # checa resultado\n",
    "            if self.check_win() != 2: # continua = 2, empate = 0, vitoria = 1, derrota = -1\n",
    "                \n",
    "                \"\"\"self.update_q(\n",
    "                    row    = pos[0],\n",
    "                    col    = pos[1],\n",
    "                    reward = self.reward(result = self.check_win() )\n",
    "                )\"\"\"\n",
    "                break\n",
    "                \n",
    "            self.player *= -1 # switch players\n",
    "            \n",
    "            \"\"\"\n",
    "            # player 2 joga\n",
    "            pos = self.select_pos_by_random(self.p2, name = 'player 2')\n",
    "            # desenhar jogada player 2\n",
    "            self.draw_board()\n",
    "            # checar resultado\n",
    "            if self.check_win() != 2: # continua = 2, empate = 0, vitoria = 1, derrota = -1\n",
    "                \n",
    "                self.update_q(\n",
    "                    row    = pos[0],\n",
    "                    col    = pos[1],\n",
    "                    reward = self.reward(result = self.check_win() )\n",
    "                )\n",
    "                break\"\"\"\n",
    "        \n",
    "        \n",
    "        estado = self.check_win() # ESTADO\n",
    "    \n",
    "        if estado == 1:\n",
    "            print('venceu')\n",
    "        if estado == -1:\n",
    "            print('perdeu')\n",
    "        if estado == 0:\n",
    "            print('empate')\n",
    "        \n",
    "        #return estado # ESTADO\n",
    "        \n",
    "        \n",
    "\n",
    "\n",
    "game = Game()\n",
    "game.board"
   ]
  },
  {
   "cell_type": "code",
   "execution_count": 966,
   "metadata": {
    "ExecuteTime": {
     "end_time": "2021-04-01T23:17:50.403587Z",
     "start_time": "2021-04-01T23:17:50.385816Z"
    },
    "scrolled": false
   },
   "outputs": [
    {
     "name": "stdout",
     "output_type": "stream",
     "text": [
      "player 1 = X\n",
      "player 2 = O\n",
      "\n",
      "player 1 jogou na posição [0 0]\n",
      "|X| | |\n",
      "-------\n",
      "| | | |\n",
      "-------\n",
      "| | | |\n",
      "-------\n",
      "\n"
     ]
    },
    {
     "ename": "TypeError",
     "evalue": "'NoneType' object is not subscriptable",
     "output_type": "error",
     "traceback": [
      "\u001b[0;31m---------------------------------------------------------------------------\u001b[0m",
      "\u001b[0;31mTypeError\u001b[0m                                 Traceback (most recent call last)",
      "\u001b[0;32m<ipython-input-966-adad24d56b5e>\u001b[0m in \u001b[0;36m<module>\u001b[0;34m\u001b[0m\n\u001b[1;32m      1\u001b[0m \u001b[0mgame\u001b[0m\u001b[0;34m.\u001b[0m\u001b[0mreset\u001b[0m\u001b[0;34m(\u001b[0m\u001b[0;34m)\u001b[0m\u001b[0;34m\u001b[0m\u001b[0;34m\u001b[0m\u001b[0m\n\u001b[0;32m----> 2\u001b[0;31m \u001b[0mgame\u001b[0m\u001b[0;34m.\u001b[0m\u001b[0mstart\u001b[0m\u001b[0;34m(\u001b[0m\u001b[0;34m)\u001b[0m\u001b[0;34m\u001b[0m\u001b[0;34m\u001b[0m\u001b[0m\n\u001b[0m",
      "\u001b[0;32m<ipython-input-965-5bebe5248c04>\u001b[0m in \u001b[0;36mstart\u001b[0;34m(self)\u001b[0m\n\u001b[1;32m    181\u001b[0m             \u001b[0;31m# update_q\u001b[0m\u001b[0;34m\u001b[0m\u001b[0;34m\u001b[0m\u001b[0;34m\u001b[0m\u001b[0m\n\u001b[1;32m    182\u001b[0m             self.update_q(\n\u001b[0;32m--> 183\u001b[0;31m                     \u001b[0mrow\u001b[0m    \u001b[0;34m=\u001b[0m \u001b[0mpos\u001b[0m\u001b[0;34m[\u001b[0m\u001b[0;36m0\u001b[0m\u001b[0;34m]\u001b[0m\u001b[0;34m,\u001b[0m\u001b[0;34m\u001b[0m\u001b[0;34m\u001b[0m\u001b[0m\n\u001b[0m\u001b[1;32m    184\u001b[0m                     \u001b[0mcol\u001b[0m    \u001b[0;34m=\u001b[0m \u001b[0mpos\u001b[0m\u001b[0;34m[\u001b[0m\u001b[0;36m1\u001b[0m\u001b[0;34m]\u001b[0m\u001b[0;34m,\u001b[0m\u001b[0;34m\u001b[0m\u001b[0;34m\u001b[0m\u001b[0m\n\u001b[1;32m    185\u001b[0m                     \u001b[0mreward\u001b[0m \u001b[0;34m=\u001b[0m \u001b[0mself\u001b[0m\u001b[0;34m.\u001b[0m\u001b[0mreward\u001b[0m\u001b[0;34m(\u001b[0m\u001b[0mresult\u001b[0m \u001b[0;34m=\u001b[0m \u001b[0mself\u001b[0m\u001b[0;34m.\u001b[0m\u001b[0mcheck_win\u001b[0m\u001b[0;34m(\u001b[0m\u001b[0;34m)\u001b[0m \u001b[0;34m)\u001b[0m\u001b[0;34m\u001b[0m\u001b[0;34m\u001b[0m\u001b[0m\n",
      "\u001b[0;31mTypeError\u001b[0m: 'NoneType' object is not subscriptable"
     ]
    }
   ],
   "source": [
    "game.reset()\n",
    "game.start()\n"
   ]
  },
  {
   "cell_type": "markdown",
   "metadata": {},
   "source": [
    "### Testes para criar o Ambiente"
   ]
  },
  {
   "cell_type": "code",
   "execution_count": null,
   "metadata": {},
   "outputs": [],
   "source": []
  },
  {
   "cell_type": "code",
   "execution_count": 248,
   "metadata": {
    "ExecuteTime": {
     "end_time": "2021-04-01T13:49:37.025135Z",
     "start_time": "2021-04-01T13:49:37.018853Z"
    },
    "scrolled": true
   },
   "outputs": [
    {
     "data": {
      "text/plain": [
       "array([[ 1., -1., -1.],\n",
       "       [ 1.,  1.,  1.],\n",
       "       [-1.,  1., -1.]])"
      ]
     },
     "execution_count": 248,
     "metadata": {},
     "output_type": "execute_result"
    }
   ],
   "source": [
    "game.board"
   ]
  },
  {
   "cell_type": "code",
   "execution_count": 392,
   "metadata": {
    "ExecuteTime": {
     "end_time": "2021-04-01T16:30:39.445908Z",
     "start_time": "2021-04-01T16:30:39.438997Z"
    }
   },
   "outputs": [
    {
     "data": {
      "text/plain": [
       "[[0, 0, 0], [0, 0.1, 0], [0.08100000000000002, 0, 0]]"
      ]
     },
     "execution_count": 392,
     "metadata": {},
     "output_type": "execute_result"
    }
   ],
   "source": [
    "game.Q"
   ]
  },
  {
   "cell_type": "code",
   "execution_count": 944,
   "metadata": {
    "ExecuteTime": {
     "end_time": "2021-04-01T23:06:59.133276Z",
     "start_time": "2021-04-01T23:06:59.125571Z"
    }
   },
   "outputs": [
    {
     "name": "stdout",
     "output_type": "stream",
     "text": [
      "| | | |\n",
      "-------\n",
      "| | |X|\n",
      "-------\n",
      "| | | |\n",
      "-------\n",
      "\n"
     ]
    }
   ],
   "source": [
    "printar = ''\n",
    "\n",
    "for i in range(3):\n",
    "\n",
    "    for j in range(3):\n",
    "        simbolo = ''\n",
    "        # simbolo X (p1 = 1) ou O (p2 = -1)\n",
    "        if game.board[i][j] == 1:\n",
    "            symbol = 'X'\n",
    "        elif game.board[i][j] == -1:\n",
    "            symbol = 'O'\n",
    "        else:\n",
    "            symbol = ' '\n",
    "            \n",
    "        \n",
    "        printar += '|'+symbol+''\n",
    "        \n",
    "        \n",
    "        \n",
    "        if j == 2:\n",
    "            \n",
    "            printar +='|\\n-------\\n'\n",
    "    \n",
    "\n",
    "print(printar)"
   ]
  },
  {
   "cell_type": "code",
   "execution_count": 123,
   "metadata": {
    "ExecuteTime": {
     "end_time": "2021-04-01T12:54:56.134272Z",
     "start_time": "2021-04-01T12:54:56.127494Z"
    }
   },
   "outputs": [],
   "source": [
    "# np.where ( LISTA == VALOR ) - pega os índices de acordo com os valores\n",
    "# random.sample(list_index_available, k = 1)[0] - pega uma amostra aleatoriamente\n",
    "\n",
    "# get INDEX row and col equals zero (posição livre pra jogar)\n",
    "available_pos = np.where(game.board == 0)\n",
    "\n",
    "\n",
    "row = available_pos[0]\n",
    "col = available_pos[1]\n",
    "\n",
    "# list_index_available\n",
    "list_index_available = [[r,c] for r,c in zip(row,col)]\n",
    "\n",
    "# sort one\n",
    "row_col = random.sample(list_index_available, k = 1)[0]\n",
    "\n",
    "row = row_col[0]\n",
    "col = row_col[1]\n",
    "\n",
    "game.board[row][col] , row_col"
   ]
  },
  {
   "cell_type": "code",
   "execution_count": 88,
   "metadata": {
    "ExecuteTime": {
     "end_time": "2021-04-01T12:37:48.462175Z",
     "start_time": "2021-04-01T12:37:48.453334Z"
    }
   },
   "outputs": [
    {
     "data": {
      "text/plain": [
       "[(1, 2), (2, 0), (2, 1), (2, 2)]"
      ]
     },
     "execution_count": 88,
     "metadata": {},
     "output_type": "execute_result"
    }
   ],
   "source": [
    "list_index_available"
   ]
  },
  {
   "cell_type": "code",
   "execution_count": 27,
   "metadata": {
    "ExecuteTime": {
     "end_time": "2021-04-01T09:58:53.021104Z",
     "start_time": "2021-04-01T09:58:53.015132Z"
    }
   },
   "outputs": [],
   "source": [
    "game.select_pos(0,2,-1)"
   ]
  },
  {
   "cell_type": "code",
   "execution_count": 38,
   "metadata": {
    "ExecuteTime": {
     "end_time": "2021-04-01T10:34:22.331591Z",
     "start_time": "2021-04-01T10:34:22.324447Z"
    }
   },
   "outputs": [
    {
     "data": {
      "text/plain": [
       "0.0"
      ]
     },
     "execution_count": 38,
     "metadata": {},
     "output_type": "execute_result"
    }
   ],
   "source": [
    "game.board[0,1]"
   ]
  },
  {
   "cell_type": "code",
   "execution_count": 247,
   "metadata": {
    "ExecuteTime": {
     "end_time": "2021-04-01T13:49:15.742660Z",
     "start_time": "2021-04-01T13:49:15.735042Z"
    }
   },
   "outputs": [
    {
     "data": {
      "text/plain": [
       "array([ 1.,  1., -1.])"
      ]
     },
     "execution_count": 247,
     "metadata": {},
     "output_type": "execute_result"
    }
   ],
   "source": [
    "# np.diagonal() - Pega a DIAGONAL deu uma matriz 2x2\n",
    "\n",
    "game.board.diagonal() # Diagonal 1"
   ]
  },
  {
   "cell_type": "code",
   "execution_count": 246,
   "metadata": {
    "ExecuteTime": {
     "end_time": "2021-04-01T13:49:12.721172Z",
     "start_time": "2021-04-01T13:49:12.713511Z"
    }
   },
   "outputs": [
    {
     "data": {
      "text/plain": [
       "array([-1.,  1., -1.])"
      ]
     },
     "execution_count": 246,
     "metadata": {},
     "output_type": "execute_result"
    }
   ],
   "source": [
    "#np.fliplr( MATRIZ ) + diagonal() - Pega a diagonal contrária\n",
    "\n",
    "np.fliplr(game.board).diagonal() # Diagonal 2"
   ]
  },
  {
   "cell_type": "code",
   "execution_count": 252,
   "metadata": {
    "ExecuteTime": {
     "end_time": "2021-04-01T13:50:30.056262Z",
     "start_time": "2021-04-01T13:50:30.051965Z"
    },
    "scrolled": true
   },
   "outputs": [
    {
     "name": "stdout",
     "output_type": "stream",
     "text": [
      "printou\n"
     ]
    }
   ],
   "source": [
    "# testando se consigo comparar condição com matriz 2x2\n",
    "\n",
    "if 1 in game.board:\n",
    "    print('printou')"
   ]
  },
  {
   "cell_type": "markdown",
   "metadata": {},
   "source": [
    "## Agente"
   ]
  },
  {
   "cell_type": "code",
   "execution_count": null,
   "metadata": {},
   "outputs": [],
   "source": [
    "class Player(object):\n",
    "    def __init__(self,name, epsilon = 0.3):\n",
    "        self.name = name\n",
    "        self.states = [] # Record all positions taken\n",
    "        self.lr = 0.2\n",
    "        self.epsilon = epsilon\n",
    "        self.gamma = 0.9\n",
    "        self.states_value = {} # State -> Value\n",
    "        \n",
    "    def chooseAction(self, positions, current_board, symbol):\n",
    "        \n",
    "        if np.random.uniform(0,1) <= epsilon:\n",
    "            idx = np.random.choice(len(positions))\n",
    "            action = positions[idx]\n",
    "        else:\n",
    "            value_max = -999\n",
    "            \n",
    "            for p in positions:\n",
    "                next_board = current_board.copy()\n",
    "                next_board[p] = symbol\n",
    "                value = 0 if self.states_value.get(next_boardHash) is None else self.states_value.get(next_boardHash)\n",
    "                if value >= value_max:\n",
    "                    value_max = value\n",
    "                    action = p\n",
    "    \n",
    "        print(\"{} takes action {}\".format(self.name, action))\n",
    "        \n",
    "        return action\n",
    "    \n",
    "    def feedReward(self, reward):\n",
    "        for st in reversed(self.states):\n",
    "            if self.states_value.get(st) is None:\n",
    "                self.states_value[st] = 0\n",
    "            self.states_value[st] += self.lr * (self.decay_gamma * reward - self.states_value[st])\n",
    "            reward = self.states_value[st]\n",
    "    "
   ]
  },
  {
   "cell_type": "markdown",
   "metadata": {},
   "source": [
    "## Q Learning"
   ]
  },
  {
   "cell_type": "code",
   "execution_count": 943,
   "metadata": {
    "ExecuteTime": {
     "end_time": "2021-04-01T23:06:54.333411Z",
     "start_time": "2021-04-01T23:06:54.319915Z"
    },
    "code_folding": []
   },
   "outputs": [],
   "source": [
    "class qLearning(object):\n",
    "\n",
    "    \n",
    "    def __init__(self):\n",
    "        \n",
    "        \n",
    "        \n",
    "        self.Q = [\n",
    "            # ações\n",
    "            [0,0,0],#estados\n",
    "            [0,0,0],# estados\n",
    "            [0,0,0] #estados\n",
    "        ]\n",
    "        self.Q_status = {} # Cada ação \n",
    "        # the percentage of tiem when we should take the best action\n",
    "        self.epsilon = 0.2\n",
    "        # Discount for future rewards\n",
    "        self.gamma   = 0.9\n",
    "        # learning rate - the rate at which the AI agent should learn\n",
    "        self.lr      = 0.9 # ALPHA\n",
    "\n",
    "    \n",
    "    def reward(self, result):\n",
    "        if result == 1:  # Vitória\n",
    "            return 1\n",
    "        if result == -1: # Derrota\n",
    "            return -1\n",
    "        if result == 0:  # Empate\n",
    "            return 0.5\n",
    "        if result == 2:  # nada\n",
    "            return 0\n",
    "    \n",
    "    def update_q(self, row, col, reward):\n",
    "        \n",
    "        self.Q[row][col] = self.Q[row][col] + self.lr*( reward + self.gamma* np.max(self.Q) - self.Q[row][col] )\n",
    "        \n",
    "    "
   ]
  },
  {
   "cell_type": "code",
   "execution_count": null,
   "metadata": {},
   "outputs": [],
   "source": []
  },
  {
   "cell_type": "code",
   "execution_count": 319,
   "metadata": {
    "ExecuteTime": {
     "end_time": "2021-04-01T15:21:46.774072Z",
     "start_time": "2021-04-01T15:21:46.767593Z"
    }
   },
   "outputs": [],
   "source": [
    "Q[2][1] = 1"
   ]
  },
  {
   "cell_type": "code",
   "execution_count": 324,
   "metadata": {
    "ExecuteTime": {
     "end_time": "2021-04-01T15:22:15.855289Z",
     "start_time": "2021-04-01T15:22:15.845506Z"
    }
   },
   "outputs": [
    {
     "data": {
      "text/plain": [
       "1.0"
      ]
     },
     "execution_count": 324,
     "metadata": {},
     "output_type": "execute_result"
    }
   ],
   "source": [
    "np.max(Q)"
   ]
  },
  {
   "cell_type": "code",
   "execution_count": 396,
   "metadata": {
    "ExecuteTime": {
     "end_time": "2021-04-01T16:36:53.088430Z",
     "start_time": "2021-04-01T16:36:53.073405Z"
    }
   },
   "outputs": [
    {
     "data": {
      "text/plain": [
       "40"
      ]
     },
     "execution_count": 396,
     "metadata": {},
     "output_type": "execute_result"
    }
   ],
   "source": [
    "# Exemplo de herança de classe\n",
    "\n",
    "class Personagem(object):\n",
    "    k = 10\n",
    "    def __init__(self, nome):\n",
    "        self.nome = nome\n",
    "        \n",
    "    def ataque(self, alvo):\n",
    "        alvo.hp -= self.mp\n",
    "\n",
    "# Raças \n",
    "class Dracula(Personagem):\n",
    "    def __init__(self,nome):\n",
    "        super().__init__(nome)\n",
    "        self.hp = 100\n",
    "        self.mp = 10            \n",
    "class Ghoust(Personagem):\n",
    "    def __init__(self,nome):\n",
    "        super().__init__(nome)\n",
    "        self.hp = 50\n",
    "        self.mp = 30\n",
    "\n",
    "p1 = Dracula('player 1')\n",
    "p2 = Ghoust('player 2')\n",
    "\n",
    "p1.ataque(p2)\n",
    "p2.hp"
   ]
  }
 ],
 "metadata": {
  "kernelspec": {
   "display_name": "Python 3",
   "language": "python",
   "name": "python3"
  },
  "language_info": {
   "codemirror_mode": {
    "name": "ipython",
    "version": 3
   },
   "file_extension": ".py",
   "mimetype": "text/x-python",
   "name": "python",
   "nbconvert_exporter": "python",
   "pygments_lexer": "ipython3",
   "version": "3.6.9"
  }
 },
 "nbformat": 4,
 "nbformat_minor": 2
}
