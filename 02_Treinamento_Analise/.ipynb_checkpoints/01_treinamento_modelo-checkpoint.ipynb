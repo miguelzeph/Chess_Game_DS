{
 "cells": [
  {
   "cell_type": "markdown",
   "metadata": {},
   "source": [
    "# Treinamento e Análise"
   ]
  },
  {
   "cell_type": "code",
   "execution_count": 1,
   "metadata": {},
   "outputs": [],
   "source": [
    "import pandas as pd\n",
    "import os\n",
    "import seaborn as sns\n",
    "import numpy as np\n",
    "import matplotlib.pyplot as plt"
   ]
  },
  {
   "cell_type": "code",
   "execution_count": 2,
   "metadata": {},
   "outputs": [
    {
     "data": {
      "text/plain": [
       "['.ipynb_checkpoints',\n",
       " 'Teste_Start_Game.ipynb',\n",
       " 'dados.pkl',\n",
       " 'Start_Game.ipynb']"
      ]
     },
     "execution_count": 2,
     "metadata": {},
     "output_type": "execute_result"
    }
   ],
   "source": [
    "os.listdir('../01_Desenvolvimento_extracao/')\n",
    "# ..= voltar 1 pasta\n",
    "# . = daqui pra cá"
   ]
  },
  {
   "cell_type": "code",
   "execution_count": 3,
   "metadata": {},
   "outputs": [],
   "source": [
    "df = pd.read_pickle('../01_Desenvolvimento_extracao/dados.pkl')"
   ]
  },
  {
   "cell_type": "code",
   "execution_count": 4,
   "metadata": {},
   "outputs": [
    {
     "data": {
      "text/html": [
       "<div>\n",
       "<style scoped>\n",
       "    .dataframe tbody tr th:only-of-type {\n",
       "        vertical-align: middle;\n",
       "    }\n",
       "\n",
       "    .dataframe tbody tr th {\n",
       "        vertical-align: top;\n",
       "    }\n",
       "\n",
       "    .dataframe thead th {\n",
       "        text-align: right;\n",
       "    }\n",
       "</style>\n",
       "<table border=\"1\" class=\"dataframe\">\n",
       "  <thead>\n",
       "    <tr style=\"text-align: right;\">\n",
       "      <th></th>\n",
       "      <th>1</th>\n",
       "      <th>2</th>\n",
       "      <th>3</th>\n",
       "      <th>4</th>\n",
       "      <th>5</th>\n",
       "      <th>6</th>\n",
       "      <th>7</th>\n",
       "      <th>8</th>\n",
       "      <th>9</th>\n",
       "      <th>resultado</th>\n",
       "    </tr>\n",
       "  </thead>\n",
       "  <tbody>\n",
       "    <tr>\n",
       "      <th>11496</th>\n",
       "      <td>0.5</td>\n",
       "      <td>0.5</td>\n",
       "      <td>0</td>\n",
       "      <td>0.0</td>\n",
       "      <td>0</td>\n",
       "      <td>1</td>\n",
       "      <td>1</td>\n",
       "      <td>1</td>\n",
       "      <td>1</td>\n",
       "      <td>0</td>\n",
       "    </tr>\n",
       "    <tr>\n",
       "      <th>11497</th>\n",
       "      <td>0</td>\n",
       "      <td>0.5</td>\n",
       "      <td>1</td>\n",
       "      <td>1.0</td>\n",
       "      <td>0</td>\n",
       "      <td>0</td>\n",
       "      <td>1</td>\n",
       "      <td>1</td>\n",
       "      <td>0</td>\n",
       "      <td>1</td>\n",
       "    </tr>\n",
       "    <tr>\n",
       "      <th>11498</th>\n",
       "      <td>0</td>\n",
       "      <td>0.5</td>\n",
       "      <td>1</td>\n",
       "      <td>1.0</td>\n",
       "      <td>1</td>\n",
       "      <td>1</td>\n",
       "      <td>0.5</td>\n",
       "      <td>0</td>\n",
       "      <td>0</td>\n",
       "      <td>0</td>\n",
       "    </tr>\n",
       "    <tr>\n",
       "      <th>11499</th>\n",
       "      <td>1</td>\n",
       "      <td>0</td>\n",
       "      <td>0</td>\n",
       "      <td>1.0</td>\n",
       "      <td>1</td>\n",
       "      <td>0</td>\n",
       "      <td>1</td>\n",
       "      <td>0</td>\n",
       "      <td>1</td>\n",
       "      <td>0</td>\n",
       "    </tr>\n",
       "    <tr>\n",
       "      <th>11500</th>\n",
       "      <td>1</td>\n",
       "      <td>0</td>\n",
       "      <td>1</td>\n",
       "      <td>0.0</td>\n",
       "      <td>0</td>\n",
       "      <td>1</td>\n",
       "      <td>0.5</td>\n",
       "      <td>0.5</td>\n",
       "      <td>1</td>\n",
       "      <td>0</td>\n",
       "    </tr>\n",
       "  </tbody>\n",
       "</table>\n",
       "</div>"
      ],
      "text/plain": [
       "         1    2  3    4  5  6    7    8  9 resultado\n",
       "11496  0.5  0.5  0  0.0  0  1    1    1  1         0\n",
       "11497    0  0.5  1  1.0  0  0    1    1  0         1\n",
       "11498    0  0.5  1  1.0  1  1  0.5    0  0         0\n",
       "11499    1    0  0  1.0  1  0    1    0  1         0\n",
       "11500    1    0  1  0.0  0  1  0.5  0.5  1         0"
      ]
     },
     "execution_count": 4,
     "metadata": {},
     "output_type": "execute_result"
    }
   ],
   "source": [
    "df.tail()"
   ]
  },
  {
   "cell_type": "code",
   "execution_count": null,
   "metadata": {},
   "outputs": [],
   "source": []
  },
  {
   "cell_type": "code",
   "execution_count": 5,
   "metadata": {
    "scrolled": true
   },
   "outputs": [
    {
     "data": {
      "text/html": [
       "<div>\n",
       "<style scoped>\n",
       "    .dataframe tbody tr th:only-of-type {\n",
       "        vertical-align: middle;\n",
       "    }\n",
       "\n",
       "    .dataframe tbody tr th {\n",
       "        vertical-align: top;\n",
       "    }\n",
       "\n",
       "    .dataframe thead th {\n",
       "        text-align: right;\n",
       "    }\n",
       "</style>\n",
       "<table border=\"1\" class=\"dataframe\">\n",
       "  <thead>\n",
       "    <tr style=\"text-align: right;\">\n",
       "      <th></th>\n",
       "      <th>1</th>\n",
       "      <th>2</th>\n",
       "      <th>3</th>\n",
       "      <th>4</th>\n",
       "      <th>5</th>\n",
       "      <th>6</th>\n",
       "      <th>7</th>\n",
       "      <th>8</th>\n",
       "      <th>9</th>\n",
       "      <th>resultado</th>\n",
       "    </tr>\n",
       "  </thead>\n",
       "  <tbody>\n",
       "    <tr>\n",
       "      <th>11496</th>\n",
       "      <td>0.5</td>\n",
       "      <td>0.5</td>\n",
       "      <td>0</td>\n",
       "      <td>0.0</td>\n",
       "      <td>0</td>\n",
       "      <td>1</td>\n",
       "      <td>1</td>\n",
       "      <td>1</td>\n",
       "      <td>1</td>\n",
       "      <td>0</td>\n",
       "    </tr>\n",
       "    <tr>\n",
       "      <th>11497</th>\n",
       "      <td>0</td>\n",
       "      <td>0.5</td>\n",
       "      <td>1</td>\n",
       "      <td>1.0</td>\n",
       "      <td>0</td>\n",
       "      <td>0</td>\n",
       "      <td>1</td>\n",
       "      <td>1</td>\n",
       "      <td>0</td>\n",
       "      <td>1</td>\n",
       "    </tr>\n",
       "    <tr>\n",
       "      <th>11498</th>\n",
       "      <td>0</td>\n",
       "      <td>0.5</td>\n",
       "      <td>1</td>\n",
       "      <td>1.0</td>\n",
       "      <td>1</td>\n",
       "      <td>1</td>\n",
       "      <td>0.5</td>\n",
       "      <td>0</td>\n",
       "      <td>0</td>\n",
       "      <td>0</td>\n",
       "    </tr>\n",
       "    <tr>\n",
       "      <th>11499</th>\n",
       "      <td>1</td>\n",
       "      <td>0</td>\n",
       "      <td>0</td>\n",
       "      <td>1.0</td>\n",
       "      <td>1</td>\n",
       "      <td>0</td>\n",
       "      <td>1</td>\n",
       "      <td>0</td>\n",
       "      <td>1</td>\n",
       "      <td>0</td>\n",
       "    </tr>\n",
       "    <tr>\n",
       "      <th>11500</th>\n",
       "      <td>1</td>\n",
       "      <td>0</td>\n",
       "      <td>1</td>\n",
       "      <td>0.0</td>\n",
       "      <td>0</td>\n",
       "      <td>1</td>\n",
       "      <td>0.5</td>\n",
       "      <td>0.5</td>\n",
       "      <td>1</td>\n",
       "      <td>0</td>\n",
       "    </tr>\n",
       "  </tbody>\n",
       "</table>\n",
       "</div>"
      ],
      "text/plain": [
       "         1    2  3    4  5  6    7    8  9 resultado\n",
       "11496  0.5  0.5  0  0.0  0  1    1    1  1         0\n",
       "11497    0  0.5  1  1.0  0  0    1    1  0         1\n",
       "11498    0  0.5  1  1.0  1  1  0.5    0  0         0\n",
       "11499    1    0  0  1.0  1  0    1    0  1         0\n",
       "11500    1    0  1  0.0  0  1  0.5  0.5  1         0"
      ]
     },
     "execution_count": 5,
     "metadata": {},
     "output_type": "execute_result"
    }
   ],
   "source": [
    "# Remover dados duplicados + resertar indice + dropar coluna index\n",
    "#df = df.drop_duplicates().reset_index().drop('index',axis=1)\n",
    "df.tail()"
   ]
  },
  {
   "cell_type": "markdown",
   "metadata": {},
   "source": [
    "# Separação dos dados"
   ]
  },
  {
   "cell_type": "code",
   "execution_count": 6,
   "metadata": {},
   "outputs": [
    {
     "data": {
      "text/plain": [
       "((11501, 9), (11501, 1))"
      ]
     },
     "execution_count": 6,
     "metadata": {},
     "output_type": "execute_result"
    }
   ],
   "source": [
    "x = df.drop('resultado',axis=1)\n",
    "y = df[['resultado']]\n",
    "\n",
    "x.shape,y.shape"
   ]
  },
  {
   "cell_type": "code",
   "execution_count": 7,
   "metadata": {},
   "outputs": [],
   "source": [
    "from sklearn.model_selection import train_test_split"
   ]
  },
  {
   "cell_type": "code",
   "execution_count": 8,
   "metadata": {},
   "outputs": [],
   "source": [
    "x_train, x_test, y_train, y_test = train_test_split(\n",
    "    x,\n",
    "    y,\n",
    "    test_size = 0.3,\n",
    ")"
   ]
  },
  {
   "cell_type": "code",
   "execution_count": 9,
   "metadata": {
    "scrolled": true
   },
   "outputs": [],
   "source": [
    "# RESETAR OS índices, para igualar os valores corretos de X e Y\n",
    "x_train.reset_index().drop('index',axis=1)\n",
    "y_train.reset_index().drop('index',axis=1)\n",
    "\n",
    "x_test.reset_index().drop('index',axis=1)\n",
    "y_test.reset_index().drop('index',axis=1)\n",
    "\n",
    "\n",
    "# não sei porquê, tive que fazer essa conversão para\n",
    "# o modelo ser aceito... nunca aconteceu isso antes\n",
    "x_train = np.asarray(x_train).astype(np.float32)\n",
    "y_train = np.asarray(y_train).astype(np.float32)\n",
    "x_test = np.asarray(x_test).astype(np.float32)\n",
    "y_test = np.asarray(y_test).astype(np.float32)"
   ]
  },
  {
   "cell_type": "code",
   "execution_count": 10,
   "metadata": {},
   "outputs": [],
   "source": [
    "import tensorflow as tf"
   ]
  },
  {
   "cell_type": "code",
   "execution_count": 25,
   "metadata": {},
   "outputs": [
    {
     "data": {
      "text/plain": [
       "(8050, 9)"
      ]
     },
     "execution_count": 25,
     "metadata": {},
     "output_type": "execute_result"
    }
   ],
   "source": [
    "x_train.shape"
   ]
  },
  {
   "cell_type": "code",
   "execution_count": 11,
   "metadata": {},
   "outputs": [
    {
     "data": {
      "text/plain": [
       "9"
      ]
     },
     "execution_count": 11,
     "metadata": {},
     "output_type": "execute_result"
    }
   ],
   "source": [
    "x_train.shape[1]"
   ]
  },
  {
   "cell_type": "markdown",
   "metadata": {},
   "source": [
    "### Create your model"
   ]
  },
  {
   "cell_type": "code",
   "execution_count": 12,
   "metadata": {
    "scrolled": true
   },
   "outputs": [
    {
     "name": "stdout",
     "output_type": "stream",
     "text": [
      "Model: \"sequential\"\n",
      "_________________________________________________________________\n",
      "Layer (type)                 Output Shape              Param #   \n",
      "=================================================================\n",
      "dense (Dense)                (None, 10)                100       \n",
      "_________________________________________________________________\n",
      "dense_1 (Dense)              (None, 20)                220       \n",
      "_________________________________________________________________\n",
      "dropout (Dropout)            (None, 20)                0         \n",
      "_________________________________________________________________\n",
      "dense_2 (Dense)              (None, 20)                420       \n",
      "_________________________________________________________________\n",
      "dropout_1 (Dropout)          (None, 20)                0         \n",
      "_________________________________________________________________\n",
      "dense_3 (Dense)              (None, 20)                420       \n",
      "_________________________________________________________________\n",
      "dropout_2 (Dropout)          (None, 20)                0         \n",
      "_________________________________________________________________\n",
      "dense_4 (Dense)              (None, 20)                420       \n",
      "_________________________________________________________________\n",
      "dense_5 (Dense)              (None, 20)                420       \n",
      "_________________________________________________________________\n",
      "dense_6 (Dense)              (None, 20)                420       \n",
      "_________________________________________________________________\n",
      "dense_7 (Dense)              (None, 1)                 21        \n",
      "=================================================================\n",
      "Total params: 2,441\n",
      "Trainable params: 2,441\n",
      "Non-trainable params: 0\n",
      "_________________________________________________________________\n"
     ]
    }
   ],
   "source": [
    "# PODER FAZER LOAD em vez de criar novamente...\n",
    "\n",
    "\n",
    "model = tf.keras.models.Sequential()\n",
    "\n",
    "model.add(tf.keras.layers.Dense(\n",
    "    units = 10,\n",
    "    activation = 'relu',\n",
    "    input_shape = (x_train.shape[1],)\n",
    "))\n",
    "\n",
    "\n",
    "model.add(tf.keras.layers.Dense(\n",
    "    units = 20,\n",
    "    activation = 'relu',\n",
    "))\n",
    "\n",
    "model.add(tf.keras.layers.Dropout(0.1))\n",
    "\n",
    "model.add(tf.keras.layers.Dense(\n",
    "    units = 20,\n",
    "    activation = 'relu',\n",
    "))\n",
    "\n",
    "model.add(tf.keras.layers.Dropout(0.1))\n",
    "\n",
    "model.add(tf.keras.layers.Dense(\n",
    "    units = 20,\n",
    "    activation = 'relu',\n",
    "))\n",
    "\n",
    "model.add(tf.keras.layers.Dropout(0.1))\n",
    "\n",
    "model.add(tf.keras.layers.Dense(\n",
    "    units = 20,\n",
    "    activation = 'relu',\n",
    "))\n",
    "\n",
    "model.add(tf.keras.layers.Dense(\n",
    "    units = 20,\n",
    "    activation = 'relu',\n",
    "    \n",
    "))\n",
    "\n",
    "model.add(tf.keras.layers.Dense(\n",
    "    units = 20,\n",
    "    activation = 'relu',\n",
    "    \n",
    "))\n",
    "\n",
    "\n",
    "model.add(tf.keras.layers.Dense(\n",
    "    units = 1,\n",
    "    activation = 'sigmoid',\n",
    "))\n",
    "\n",
    "model.summary()\n",
    "\n",
    "model.compile(loss = 'binary_crossentropy', optimizer = 'Adam', metrics = ['accuracy'])"
   ]
  },
  {
   "cell_type": "markdown",
   "metadata": {},
   "source": [
    "### Save <span style=\"color:red\">MODEL</span>"
   ]
  },
  {
   "cell_type": "code",
   "execution_count": 39,
   "metadata": {},
   "outputs": [],
   "source": [
    "#model.save('./save_model/model.h5')"
   ]
  },
  {
   "cell_type": "markdown",
   "metadata": {},
   "source": [
    "### LOAD <span style=\"color:red\">MODEL</span> (Pode fazer load em vez de criar)"
   ]
  },
  {
   "cell_type": "code",
   "execution_count": null,
   "metadata": {},
   "outputs": [],
   "source": [
    "#model = tf.keras.models.load_model('./save_model/model.h5')"
   ]
  },
  {
   "cell_type": "markdown",
   "metadata": {},
   "source": [
    "### LOAD <span style=\"color:red\">WEIGHT</span>"
   ]
  },
  {
   "cell_type": "code",
   "execution_count": 13,
   "metadata": {},
   "outputs": [],
   "source": [
    "#model.load_weights('./save_weight/weight_01.h5')"
   ]
  },
  {
   "cell_type": "markdown",
   "metadata": {},
   "source": [
    "### Calcular os pesos da rede (Se fizer o Load, não precisa)"
   ]
  },
  {
   "cell_type": "code",
   "execution_count": 14,
   "metadata": {
    "scrolled": true
   },
   "outputs": [
    {
     "name": "stdout",
     "output_type": "stream",
     "text": [
      "Train on 7245 samples, validate on 805 samples\n",
      "Epoch 1/200\n",
      "7245/7245 [==============================] - 1s 202us/sample - loss: 0.6010 - accuracy: 0.5979 - val_loss: 0.4945 - val_accuracy: 0.7180\n",
      "Epoch 2/200\n",
      "7245/7245 [==============================] - 1s 87us/sample - loss: 0.4969 - accuracy: 0.7066 - val_loss: 0.4211 - val_accuracy: 0.7540\n",
      "Epoch 3/200\n",
      "7245/7245 [==============================] - 1s 89us/sample - loss: 0.4186 - accuracy: 0.7582 - val_loss: 0.3478 - val_accuracy: 0.7938\n",
      "Epoch 4/200\n",
      "7245/7245 [==============================] - 1s 109us/sample - loss: 0.3475 - accuracy: 0.7917 - val_loss: 0.2748 - val_accuracy: 0.8248\n",
      "Epoch 5/200\n",
      "7245/7245 [==============================] - 1s 131us/sample - loss: 0.2932 - accuracy: 0.8174 - val_loss: 0.2175 - val_accuracy: 0.8609\n",
      "Epoch 6/200\n",
      "7245/7245 [==============================] - 1s 96us/sample - loss: 0.2526 - accuracy: 0.8335 - val_loss: 0.2107 - val_accuracy: 0.8497\n",
      "Epoch 7/200\n",
      "7245/7245 [==============================] - 1s 93us/sample - loss: 0.2260 - accuracy: 0.8429 - val_loss: 0.1956 - val_accuracy: 0.8497\n",
      "Epoch 8/200\n",
      "7245/7245 [==============================] - 1s 97us/sample - loss: 0.2051 - accuracy: 0.8513 - val_loss: 0.1726 - val_accuracy: 0.8646\n",
      "Epoch 9/200\n",
      "7245/7245 [==============================] - 1s 91us/sample - loss: 0.1899 - accuracy: 0.8552 - val_loss: 0.1426 - val_accuracy: 0.8745\n",
      "Epoch 10/200\n",
      "7245/7245 [==============================] - 1s 93us/sample - loss: 0.1640 - accuracy: 0.8663 - val_loss: 0.1468 - val_accuracy: 0.8720\n",
      "Epoch 11/200\n",
      "7245/7245 [==============================] - 1s 108us/sample - loss: 0.1576 - accuracy: 0.8668 - val_loss: 0.1163 - val_accuracy: 0.8820\n",
      "Epoch 12/200\n",
      "7245/7245 [==============================] - 1s 103us/sample - loss: 0.1465 - accuracy: 0.8708 - val_loss: 0.1073 - val_accuracy: 0.8832\n",
      "Epoch 13/200\n",
      "7245/7245 [==============================] - 1s 104us/sample - loss: 0.1460 - accuracy: 0.8694 - val_loss: 0.1089 - val_accuracy: 0.8857\n",
      "Epoch 14/200\n",
      "7245/7245 [==============================] - 1s 120us/sample - loss: 0.1415 - accuracy: 0.8726 - val_loss: 0.1018 - val_accuracy: 0.8857\n",
      "Epoch 15/200\n",
      "7245/7245 [==============================] - 1s 96us/sample - loss: 0.1283 - accuracy: 0.8756 - val_loss: 0.1109 - val_accuracy: 0.8832\n",
      "Epoch 16/200\n",
      "7245/7245 [==============================] - 1s 106us/sample - loss: 0.1237 - accuracy: 0.8763 - val_loss: 0.0942 - val_accuracy: 0.8882\n",
      "Epoch 17/200\n",
      "7245/7245 [==============================] - 1s 95us/sample - loss: 0.1244 - accuracy: 0.8766 - val_loss: 0.0956 - val_accuracy: 0.8870\n",
      "Epoch 18/200\n",
      "7245/7245 [==============================] - 1s 92us/sample - loss: 0.1182 - accuracy: 0.8780 - val_loss: 0.0947 - val_accuracy: 0.8870\n",
      "Epoch 19/200\n",
      "7245/7245 [==============================] - 1s 104us/sample - loss: 0.1206 - accuracy: 0.8767 - val_loss: 0.0934 - val_accuracy: 0.8882\n",
      "Epoch 20/200\n",
      "7245/7245 [==============================] - 1s 101us/sample - loss: 0.1162 - accuracy: 0.8781 - val_loss: 0.0887 - val_accuracy: 0.8882\n",
      "Epoch 21/200\n",
      "7245/7245 [==============================] - 1s 106us/sample - loss: 0.1090 - accuracy: 0.8777 - val_loss: 0.0993 - val_accuracy: 0.8857\n",
      "Epoch 22/200\n",
      "7245/7245 [==============================] - 1s 107us/sample - loss: 0.1140 - accuracy: 0.8784 - val_loss: 0.0873 - val_accuracy: 0.8870\n",
      "Epoch 23/200\n",
      "7245/7245 [==============================] - 1s 103us/sample - loss: 0.1126 - accuracy: 0.8791 - val_loss: 0.0878 - val_accuracy: 0.8870\n",
      "Epoch 24/200\n",
      "7245/7245 [==============================] - 1s 105us/sample - loss: 0.1128 - accuracy: 0.8778 - val_loss: 0.0927 - val_accuracy: 0.8882\n",
      "Epoch 25/200\n",
      "7245/7245 [==============================] - 1s 131us/sample - loss: 0.1101 - accuracy: 0.8788 - val_loss: 0.0960 - val_accuracy: 0.8857\n",
      "Epoch 26/200\n",
      "7245/7245 [==============================] - 1s 111us/sample - loss: 0.1055 - accuracy: 0.8802 - val_loss: 0.0829 - val_accuracy: 0.8882\n",
      "Epoch 27/200\n",
      "7245/7245 [==============================] - 1s 96us/sample - loss: 0.1009 - accuracy: 0.8810 - val_loss: 0.0880 - val_accuracy: 0.8882\n",
      "Epoch 28/200\n",
      "7245/7245 [==============================] - 1s 105us/sample - loss: 0.1040 - accuracy: 0.8787 - val_loss: 0.0822 - val_accuracy: 0.8882\n",
      "Epoch 29/200\n",
      "7245/7245 [==============================] - 1s 97us/sample - loss: 0.0999 - accuracy: 0.8810 - val_loss: 0.0834 - val_accuracy: 0.8882\n",
      "Epoch 30/200\n",
      "7245/7245 [==============================] - 1s 101us/sample - loss: 0.0990 - accuracy: 0.8810 - val_loss: 0.0839 - val_accuracy: 0.8870\n",
      "Epoch 31/200\n",
      "7245/7245 [==============================] - 1s 95us/sample - loss: 0.0989 - accuracy: 0.8809 - val_loss: 0.0877 - val_accuracy: 0.8857\n",
      "Epoch 32/200\n",
      "7245/7245 [==============================] - 1s 97us/sample - loss: 0.1035 - accuracy: 0.8801 - val_loss: 0.0825 - val_accuracy: 0.8870\n",
      "Epoch 33/200\n",
      "7245/7245 [==============================] - 1s 109us/sample - loss: 0.0984 - accuracy: 0.8812 - val_loss: 0.0839 - val_accuracy: 0.8882\n",
      "Epoch 34/200\n",
      "7245/7245 [==============================] - 1s 109us/sample - loss: 0.0970 - accuracy: 0.8805 - val_loss: 0.0823 - val_accuracy: 0.8882\n",
      "Epoch 35/200\n",
      "7245/7245 [==============================] - 1s 96us/sample - loss: 0.0942 - accuracy: 0.8818 - val_loss: 0.0965 - val_accuracy: 0.8857\n",
      "Epoch 36/200\n",
      "7245/7245 [==============================] - 1s 99us/sample - loss: 0.0942 - accuracy: 0.8813 - val_loss: 0.0832 - val_accuracy: 0.8882\n",
      "Epoch 37/200\n",
      "7245/7245 [==============================] - 1s 102us/sample - loss: 0.0932 - accuracy: 0.8817 - val_loss: 0.0798 - val_accuracy: 0.8882\n",
      "Epoch 38/200\n",
      "7245/7245 [==============================] - 1s 124us/sample - loss: 0.0942 - accuracy: 0.8816 - val_loss: 0.0955 - val_accuracy: 0.8882\n",
      "Epoch 39/200\n",
      "7245/7245 [==============================] - 1s 128us/sample - loss: 0.0947 - accuracy: 0.8816 - val_loss: 0.0815 - val_accuracy: 0.8882\n",
      "Epoch 40/200\n",
      "7245/7245 [==============================] - 1s 116us/sample - loss: 0.0956 - accuracy: 0.8814 - val_loss: 0.0805 - val_accuracy: 0.8882\n",
      "Epoch 41/200\n",
      "7245/7245 [==============================] - 1s 91us/sample - loss: 0.0909 - accuracy: 0.8817 - val_loss: 0.0850 - val_accuracy: 0.8882\n",
      "Epoch 42/200\n",
      "7245/7245 [==============================] - 1s 94us/sample - loss: 0.0950 - accuracy: 0.8810 - val_loss: 0.0832 - val_accuracy: 0.8882\n",
      "Epoch 43/200\n",
      "7245/7245 [==============================] - 1s 99us/sample - loss: 0.0883 - accuracy: 0.8821 - val_loss: 0.0787 - val_accuracy: 0.8882\n",
      "Epoch 44/200\n",
      "7245/7245 [==============================] - 1s 99us/sample - loss: 0.0914 - accuracy: 0.8816 - val_loss: 0.0792 - val_accuracy: 0.8882\n",
      "Epoch 45/200\n",
      "7245/7245 [==============================] - 1s 103us/sample - loss: 0.0917 - accuracy: 0.8817 - val_loss: 0.0791 - val_accuracy: 0.8882\n",
      "Epoch 46/200\n",
      "7245/7245 [==============================] - 1s 102us/sample - loss: 0.0898 - accuracy: 0.8818 - val_loss: 0.0787 - val_accuracy: 0.8882\n",
      "Epoch 47/200\n",
      "7245/7245 [==============================] - 1s 108us/sample - loss: 0.0886 - accuracy: 0.8823 - val_loss: 0.0787 - val_accuracy: 0.8882\n",
      "Epoch 48/200\n",
      "7245/7245 [==============================] - 1s 91us/sample - loss: 0.0872 - accuracy: 0.8820 - val_loss: 0.0787 - val_accuracy: 0.8882\n",
      "Epoch 49/200\n",
      "7245/7245 [==============================] - 1s 98us/sample - loss: 0.0889 - accuracy: 0.8821 - val_loss: 0.0787 - val_accuracy: 0.8882\n",
      "Epoch 50/200\n",
      "7245/7245 [==============================] - 1s 91us/sample - loss: 0.0883 - accuracy: 0.8820 - val_loss: 0.0789 - val_accuracy: 0.8882\n",
      "Epoch 51/200\n",
      "7245/7245 [==============================] - 1s 114us/sample - loss: 0.0875 - accuracy: 0.8824 - val_loss: 0.0788 - val_accuracy: 0.8882\n",
      "Epoch 52/200\n",
      "7245/7245 [==============================] - 1s 120us/sample - loss: 0.0893 - accuracy: 0.8821 - val_loss: 0.0785 - val_accuracy: 0.8882\n",
      "Epoch 53/200\n",
      "7245/7245 [==============================] - 1s 117us/sample - loss: 0.0909 - accuracy: 0.8812 - val_loss: 0.0781 - val_accuracy: 0.8882\n",
      "Epoch 54/200\n",
      "7245/7245 [==============================] - 1s 118us/sample - loss: 0.0873 - accuracy: 0.8823 - val_loss: 0.0858 - val_accuracy: 0.8882\n",
      "Epoch 55/200\n"
     ]
    },
    {
     "name": "stdout",
     "output_type": "stream",
     "text": [
      "7245/7245 [==============================] - 1s 95us/sample - loss: 0.0868 - accuracy: 0.8824 - val_loss: 0.0782 - val_accuracy: 0.8882\n",
      "Epoch 56/200\n",
      "7245/7245 [==============================] - 1s 100us/sample - loss: 0.0874 - accuracy: 0.8821 - val_loss: 0.0788 - val_accuracy: 0.8882\n",
      "Epoch 57/200\n",
      "7245/7245 [==============================] - 1s 101us/sample - loss: 0.0872 - accuracy: 0.8823 - val_loss: 0.0795 - val_accuracy: 0.8882\n",
      "Epoch 58/200\n",
      "7245/7245 [==============================] - 1s 89us/sample - loss: 0.0861 - accuracy: 0.8823 - val_loss: 0.0782 - val_accuracy: 0.8882\n",
      "Epoch 59/200\n",
      "7245/7245 [==============================] - 1s 119us/sample - loss: 0.0897 - accuracy: 0.8809 - val_loss: 0.0796 - val_accuracy: 0.8882\n",
      "Epoch 60/200\n",
      "7245/7245 [==============================] - 1s 121us/sample - loss: 0.0882 - accuracy: 0.8820 - val_loss: 0.0779 - val_accuracy: 0.8882\n",
      "Epoch 61/200\n",
      "7245/7245 [==============================] - 1s 88us/sample - loss: 0.0844 - accuracy: 0.8825 - val_loss: 0.0786 - val_accuracy: 0.8882\n",
      "Epoch 62/200\n",
      "7245/7245 [==============================] - 1s 94us/sample - loss: 0.0872 - accuracy: 0.8820 - val_loss: 0.0786 - val_accuracy: 0.8882\n",
      "Epoch 63/200\n",
      "7245/7245 [==============================] - 1s 121us/sample - loss: 0.0876 - accuracy: 0.8821 - val_loss: 0.0777 - val_accuracy: 0.8882\n",
      "Epoch 64/200\n",
      "7245/7245 [==============================] - 1s 111us/sample - loss: 0.0859 - accuracy: 0.8823 - val_loss: 0.0779 - val_accuracy: 0.8882\n",
      "Epoch 65/200\n",
      "7245/7245 [==============================] - 1s 126us/sample - loss: 0.0856 - accuracy: 0.8825 - val_loss: 0.0861 - val_accuracy: 0.8857\n",
      "Epoch 66/200\n",
      "7245/7245 [==============================] - 1s 109us/sample - loss: 0.0880 - accuracy: 0.8820 - val_loss: 0.0781 - val_accuracy: 0.8882\n",
      "Epoch 67/200\n",
      "7245/7245 [==============================] - 1s 98us/sample - loss: 0.0974 - accuracy: 0.8796 - val_loss: 0.0781 - val_accuracy: 0.8882\n",
      "Epoch 68/200\n",
      "7245/7245 [==============================] - 1s 90us/sample - loss: 0.0952 - accuracy: 0.8807 - val_loss: 0.0786 - val_accuracy: 0.8882\n",
      "Epoch 69/200\n",
      "7245/7245 [==============================] - 1s 100us/sample - loss: 0.0852 - accuracy: 0.8820 - val_loss: 0.0776 - val_accuracy: 0.8882\n",
      "Epoch 70/200\n",
      "7245/7245 [==============================] - 1s 94us/sample - loss: 0.0863 - accuracy: 0.8824 - val_loss: 0.0780 - val_accuracy: 0.8882\n",
      "Epoch 71/200\n",
      "7245/7245 [==============================] - 1s 86us/sample - loss: 0.0852 - accuracy: 0.8824 - val_loss: 0.0776 - val_accuracy: 0.8882\n",
      "Epoch 72/200\n",
      "7245/7245 [==============================] - 1s 91us/sample - loss: 0.0830 - accuracy: 0.8823 - val_loss: 0.0776 - val_accuracy: 0.8882\n",
      "Epoch 73/200\n",
      "7245/7245 [==============================] - 1s 91us/sample - loss: 0.0851 - accuracy: 0.8820 - val_loss: 0.0815 - val_accuracy: 0.8882\n",
      "Epoch 74/200\n",
      "7245/7245 [==============================] - 1s 93us/sample - loss: 0.0839 - accuracy: 0.8823 - val_loss: 0.0775 - val_accuracy: 0.8882\n",
      "Epoch 75/200\n",
      "7245/7245 [==============================] - 1s 91us/sample - loss: 0.0864 - accuracy: 0.8820 - val_loss: 0.0778 - val_accuracy: 0.8882\n",
      "Epoch 76/200\n",
      "7245/7245 [==============================] - 1s 89us/sample - loss: 0.0844 - accuracy: 0.8824 - val_loss: 0.0777 - val_accuracy: 0.8882\n",
      "Epoch 77/200\n",
      "7245/7245 [==============================] - 1s 91us/sample - loss: 0.0880 - accuracy: 0.8821 - val_loss: 0.0780 - val_accuracy: 0.8882\n",
      "Epoch 78/200\n",
      "7245/7245 [==============================] - 1s 93us/sample - loss: 0.0853 - accuracy: 0.8824 - val_loss: 0.0781 - val_accuracy: 0.8882\n",
      "Epoch 79/200\n",
      "7245/7245 [==============================] - 1s 95us/sample - loss: 0.0890 - accuracy: 0.8810 - val_loss: 0.0782 - val_accuracy: 0.8882\n",
      "Epoch 80/200\n",
      "7245/7245 [==============================] - 1s 89us/sample - loss: 0.0886 - accuracy: 0.8820 - val_loss: 0.0777 - val_accuracy: 0.8882\n",
      "Epoch 81/200\n",
      "7245/7245 [==============================] - 1s 93us/sample - loss: 0.0845 - accuracy: 0.8821 - val_loss: 0.0785 - val_accuracy: 0.8882\n",
      "Epoch 82/200\n",
      "7245/7245 [==============================] - 1s 91us/sample - loss: 0.0861 - accuracy: 0.8823 - val_loss: 0.0975 - val_accuracy: 0.8832\n",
      "Epoch 83/200\n",
      "7245/7245 [==============================] - 1s 94us/sample - loss: 0.0884 - accuracy: 0.8817 - val_loss: 0.0778 - val_accuracy: 0.8882\n",
      "Epoch 84/200\n",
      "7245/7245 [==============================] - 1s 90us/sample - loss: 0.0836 - accuracy: 0.8820 - val_loss: 0.0776 - val_accuracy: 0.8882\n",
      "Epoch 85/200\n",
      "7245/7245 [==============================] - 1s 94us/sample - loss: 0.0827 - accuracy: 0.8823 - val_loss: 0.0777 - val_accuracy: 0.8882\n",
      "Epoch 86/200\n",
      "7245/7245 [==============================] - 1s 94us/sample - loss: 0.0871 - accuracy: 0.8816 - val_loss: 0.0784 - val_accuracy: 0.8882\n",
      "Epoch 87/200\n",
      "7245/7245 [==============================] - 1s 90us/sample - loss: 0.0889 - accuracy: 0.8813 - val_loss: 0.0851 - val_accuracy: 0.8882\n",
      "Epoch 88/200\n",
      "7245/7245 [==============================] - 1s 91us/sample - loss: 0.0857 - accuracy: 0.8825 - val_loss: 0.0777 - val_accuracy: 0.8882\n",
      "Epoch 89/200\n",
      "7245/7245 [==============================] - 1s 93us/sample - loss: 0.0854 - accuracy: 0.8823 - val_loss: 0.0792 - val_accuracy: 0.8882\n",
      "Epoch 90/200\n",
      "7245/7245 [==============================] - 1s 87us/sample - loss: 0.0850 - accuracy: 0.8820 - val_loss: 0.0776 - val_accuracy: 0.8882\n",
      "Epoch 91/200\n",
      "7245/7245 [==============================] - 1s 90us/sample - loss: 0.0852 - accuracy: 0.8817 - val_loss: 0.0777 - val_accuracy: 0.8882\n",
      "Epoch 92/200\n",
      "7245/7245 [==============================] - 1s 88us/sample - loss: 0.0845 - accuracy: 0.8821 - val_loss: 0.0777 - val_accuracy: 0.8882\n",
      "Epoch 93/200\n",
      "7245/7245 [==============================] - 1s 91us/sample - loss: 0.0863 - accuracy: 0.8817 - val_loss: 0.0778 - val_accuracy: 0.8882\n",
      "Epoch 94/200\n",
      "7245/7245 [==============================] - 1s 97us/sample - loss: 0.0856 - accuracy: 0.8820 - val_loss: 0.0777 - val_accuracy: 0.8882\n",
      "Epoch 95/200\n",
      "7245/7245 [==============================] - 1s 102us/sample - loss: 0.0865 - accuracy: 0.8821 - val_loss: 0.0776 - val_accuracy: 0.8882\n",
      "Epoch 96/200\n",
      "7245/7245 [==============================] - 1s 90us/sample - loss: 0.0860 - accuracy: 0.8820 - val_loss: 0.0826 - val_accuracy: 0.8882\n",
      "Epoch 97/200\n",
      "7245/7245 [==============================] - 1s 94us/sample - loss: 0.0850 - accuracy: 0.8818 - val_loss: 0.0788 - val_accuracy: 0.8882\n",
      "Epoch 98/200\n",
      "7245/7245 [==============================] - 1s 96us/sample - loss: 0.0859 - accuracy: 0.8817 - val_loss: 0.0830 - val_accuracy: 0.8882\n",
      "Epoch 99/200\n",
      "7245/7245 [==============================] - 1s 102us/sample - loss: 0.0853 - accuracy: 0.8821 - val_loss: 0.0821 - val_accuracy: 0.8857\n",
      "Epoch 100/200\n",
      "7245/7245 [==============================] - 1s 111us/sample - loss: 0.0921 - accuracy: 0.8796 - val_loss: 0.0814 - val_accuracy: 0.8870\n",
      "Epoch 101/200\n",
      "7245/7245 [==============================] - 1s 88us/sample - loss: 0.0841 - accuracy: 0.8824 - val_loss: 0.0776 - val_accuracy: 0.8882\n",
      "Epoch 102/200\n",
      "7245/7245 [==============================] - 1s 94us/sample - loss: 0.0856 - accuracy: 0.8824 - val_loss: 0.0776 - val_accuracy: 0.8882\n",
      "Epoch 103/200\n",
      "7245/7245 [==============================] - 1s 95us/sample - loss: 0.0834 - accuracy: 0.8825 - val_loss: 0.0792 - val_accuracy: 0.8870\n",
      "Epoch 104/200\n",
      "7245/7245 [==============================] - 1s 94us/sample - loss: 0.0837 - accuracy: 0.8824 - val_loss: 0.0776 - val_accuracy: 0.8882\n",
      "Epoch 105/200\n",
      "7245/7245 [==============================] - 1s 110us/sample - loss: 0.0880 - accuracy: 0.8809 - val_loss: 0.0892 - val_accuracy: 0.8882\n",
      "Epoch 106/200\n",
      "7245/7245 [==============================] - 1s 95us/sample - loss: 0.0875 - accuracy: 0.8824 - val_loss: 0.0808 - val_accuracy: 0.8882\n",
      "Epoch 107/200\n",
      "7245/7245 [==============================] - 1s 95us/sample - loss: 0.0828 - accuracy: 0.8823 - val_loss: 0.0780 - val_accuracy: 0.8882\n",
      "Epoch 108/200\n",
      "7245/7245 [==============================] - 1s 126us/sample - loss: 0.0838 - accuracy: 0.8823 - val_loss: 0.0776 - val_accuracy: 0.8882\n",
      "Epoch 109/200\n",
      "7245/7245 [==============================] - 1s 97us/sample - loss: 0.0830 - accuracy: 0.8823 - val_loss: 0.0776 - val_accuracy: 0.8882\n"
     ]
    },
    {
     "name": "stdout",
     "output_type": "stream",
     "text": [
      "Epoch 110/200\n",
      "7245/7245 [==============================] - 1s 88us/sample - loss: 0.0824 - accuracy: 0.8824 - val_loss: 0.0782 - val_accuracy: 0.8882\n",
      "Epoch 111/200\n",
      "7245/7245 [==============================] - 1s 89us/sample - loss: 0.0885 - accuracy: 0.8812 - val_loss: 0.0782 - val_accuracy: 0.8882\n",
      "Epoch 112/200\n",
      "7245/7245 [==============================] - 1s 90us/sample - loss: 0.0904 - accuracy: 0.8810 - val_loss: 0.0777 - val_accuracy: 0.8882\n",
      "Epoch 113/200\n",
      "7245/7245 [==============================] - 1s 95us/sample - loss: 0.0849 - accuracy: 0.8821 - val_loss: 0.0776 - val_accuracy: 0.8882\n",
      "Epoch 114/200\n",
      "7245/7245 [==============================] - 1s 105us/sample - loss: 0.0827 - accuracy: 0.8824 - val_loss: 0.0776 - val_accuracy: 0.8882\n",
      "Epoch 115/200\n",
      "7245/7245 [==============================] - 1s 111us/sample - loss: 0.0836 - accuracy: 0.8825 - val_loss: 0.0788 - val_accuracy: 0.8882\n",
      "Epoch 116/200\n",
      "7245/7245 [==============================] - 1s 93us/sample - loss: 0.0866 - accuracy: 0.8823 - val_loss: 0.0776 - val_accuracy: 0.8882\n",
      "Epoch 117/200\n",
      "7245/7245 [==============================] - 1s 90us/sample - loss: 0.0841 - accuracy: 0.8824 - val_loss: 0.0790 - val_accuracy: 0.8882\n",
      "Epoch 118/200\n",
      "7245/7245 [==============================] - 1s 107us/sample - loss: 0.0860 - accuracy: 0.8823 - val_loss: 0.0775 - val_accuracy: 0.8882\n",
      "Epoch 119/200\n",
      "7245/7245 [==============================] - 1s 96us/sample - loss: 0.0870 - accuracy: 0.8818 - val_loss: 0.0783 - val_accuracy: 0.8882\n",
      "Epoch 120/200\n",
      "7245/7245 [==============================] - 1s 90us/sample - loss: 0.0846 - accuracy: 0.8820 - val_loss: 0.0778 - val_accuracy: 0.8882\n",
      "Epoch 121/200\n",
      "7245/7245 [==============================] - 1s 91us/sample - loss: 0.0829 - accuracy: 0.8824 - val_loss: 0.0775 - val_accuracy: 0.8882\n",
      "Epoch 122/200\n",
      "7245/7245 [==============================] - 1s 92us/sample - loss: 0.0823 - accuracy: 0.8825 - val_loss: 0.0777 - val_accuracy: 0.8882\n",
      "Epoch 123/200\n",
      "7245/7245 [==============================] - 1s 93us/sample - loss: 0.0868 - accuracy: 0.8817 - val_loss: 0.0776 - val_accuracy: 0.8882\n",
      "Epoch 124/200\n",
      "7245/7245 [==============================] - 1s 95us/sample - loss: 0.0848 - accuracy: 0.8821 - val_loss: 0.0833 - val_accuracy: 0.8882\n",
      "Epoch 125/200\n",
      "7245/7245 [==============================] - 1s 105us/sample - loss: 0.0900 - accuracy: 0.8809 - val_loss: 0.0910 - val_accuracy: 0.8870\n",
      "Epoch 126/200\n",
      "7245/7245 [==============================] - 1s 88us/sample - loss: 0.0855 - accuracy: 0.8820 - val_loss: 0.0776 - val_accuracy: 0.8882\n",
      "Epoch 127/200\n",
      "7245/7245 [==============================] - 1s 102us/sample - loss: 0.0846 - accuracy: 0.8820 - val_loss: 0.0780 - val_accuracy: 0.8882\n",
      "Epoch 128/200\n",
      "7245/7245 [==============================] - 1s 145us/sample - loss: 0.0860 - accuracy: 0.8816 - val_loss: 0.0786 - val_accuracy: 0.8882\n",
      "Epoch 129/200\n",
      "7245/7245 [==============================] - 1s 131us/sample - loss: 0.0829 - accuracy: 0.8824 - val_loss: 0.0776 - val_accuracy: 0.8882\n",
      "Epoch 130/200\n",
      "7245/7245 [==============================] - 1s 96us/sample - loss: 0.0821 - accuracy: 0.8825 - val_loss: 0.0776 - val_accuracy: 0.8882\n",
      "Epoch 131/200\n",
      "7245/7245 [==============================] - 1s 126us/sample - loss: 0.0877 - accuracy: 0.8817 - val_loss: 0.0792 - val_accuracy: 0.8882\n",
      "Epoch 132/200\n",
      "7245/7245 [==============================] - 1s 110us/sample - loss: 0.0844 - accuracy: 0.8824 - val_loss: 0.0776 - val_accuracy: 0.8882\n",
      "Epoch 133/200\n",
      "7245/7245 [==============================] - 1s 106us/sample - loss: 0.0830 - accuracy: 0.8825 - val_loss: 0.0776 - val_accuracy: 0.8882\n",
      "Epoch 134/200\n",
      "7245/7245 [==============================] - 1s 91us/sample - loss: 0.0829 - accuracy: 0.8823 - val_loss: 0.0776 - val_accuracy: 0.8882\n",
      "Epoch 135/200\n",
      "7245/7245 [==============================] - 1s 89us/sample - loss: 0.0852 - accuracy: 0.8810 - val_loss: 0.0819 - val_accuracy: 0.8870\n",
      "Epoch 136/200\n",
      "7245/7245 [==============================] - 1s 98us/sample - loss: 0.0867 - accuracy: 0.8821 - val_loss: 0.0776 - val_accuracy: 0.8882\n",
      "Epoch 137/200\n",
      "7245/7245 [==============================] - 1s 121us/sample - loss: 0.0960 - accuracy: 0.8780 - val_loss: 0.0778 - val_accuracy: 0.8882\n",
      "Epoch 138/200\n",
      "7245/7245 [==============================] - 1s 114us/sample - loss: 0.0836 - accuracy: 0.8825 - val_loss: 0.0776 - val_accuracy: 0.8882\n",
      "Epoch 139/200\n",
      "7245/7245 [==============================] - 1s 117us/sample - loss: 0.0833 - accuracy: 0.8824 - val_loss: 0.0799 - val_accuracy: 0.8882\n",
      "Epoch 140/200\n",
      "7245/7245 [==============================] - 1s 139us/sample - loss: 0.0834 - accuracy: 0.8824 - val_loss: 0.0777 - val_accuracy: 0.8882\n",
      "Epoch 141/200\n",
      "7245/7245 [==============================] - 1s 120us/sample - loss: 0.0822 - accuracy: 0.8824 - val_loss: 0.0775 - val_accuracy: 0.8882\n",
      "Epoch 142/200\n",
      "7245/7245 [==============================] - 1s 153us/sample - loss: 0.0825 - accuracy: 0.8825 - val_loss: 0.0780 - val_accuracy: 0.8882\n",
      "Epoch 143/200\n",
      "7245/7245 [==============================] - 1s 98us/sample - loss: 0.0869 - accuracy: 0.8823 - val_loss: 0.0780 - val_accuracy: 0.8882\n",
      "Epoch 144/200\n",
      "7245/7245 [==============================] - 1s 96us/sample - loss: 0.0839 - accuracy: 0.8821 - val_loss: 0.0783 - val_accuracy: 0.8882\n",
      "Epoch 145/200\n",
      "7245/7245 [==============================] - 1s 91us/sample - loss: 0.0834 - accuracy: 0.8824 - val_loss: 0.0776 - val_accuracy: 0.8882\n",
      "Epoch 146/200\n",
      "7245/7245 [==============================] - 1s 89us/sample - loss: 0.0821 - accuracy: 0.8825 - val_loss: 0.0775 - val_accuracy: 0.8882\n",
      "Epoch 147/200\n",
      "7245/7245 [==============================] - 1s 95us/sample - loss: 0.0830 - accuracy: 0.8818 - val_loss: 0.0938 - val_accuracy: 0.8683\n",
      "Epoch 148/200\n",
      "7245/7245 [==============================] - 1s 109us/sample - loss: 0.0881 - accuracy: 0.8816 - val_loss: 0.0811 - val_accuracy: 0.8882\n",
      "Epoch 149/200\n",
      "7245/7245 [==============================] - 1s 89us/sample - loss: 0.0879 - accuracy: 0.8812 - val_loss: 0.0821 - val_accuracy: 0.8882\n",
      "Epoch 150/200\n",
      "7245/7245 [==============================] - 1s 90us/sample - loss: 0.0870 - accuracy: 0.8817 - val_loss: 0.0776 - val_accuracy: 0.8882\n",
      "Epoch 151/200\n",
      "7245/7245 [==============================] - 1s 93us/sample - loss: 0.0849 - accuracy: 0.8820 - val_loss: 0.0780 - val_accuracy: 0.8882\n",
      "Epoch 152/200\n",
      "7245/7245 [==============================] - 1s 91us/sample - loss: 0.0861 - accuracy: 0.8821 - val_loss: 0.0777 - val_accuracy: 0.8882\n",
      "Epoch 153/200\n",
      "7245/7245 [==============================] - 1s 110us/sample - loss: 0.0831 - accuracy: 0.8824 - val_loss: 0.0775 - val_accuracy: 0.8882\n",
      "Epoch 154/200\n",
      "7245/7245 [==============================] - 1s 103us/sample - loss: 0.0824 - accuracy: 0.8825 - val_loss: 0.0775 - val_accuracy: 0.8882\n",
      "Epoch 155/200\n",
      "7245/7245 [==============================] - 1s 89us/sample - loss: 0.0824 - accuracy: 0.8823 - val_loss: 0.0803 - val_accuracy: 0.8882\n",
      "Epoch 156/200\n",
      "7245/7245 [==============================] - 1s 91us/sample - loss: 0.0842 - accuracy: 0.8821 - val_loss: 0.0776 - val_accuracy: 0.8882\n",
      "Epoch 157/200\n",
      "7245/7245 [==============================] - 1s 90us/sample - loss: 0.0847 - accuracy: 0.8818 - val_loss: 0.0778 - val_accuracy: 0.8882\n",
      "Epoch 158/200\n",
      "7245/7245 [==============================] - 1s 90us/sample - loss: 0.0828 - accuracy: 0.8825 - val_loss: 0.0775 - val_accuracy: 0.8882\n",
      "Epoch 159/200\n",
      "7245/7245 [==============================] - 1s 106us/sample - loss: 0.0874 - accuracy: 0.8810 - val_loss: 0.0777 - val_accuracy: 0.8882\n",
      "Epoch 160/200\n",
      "7245/7245 [==============================] - 1s 108us/sample - loss: 0.0839 - accuracy: 0.8824 - val_loss: 0.0775 - val_accuracy: 0.8882\n",
      "Epoch 161/200\n",
      "7245/7245 [==============================] - 1s 109us/sample - loss: 0.0846 - accuracy: 0.8825 - val_loss: 0.0777 - val_accuracy: 0.8882\n",
      "Epoch 162/200\n",
      "7245/7245 [==============================] - 1s 89us/sample - loss: 0.0873 - accuracy: 0.8818 - val_loss: 0.0790 - val_accuracy: 0.8882\n",
      "Epoch 163/200\n",
      "7245/7245 [==============================] - 1s 107us/sample - loss: 0.0830 - accuracy: 0.8824 - val_loss: 0.0782 - val_accuracy: 0.8882\n",
      "Epoch 164/200\n"
     ]
    },
    {
     "name": "stdout",
     "output_type": "stream",
     "text": [
      "7245/7245 [==============================] - 1s 97us/sample - loss: 0.0820 - accuracy: 0.8825 - val_loss: 0.0775 - val_accuracy: 0.8882\n",
      "Epoch 165/200\n",
      "7245/7245 [==============================] - 1s 89us/sample - loss: 0.0825 - accuracy: 0.8825 - val_loss: 0.0775 - val_accuracy: 0.8882\n",
      "Epoch 166/200\n",
      "7245/7245 [==============================] - 1s 89us/sample - loss: 0.0858 - accuracy: 0.8823 - val_loss: 0.0776 - val_accuracy: 0.8882\n",
      "Epoch 167/200\n",
      "7245/7245 [==============================] - 1s 90us/sample - loss: 0.0842 - accuracy: 0.8824 - val_loss: 0.0777 - val_accuracy: 0.8882\n",
      "Epoch 168/200\n",
      "7245/7245 [==============================] - 1s 88us/sample - loss: 0.0932 - accuracy: 0.8798 - val_loss: 0.0912 - val_accuracy: 0.8882\n",
      "Epoch 169/200\n",
      "7245/7245 [==============================] - 1s 90us/sample - loss: 0.0838 - accuracy: 0.8823 - val_loss: 0.0776 - val_accuracy: 0.8882\n",
      "Epoch 170/200\n",
      "7245/7245 [==============================] - 1s 99us/sample - loss: 0.0842 - accuracy: 0.8823 - val_loss: 0.0842 - val_accuracy: 0.8882\n",
      "Epoch 171/200\n",
      "7245/7245 [==============================] - 1s 98us/sample - loss: 0.0858 - accuracy: 0.8823 - val_loss: 0.0778 - val_accuracy: 0.8882\n",
      "Epoch 172/200\n",
      "7245/7245 [==============================] - 1s 106us/sample - loss: 0.0828 - accuracy: 0.8821 - val_loss: 0.0784 - val_accuracy: 0.8882\n",
      "Epoch 173/200\n",
      "7245/7245 [==============================] - 1s 104us/sample - loss: 0.0827 - accuracy: 0.8823 - val_loss: 0.0775 - val_accuracy: 0.8882\n",
      "Epoch 174/200\n",
      "7245/7245 [==============================] - 1s 91us/sample - loss: 0.0824 - accuracy: 0.8824 - val_loss: 0.0775 - val_accuracy: 0.8882\n",
      "Epoch 175/200\n",
      "7245/7245 [==============================] - 1s 90us/sample - loss: 0.0865 - accuracy: 0.8818 - val_loss: 0.0782 - val_accuracy: 0.8882\n",
      "Epoch 176/200\n",
      "7245/7245 [==============================] - 1s 90us/sample - loss: 0.0822 - accuracy: 0.8825 - val_loss: 0.0775 - val_accuracy: 0.8882\n",
      "Epoch 177/200\n",
      "7245/7245 [==============================] - 1s 109us/sample - loss: 0.0820 - accuracy: 0.8824 - val_loss: 0.0775 - val_accuracy: 0.8882\n",
      "Epoch 178/200\n",
      "7245/7245 [==============================] - 1s 90us/sample - loss: 0.0844 - accuracy: 0.8824 - val_loss: 0.0783 - val_accuracy: 0.8882\n",
      "Epoch 179/200\n",
      "7245/7245 [==============================] - 1s 89us/sample - loss: 0.0820 - accuracy: 0.8825 - val_loss: 0.0775 - val_accuracy: 0.8882\n",
      "Epoch 180/200\n",
      "7245/7245 [==============================] - 1s 93us/sample - loss: 0.0871 - accuracy: 0.8818 - val_loss: 0.0775 - val_accuracy: 0.8882\n",
      "Epoch 181/200\n",
      "7245/7245 [==============================] - 1s 90us/sample - loss: 0.0849 - accuracy: 0.8821 - val_loss: 0.0810 - val_accuracy: 0.8882\n",
      "Epoch 182/200\n",
      "7245/7245 [==============================] - 1s 90us/sample - loss: 0.0850 - accuracy: 0.8824 - val_loss: 0.0776 - val_accuracy: 0.8882\n",
      "Epoch 183/200\n",
      "7245/7245 [==============================] - 1s 99us/sample - loss: 0.0828 - accuracy: 0.8823 - val_loss: 0.0776 - val_accuracy: 0.8882\n",
      "Epoch 184/200\n",
      "7245/7245 [==============================] - 1s 108us/sample - loss: 0.0848 - accuracy: 0.8818 - val_loss: 0.0775 - val_accuracy: 0.8882\n",
      "Epoch 185/200\n",
      "7245/7245 [==============================] - 1s 112us/sample - loss: 0.0907 - accuracy: 0.8809 - val_loss: 0.0777 - val_accuracy: 0.8882\n",
      "Epoch 186/200\n",
      "7245/7245 [==============================] - 1s 94us/sample - loss: 0.0825 - accuracy: 0.8823 - val_loss: 0.0775 - val_accuracy: 0.8882\n",
      "Epoch 187/200\n",
      "7245/7245 [==============================] - 1s 93us/sample - loss: 0.0823 - accuracy: 0.8824 - val_loss: 0.0775 - val_accuracy: 0.8882\n",
      "Epoch 188/200\n",
      "7245/7245 [==============================] - 1s 94us/sample - loss: 0.0821 - accuracy: 0.8825 - val_loss: 0.0775 - val_accuracy: 0.8882\n",
      "Epoch 189/200\n",
      "7245/7245 [==============================] - 1s 109us/sample - loss: 0.0852 - accuracy: 0.8823 - val_loss: 0.0775 - val_accuracy: 0.8882\n",
      "Epoch 190/200\n",
      "7245/7245 [==============================] - 1s 90us/sample - loss: 0.0821 - accuracy: 0.8825 - val_loss: 0.0775 - val_accuracy: 0.8882\n",
      "Epoch 191/200\n",
      "7245/7245 [==============================] - 1s 92us/sample - loss: 0.0846 - accuracy: 0.8821 - val_loss: 0.0779 - val_accuracy: 0.8882\n",
      "Epoch 192/200\n",
      "7245/7245 [==============================] - 1s 91us/sample - loss: 0.0831 - accuracy: 0.8825 - val_loss: 0.0776 - val_accuracy: 0.8882\n",
      "Epoch 193/200\n",
      "7245/7245 [==============================] - 1s 133us/sample - loss: 0.0819 - accuracy: 0.8824 - val_loss: 0.0775 - val_accuracy: 0.8882\n",
      "Epoch 194/200\n",
      "7245/7245 [==============================] - 1s 102us/sample - loss: 0.0824 - accuracy: 0.8824 - val_loss: 0.0776 - val_accuracy: 0.8882\n",
      "Epoch 195/200\n",
      "7245/7245 [==============================] - 1s 95us/sample - loss: 0.0848 - accuracy: 0.8818 - val_loss: 0.0783 - val_accuracy: 0.8882\n",
      "Epoch 196/200\n",
      "7245/7245 [==============================] - 1s 90us/sample - loss: 0.0943 - accuracy: 0.8805 - val_loss: 0.0782 - val_accuracy: 0.8882\n",
      "Epoch 197/200\n",
      "7245/7245 [==============================] - 1s 90us/sample - loss: 0.0837 - accuracy: 0.8824 - val_loss: 0.0776 - val_accuracy: 0.8882\n",
      "Epoch 198/200\n",
      "7245/7245 [==============================] - 1s 89us/sample - loss: 0.0831 - accuracy: 0.8821 - val_loss: 0.0775 - val_accuracy: 0.8882\n",
      "Epoch 199/200\n",
      "7245/7245 [==============================] - 1s 94us/sample - loss: 0.0845 - accuracy: 0.8820 - val_loss: 0.0775 - val_accuracy: 0.8882\n",
      "Epoch 200/200\n",
      "7245/7245 [==============================] - 1s 96us/sample - loss: 0.0821 - accuracy: 0.8824 - val_loss: 0.0775 - val_accuracy: 0.8882\n"
     ]
    },
    {
     "data": {
      "text/plain": [
       "dict_keys(['loss', 'accuracy', 'val_loss', 'val_accuracy'])"
      ]
     },
     "execution_count": 14,
     "metadata": {},
     "output_type": "execute_result"
    }
   ],
   "source": [
    "history = model.fit(\n",
    "    x_train,\n",
    "    y_train,\n",
    "    validation_split=0.1,\n",
    "    epochs = 200\n",
    ")\n",
    "\n",
    "history.history.keys()"
   ]
  },
  {
   "cell_type": "code",
   "execution_count": 15,
   "metadata": {
    "scrolled": true
   },
   "outputs": [
    {
     "data": {
      "image/png": "[encoded data removed]",
      "text/plain": [
       "<matplotlib.figure.Figure at 0x7fec205fb630>"
      ]
     },
     "metadata": {
      "needs_background": "light"
     },
     "output_type": "display_data"
    },
    {
     "data": {
      "image/png": "[encoded data removed]",
      "text/plain": [
       "<matplotlib.figure.Figure at 0x7fec2059a2e8>"
      ]
     },
     "metadata": {
      "needs_background": "light"
     },
     "output_type": "display_data"
    }
   ],
   "source": [
    "plt.figure()\n",
    "plt.plot(history.history['accuracy'],'.r', label = 'acc',alpha = 0.3)\n",
    "plt.plot(history.history['val_accuracy'], '.b', label = 'acc_val',alpha = 0.3)\n",
    "plt.legend()\n",
    "plt.grid()\n",
    "\n",
    "plt.figure()\n",
    "plt.plot(history.history['loss'],'.r', label = 'loss',alpha = 0.3)\n",
    "plt.plot(history.history['val_loss'],'.b', label = 'loss_val',alpha = 0.3)\n",
    "plt.legend()\n",
    "plt.grid()"
   ]
  },
  {
   "cell_type": "markdown",
   "metadata": {},
   "source": [
    "# Predicts"
   ]
  },
  {
   "cell_type": "code",
   "execution_count": 30,
   "metadata": {},
   "outputs": [],
   "source": [
    "pred = model.predict(x_test)"
   ]
  },
  {
   "cell_type": "code",
   "execution_count": 31,
   "metadata": {},
   "outputs": [],
   "source": [
    "pred_df = pd.DataFrame()\n",
    "pred_df['pred'] = pred[:,0]\n",
    "pred_df['y'] = y_test"
   ]
  },
  {
   "cell_type": "code",
   "execution_count": 32,
   "metadata": {
    "scrolled": true
   },
   "outputs": [
    {
     "data": {
      "text/html": [
       "<div>\n",
       "<style scoped>\n",
       "    .dataframe tbody tr th:only-of-type {\n",
       "        vertical-align: middle;\n",
       "    }\n",
       "\n",
       "    .dataframe tbody tr th {\n",
       "        vertical-align: top;\n",
       "    }\n",
       "\n",
       "    .dataframe thead th {\n",
       "        text-align: right;\n",
       "    }\n",
       "</style>\n",
       "<table border=\"1\" class=\"dataframe\">\n",
       "  <thead>\n",
       "    <tr style=\"text-align: right;\">\n",
       "      <th></th>\n",
       "      <th>pred</th>\n",
       "      <th>y</th>\n",
       "    </tr>\n",
       "  </thead>\n",
       "  <tbody>\n",
       "    <tr>\n",
       "      <th>0</th>\n",
       "      <td>9.999231e-01</td>\n",
       "      <td>1.0</td>\n",
       "    </tr>\n",
       "    <tr>\n",
       "      <th>1</th>\n",
       "      <td>1.620743e-12</td>\n",
       "      <td>0.0</td>\n",
       "    </tr>\n",
       "    <tr>\n",
       "      <th>2</th>\n",
       "      <td>5.719377e-07</td>\n",
       "      <td>0.0</td>\n",
       "    </tr>\n",
       "    <tr>\n",
       "      <th>3</th>\n",
       "      <td>1.000000e+00</td>\n",
       "      <td>1.0</td>\n",
       "    </tr>\n",
       "    <tr>\n",
       "      <th>4</th>\n",
       "      <td>9.999161e-01</td>\n",
       "      <td>1.0</td>\n",
       "    </tr>\n",
       "  </tbody>\n",
       "</table>\n",
       "</div>"
      ],
      "text/plain": [
       "           pred    y\n",
       "0  9.999231e-01  1.0\n",
       "1  1.620743e-12  0.0\n",
       "2  5.719377e-07  0.0\n",
       "3  1.000000e+00  1.0\n",
       "4  9.999161e-01  1.0"
      ]
     },
     "execution_count": 32,
     "metadata": {},
     "output_type": "execute_result"
    }
   ],
   "source": [
    "pred_df.head()"
   ]
  },
  {
   "cell_type": "code",
   "execution_count": 33,
   "metadata": {},
   "outputs": [],
   "source": [
    "def f(x):\n",
    "    val = x[0]\n",
    "    if val >= 0.75:\n",
    "        return 1\n",
    "    if 0.25 < val and val < 0.75:\n",
    "        return 0.5\n",
    "    if val <= 0.25:\n",
    "        return 0"
   ]
  },
  {
   "cell_type": "code",
   "execution_count": 34,
   "metadata": {},
   "outputs": [],
   "source": [
    "pred_df['pred'] = pred_df[['pred']].apply(f,axis=1)"
   ]
  },
  {
   "cell_type": "code",
   "execution_count": 35,
   "metadata": {
    "scrolled": true
   },
   "outputs": [
    {
     "data": {
      "text/html": [
       "<div>\n",
       "<style scoped>\n",
       "    .dataframe tbody tr th:only-of-type {\n",
       "        vertical-align: middle;\n",
       "    }\n",
       "\n",
       "    .dataframe tbody tr th {\n",
       "        vertical-align: top;\n",
       "    }\n",
       "\n",
       "    .dataframe thead th {\n",
       "        text-align: right;\n",
       "    }\n",
       "</style>\n",
       "<table border=\"1\" class=\"dataframe\">\n",
       "  <thead>\n",
       "    <tr style=\"text-align: right;\">\n",
       "      <th></th>\n",
       "      <th>pred</th>\n",
       "      <th>y</th>\n",
       "    </tr>\n",
       "  </thead>\n",
       "  <tbody>\n",
       "    <tr>\n",
       "      <th>0</th>\n",
       "      <td>1.0</td>\n",
       "      <td>1.0</td>\n",
       "    </tr>\n",
       "    <tr>\n",
       "      <th>1</th>\n",
       "      <td>0.0</td>\n",
       "      <td>0.0</td>\n",
       "    </tr>\n",
       "    <tr>\n",
       "      <th>2</th>\n",
       "      <td>0.0</td>\n",
       "      <td>0.0</td>\n",
       "    </tr>\n",
       "    <tr>\n",
       "      <th>3</th>\n",
       "      <td>1.0</td>\n",
       "      <td>1.0</td>\n",
       "    </tr>\n",
       "    <tr>\n",
       "      <th>4</th>\n",
       "      <td>1.0</td>\n",
       "      <td>1.0</td>\n",
       "    </tr>\n",
       "  </tbody>\n",
       "</table>\n",
       "</div>"
      ],
      "text/plain": [
       "   pred    y\n",
       "0   1.0  1.0\n",
       "1   0.0  0.0\n",
       "2   0.0  0.0\n",
       "3   1.0  1.0\n",
       "4   1.0  1.0"
      ]
     },
     "execution_count": 35,
     "metadata": {},
     "output_type": "execute_result"
    }
   ],
   "source": [
    "pred_df.head()"
   ]
  },
  {
   "cell_type": "code",
   "execution_count": 36,
   "metadata": {},
   "outputs": [
    {
     "name": "stdout",
     "output_type": "stream",
     "text": [
      "Porcentagem de Acerto 100.0%\n"
     ]
    }
   ],
   "source": [
    "k = 0\n",
    "total = len(pred_df['pred'])\n",
    "\n",
    "for pred,y in zip(pred_df['pred'],y_test[:,0]):\n",
    "    if pred == y:\n",
    "        k = k+1\n",
    "p = k/total\n",
    "print(f\"Porcentagem de Acerto {np.around(p*100,2)}%\")"
   ]
  },
  {
   "cell_type": "markdown",
   "metadata": {},
   "source": [
    "# Save <span style=\"color:red\">WEIGHT</span>"
   ]
  },
  {
   "cell_type": "code",
   "execution_count": 38,
   "metadata": {},
   "outputs": [],
   "source": [
    "#model.save_weights('./save_weight/weight.h5')"
   ]
  }
 ],
 "metadata": {
  "kernelspec": {
   "display_name": "Python 3",
   "language": "python",
   "name": "python3"
  },
  "language_info": {
   "codemirror_mode": {
    "name": "ipython",
    "version": 3
   },
   "file_extension": ".py",
   "mimetype": "text/x-python",
   "name": "python",
   "nbconvert_exporter": "python",
   "pygments_lexer": "ipython3",
   "version": "3.6.9"
  }
 },
 "nbformat": 4,
 "nbformat_minor": 2
}
