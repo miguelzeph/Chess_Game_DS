{
 "cells": [
  {
   "cell_type": "markdown",
   "metadata": {},
   "source": [
    "# Starting the Game Model\n",
    "\n",
    "### Funcionamento\n",
    "\n",
    "- eu serei o Player, ou seja, irei fazer uma jogada.\n",
    "- Após minha jogada, entra o modelo de ML\n",
    "- O modelo irá prever vitórias para ele\n",
    "\n",
    "### Lógica a busca pela vitória\n",
    "exemplo:\n",
    "\n",
    "Turno 1 - Meu turno\n",
    "\n",
    "(1_,'_','_','_','_','_','_','_','_')  Joguei\n",
    "\n",
    "Turno 2 - Máquina\n",
    "\n",
    "Ela irá jogar o próximo valor em todas posições possíveis não ocupadas, exemplo\n",
    "\n",
    "(1_,'2','_','_','_','_','_','_','_') = 0 \n",
    "\n",
    "(1_,'_','2','_','_','_','_','_','_') = 0 \n",
    ".\n",
    ".\n",
    ".\n",
    "(1_,'_','_','_','_','_','_','_','2') = 0 \n",
    "\n",
    "Então irá examinar... se ocorrer vitória (1) ou empate (0.5), ela joga nesta posição o 2, caso contrário, ela testa outro número\n",
    "\n",
    "\n",
    "Caso ele não encontre 1 ou 0.5... ele joga um valor aleatório removendo os valores\n",
    "[2,4,6,8] dos valores LIVRES... pois são localizações ruins\n",
    "\n",
    "- Toda vez que ele check se há vitória, derrota ou empate... caso dê okay, ele faz o treinamento da rede neural com novos valores inputados!"
   ]
  },
  {
   "cell_type": "code",
   "execution_count": 1,
   "metadata": {},
   "outputs": [],
   "source": [
    "import pandas as pd\n",
    "import numpy as np\n",
    "import random\n",
    "\n",
    "import tensorflow as tf"
   ]
  },
  {
   "cell_type": "markdown",
   "metadata": {},
   "source": [
    "### Load <span style=\"color:red\">MODEL</span> and <span style=\"color:red\">WEIGHT</span> "
   ]
  },
  {
   "cell_type": "code",
   "execution_count": 2,
   "metadata": {},
   "outputs": [],
   "source": [
    "model = tf.keras.models.load_model('./save_model/model.h5')\n",
    "model.load_weights('./save_weight/weight.h5')"
   ]
  },
  {
   "cell_type": "markdown",
   "metadata": {},
   "source": [
    "### Exemplo de como usar"
   ]
  },
  {
   "cell_type": "code",
   "execution_count": 3,
   "metadata": {},
   "outputs": [
    {
     "data": {
      "text/plain": [
       "(3, 9)"
      ]
     },
     "execution_count": 3,
     "metadata": {},
     "output_type": "execute_result"
    }
   ],
   "source": [
    "test = [\n",
    "    [1,3,5,0.5,0.5,0.5,2,4,0.5], # Perdeu -> 0\n",
    "    [1,3,0.5,5,0.5,0.5,2,4,6], # Ganhou -> 1\n",
    "    [6,1,2,9,3,4,5,8,7] # Empate -> 0.5\n",
    "]\n",
    "\n",
    "test = np.array(test)\n",
    "test.shape"
   ]
  },
  {
   "cell_type": "markdown",
   "metadata": {},
   "source": [
    "### Predict"
   ]
  },
  {
   "cell_type": "code",
   "execution_count": 4,
   "metadata": {
    "scrolled": false
   },
   "outputs": [],
   "source": [
    "pred = model.predict(test)\n",
    "\n",
    "pred_df = pd.DataFrame()\n",
    "pred_df['pred'] = pred[:,0]"
   ]
  },
  {
   "cell_type": "code",
   "execution_count": 5,
   "metadata": {
    "scrolled": false
   },
   "outputs": [
    {
     "data": {
      "text/html": [
       "<div>\n",
       "<style scoped>\n",
       "    .dataframe tbody tr th:only-of-type {\n",
       "        vertical-align: middle;\n",
       "    }\n",
       "\n",
       "    .dataframe tbody tr th {\n",
       "        vertical-align: top;\n",
       "    }\n",
       "\n",
       "    .dataframe thead th {\n",
       "        text-align: right;\n",
       "    }\n",
       "</style>\n",
       "<table border=\"1\" class=\"dataframe\">\n",
       "  <thead>\n",
       "    <tr style=\"text-align: right;\">\n",
       "      <th></th>\n",
       "      <th>pred</th>\n",
       "    </tr>\n",
       "  </thead>\n",
       "  <tbody>\n",
       "    <tr>\n",
       "      <th>0</th>\n",
       "      <td>1.579764e-30</td>\n",
       "    </tr>\n",
       "    <tr>\n",
       "      <th>1</th>\n",
       "      <td>9.999983e-01</td>\n",
       "    </tr>\n",
       "    <tr>\n",
       "      <th>2</th>\n",
       "      <td>1.870785e-01</td>\n",
       "    </tr>\n",
       "  </tbody>\n",
       "</table>\n",
       "</div>"
      ],
      "text/plain": [
       "           pred\n",
       "0  1.579764e-30\n",
       "1  9.999983e-01\n",
       "2  1.870785e-01"
      ]
     },
     "execution_count": 5,
     "metadata": {},
     "output_type": "execute_result"
    }
   ],
   "source": [
    "pred_df.head()"
   ]
  },
  {
   "cell_type": "markdown",
   "metadata": {},
   "source": [
    "### Ajustando Valores"
   ]
  },
  {
   "cell_type": "code",
   "execution_count": 6,
   "metadata": {},
   "outputs": [],
   "source": [
    "def f(x):\n",
    "    val = x[0]\n",
    "    if val >= 0.75:\n",
    "        return 1\n",
    "    if 0.10 < val and val < 0.75:\n",
    "        return 0.5\n",
    "    if val <= 0.10:\n",
    "        return 0"
   ]
  },
  {
   "cell_type": "code",
   "execution_count": 7,
   "metadata": {},
   "outputs": [],
   "source": [
    "pred_df['pred'] = pred_df[['pred']].apply(f,axis=1)"
   ]
  },
  {
   "cell_type": "code",
   "execution_count": 8,
   "metadata": {
    "scrolled": true
   },
   "outputs": [
    {
     "data": {
      "text/html": [
       "<div>\n",
       "<style scoped>\n",
       "    .dataframe tbody tr th:only-of-type {\n",
       "        vertical-align: middle;\n",
       "    }\n",
       "\n",
       "    .dataframe tbody tr th {\n",
       "        vertical-align: top;\n",
       "    }\n",
       "\n",
       "    .dataframe thead th {\n",
       "        text-align: right;\n",
       "    }\n",
       "</style>\n",
       "<table border=\"1\" class=\"dataframe\">\n",
       "  <thead>\n",
       "    <tr style=\"text-align: right;\">\n",
       "      <th></th>\n",
       "      <th>pred</th>\n",
       "    </tr>\n",
       "  </thead>\n",
       "  <tbody>\n",
       "    <tr>\n",
       "      <th>0</th>\n",
       "      <td>0.0</td>\n",
       "    </tr>\n",
       "    <tr>\n",
       "      <th>1</th>\n",
       "      <td>1.0</td>\n",
       "    </tr>\n",
       "    <tr>\n",
       "      <th>2</th>\n",
       "      <td>0.5</td>\n",
       "    </tr>\n",
       "  </tbody>\n",
       "</table>\n",
       "</div>"
      ],
      "text/plain": [
       "   pred\n",
       "0   0.0\n",
       "1   1.0\n",
       "2   0.5"
      ]
     },
     "execution_count": 8,
     "metadata": {},
     "output_type": "execute_result"
    }
   ],
   "source": [
    "pred_df.head()\n",
    "\n",
    "# Acertou os resultados"
   ]
  },
  {
   "cell_type": "code",
   "execution_count": 9,
   "metadata": {},
   "outputs": [],
   "source": [
    "# creating the table\n",
    "def df():\n",
    "    col = []\n",
    "    for n in range(1,10):\n",
    "        col.append(n)\n",
    "    col.append('resultado')\n",
    "\n",
    "    df = pd.DataFrame(columns=col)\n",
    "    return df"
   ]
  },
  {
   "cell_type": "code",
   "execution_count": 10,
   "metadata": {},
   "outputs": [],
   "source": [
    "def n(x): # even odd function\n",
    "    \n",
    "    if x%2 == 0: # Número par retorna 0\n",
    "        return x%2\n",
    "    else:# número impar retorna 1\n",
    "        return x%2\n",
    "\n",
    "#even_odd(2)"
   ]
  },
  {
   "cell_type": "markdown",
   "metadata": {},
   "source": [
    "## GAME"
   ]
  },
  {
   "cell_type": "code",
   "execution_count": 11,
   "metadata": {},
   "outputs": [],
   "source": [
    "class ticTacToe():\n",
    "    \n",
    "    def __init__(self):\n",
    "        \n",
    "        self.df = df()\n",
    "        self.pos ={\n",
    "                    1:0.5,\n",
    "                    2:0.5,\n",
    "                    3:0.5,\n",
    "                    4:0.5,\n",
    "                    5:0.5,\n",
    "                    6:0.5,\n",
    "                    7:0.5,\n",
    "                    8:0.5,\n",
    "                    9:0.5,\n",
    "                    'resultado':None }\n",
    "        self.t = 1 # turnos\n",
    "    \n",
    "    def restart_df(self):\n",
    "        self.df = df()\n",
    "        \n",
    "    \n",
    "    def restart_game(self):\n",
    "        self.pos ={\n",
    "                    1:0.5,\n",
    "                    2:0.5,\n",
    "                    3:0.5,\n",
    "                    4:0.5,\n",
    "                    5:0.5,\n",
    "                    6:0.5,\n",
    "                    7:0.5,\n",
    "                    8:0.5,\n",
    "                    9:0.5,\n",
    "                    'resultado':None }\n",
    "        self.t = 1 # turnos\n",
    "        \n",
    "    def check_defeat(self): # player é impar\n",
    "        if n(self.pos[1]) == n(self.pos[2]) == n(self.pos[3]) == 1:\n",
    "            return 'break'\n",
    "        if n(self.pos[4]) == n(self.pos[5]) == n(self.pos[6]) == 1:\n",
    "            return 'break'\n",
    "        if n(self.pos[1]) == n(self.pos[4]) == n(self.pos[7]) == 1:\n",
    "            return 'break'\n",
    "        if n(self.pos[1]) == n(self.pos[5]) == n(self.pos[9]) == 1:\n",
    "            return 'break'\n",
    "        if n(self.pos[2]) == n(self.pos[5]) == n(self.pos[8]) == 1:\n",
    "            return 'break'\n",
    "        if n(self.pos[3]) == n(self.pos[5]) == n(self.pos[7]) == 1:\n",
    "            return 'break'\n",
    "        if n(self.pos[3]) == n(self.pos[6]) == n(self.pos[9]) == 1:\n",
    "            return 'break'\n",
    "        if n(self.pos[7]) == n(self.pos[8]) == n(self.pos[9]) == 1:\n",
    "            return 'break'\n",
    "        return 'continue'\n",
    "\n",
    "    def check_victory(self): # pc é par\n",
    "        if n(self.pos[1]) == n(self.pos[2]) == n(self.pos[3]) == 0:\n",
    "            return 'break'\n",
    "        if n(self.pos[4]) == n(self.pos[5]) == n(self.pos[6]) == 0:\n",
    "            return 'break'\n",
    "        if n(self.pos[1]) == n(self.pos[4]) == n(self.pos[7]) == 0:\n",
    "            return 'break'\n",
    "        if n(self.pos[1]) == n(self.pos[5]) == n(self.pos[9]) == 0:\n",
    "            return 'break'\n",
    "        if n(self.pos[2]) == n(self.pos[5]) == n(self.pos[8]) == 0:\n",
    "            return 'break'\n",
    "        if n(self.pos[3]) == n(self.pos[5]) == n(self.pos[7]) == 0:\n",
    "            return 'break'\n",
    "        if n(self.pos[3]) == n(self.pos[6]) == n(self.pos[9]) == 0:\n",
    "            return 'break'\n",
    "        if n(self.pos[7]) == n(self.pos[8]) == n(self.pos[9]) == 0:\n",
    "            return 'break'\n",
    "        return 'continue'\n",
    "    \n",
    "    def check_pos_full(self): # EMPATE\n",
    "        if (self.pos[1] != 0.5 \n",
    "            and self.pos[2] != 0.5 \n",
    "            and self.pos[3] != 0.5 \n",
    "            and self.pos[4] != 0.5\n",
    "            and self.pos[5] != 0.5\n",
    "            and self.pos[6] != 0.5\n",
    "            and self.pos[7] != 0.5\n",
    "            and self.pos[8] != 0.5\n",
    "            and self.pos[9] != 0.5):\n",
    "            \n",
    "            return 'break'\n",
    "    \n",
    "        return 'continue'\n",
    "    \n",
    "    # Agora os turnos importam, pois turno impar é player\n",
    "    # turno par é máquina.\n",
    "    def check_turn(self):\n",
    "        if self.t == 10: # Verificar tempo/turnos (f)\n",
    "            return 'break'\n",
    "        return 'continue'\n",
    "    \n",
    "    # Chamo esse método para verificar tudo\n",
    "    def check(self):\n",
    "        \n",
    "        \n",
    "        # Verificar derrota\n",
    "        if self.check_defeat() == 'break':\n",
    "            print('derrotado')\n",
    "            self.pos['resultado'] = 0\n",
    "            \n",
    "            \n",
    "            self.treina()# Treinar a Rede\n",
    "            \n",
    "            return 'break'\n",
    "        \n",
    "        # Verificar Vitoria\n",
    "        if self.check_victory() == 'break':\n",
    "            print('vencedor')\n",
    "            self.pos['resultado'] = 1\n",
    "            \n",
    "            self.treina()# Treinar a Rede\n",
    "            \n",
    "            return 'break'\n",
    "        \n",
    "        # Verificar Turno\n",
    "        self.t +=1\n",
    "        if self.check_turn() == 'break':\n",
    "            print('empate')\n",
    "            self.pos['resultado'] = 0.5 # Empate\n",
    "            \n",
    "            self.treina()# Treinar a Rede\n",
    "            \n",
    "            return 'break'\n",
    "        \n",
    "        # Verificar Tudo\n",
    "        if self.check_pos_full() == 'break':\n",
    "            print('empate')\n",
    "            self.pos['resultado'] = 0.5 # Empate\n",
    "            \n",
    "            self.treina()# Treinar a Rede\n",
    "            \n",
    "            return 'break'\n",
    "        \n",
    "        return 'continue'\n",
    "    \n",
    "    # Criar a Tabelas e dar appends nela\n",
    "    def add_value_df(self):\n",
    "        \n",
    "        df_receber = pd.DataFrame( columns=list(self.pos.keys()) )\n",
    "        for i in df_receber.columns:\n",
    "            if i == 'resultado':\n",
    "                df_receber[i] = [self.pos[i]]\n",
    "            else:    \n",
    "                df_receber[i] = [self.pos[int(i)]]\n",
    "                \n",
    "        self.df = self.df.append(df_receber,ignore_index=True)\n",
    "    \n",
    "    \n",
    "    # Aqui eu set os numeros no braço usando INPUTS\n",
    "    def player(self, player):\n",
    "        if player == 'player':\n",
    "            move = int(input('player: '))\n",
    "            if self.pos[move] == 0.5:\n",
    "                self.pos[move] = int(self.t)\n",
    "            else:\n",
    "                while True:\n",
    "                    move = int(input('player, tente novamente: '))\n",
    "\n",
    "                    if self.pos[move] == 0.5:\n",
    "                        self.pos[move] = int(self.t)\n",
    "                        break\n",
    "                        \n",
    "        if player == 'pc':\n",
    "            move = int(input('pc: '))\n",
    "            if self.pos[move] == 0.5:\n",
    "                self.pos[move] = int(self.t)\n",
    "\n",
    "            else:\n",
    "                while True:\n",
    "                    move = int(input('pc, tente novamente: '))\n",
    "\n",
    "                    if self.pos[move] == 0.5:\n",
    "                        self.pos[move] = int(self.t)\n",
    "                        break\n",
    "                        \n",
    "    \n",
    "    \n",
    "    def sortear_pos(self): # Ganhar tempo\n",
    "        livres =[n for n in list(self.pos.keys())[:-1] if list(self.pos.values())[n-1]== 0.5]\n",
    "\n",
    "        return random.sample(livres,1)[0] # sortear 1 número dentro dos LIVRES\n",
    "    \n",
    "    \n",
    "    \n",
    "    # Aqui eu uso para deixar a rede Treinar\n",
    "    def player_random(self, player):\n",
    "        if player == 'player':\n",
    "            move = self.sortear_pos()\n",
    "            if self.pos[move] == 0.5:\n",
    "                self.pos[move] = int(self.t) # add o valor do turno \n",
    "                \n",
    "            \n",
    "        if player == 'pc':\n",
    "            move = self.sortear_pos()\n",
    "            if self.pos[move] == 0.5:\n",
    "                self.pos[move] = int(self.t) # add o valor do turno\n",
    "                        \n",
    "                        \n",
    "    # UTILIZANDO O MODELO \n",
    "    def sortear_pos_model(self):\n",
    "        \n",
    "        # VALORES LIVRES\n",
    "        livres =[n for n in list(self.pos.keys())[:-1] if list(self.pos.values())[n-1]== 0.5]\n",
    "\n",
    "        \n",
    "        # pegar todos valoreS já jogados até o momento\n",
    "        vetor = [list(self.pos.values())[:-1]] \n",
    "        \n",
    "        \"\"\"\n",
    "        print('vetor',vetor)\n",
    "        vetor[0][sorteado-1] = self.t\n",
    "        \n",
    "        \n",
    "        print(vetor)\n",
    "        pred = model.predict(vetor)\n",
    "        #resultado = f(pred[0][0]) # Resultado (já transformado em 0 ;0.5 ou 1)\n",
    "        resultado = f(pred[0])\n",
    "        print(resultado)\n",
    "        \"\"\"\n",
    "        \n",
    "        \n",
    "        # faz um loop com os valores livres\n",
    "        for pos_livre in livres:\n",
    "            vetor[0][pos_livre-1] = self.t\n",
    "\n",
    "            #print(vetor)\n",
    "            pred = model.predict(vetor)\n",
    "            #resultado = f(pred[0][0]) # Resultado (já transformado em 0 ;0.5 ou 1)\n",
    "            resultado = f(pred[0])\n",
    "            #print(resultado)\n",
    "            if resultado != 0:# Se não for Derrota... já vale\n",
    "                return pos_livre\n",
    "            \n",
    "            vetor[0][pos_livre-1] = 0.5 #Voltar o valor vazio novamente\n",
    "            \n",
    "\n",
    "            \n",
    "        # Se nada no lupim der certo, chuta um valor....\n",
    "        # Contudo, tem que treinar um modelo para jogadas de 1 turno ou 2 !!!\n",
    "        # pq ele joga as cegas\n",
    "        pos_ruins = [2,4,6,8]\n",
    "        for ruin in pos_ruins:\n",
    "            try:\n",
    "                livres.remove(ruin)\n",
    "            except ValueError:\n",
    "                continue\n",
    "        \n",
    "        return random.sample(livres,1)[0]\n",
    "        \n",
    "    \n",
    "    # Modelo Aplicado\n",
    "    def player_model(self,player):\n",
    "        if player == 'player':\n",
    "            move = int(input('player: '))\n",
    "            if self.pos[move] == 0.5:\n",
    "                self.pos[move] = int(self.t)\n",
    "            else:\n",
    "                while True:\n",
    "                    move = int(input('player, tente novamente: '))\n",
    "\n",
    "                    if self.pos[move] == 0.5:\n",
    "                        self.pos[move] = int(self.t)\n",
    "                        break\n",
    "        \n",
    "        \n",
    "        if player == 'pc':\n",
    "            \n",
    "            \"\"\"\n",
    "            # Previsão\n",
    "            vetor = [list(self.pos.values())[:-1]] # pegar todos valores, exceto resultado\n",
    "            print(vetor)\n",
    "            pred = model.predict(vetor)\n",
    "            resultado = pred[0][0] # Resultado\n",
    "            if resultado == 0:\"\"\"\n",
    "             \n",
    "            \n",
    "            move = self.sortear_pos_model()\n",
    "            #if self.pos[move] == 0.5:\n",
    "            self.pos[move] = int(self.t)\n",
    "            \n",
    "            \"\"\"\n",
    "            else:\n",
    "                while True:\n",
    "                    move = int(input('pc, tente novamente: '))\n",
    "\n",
    "                    if self.pos[move] == 0.5:\n",
    "                        self.pos[move] = int(self.t)\n",
    "                        break\n",
    "            \"\"\"\n",
    "    def treina(self):\n",
    "        \n",
    "        self.add_value_df() # Adicionar Tabela\n",
    "        \n",
    "        \n",
    "        \n",
    "        x = np.asarray(self.df.drop('resultado',axis=1)).astype(np.float32)\n",
    "        y = np.asarray(self.df[['resultado']]).astype(np.float32)\n",
    "        \n",
    "        #print(x.shape)\n",
    "        #print(y.shape)\n",
    "        \n",
    "        \n",
    "        history = model.fit(\n",
    "        x,\n",
    "        y,\n",
    "        validation_split=None,#CUIDADO QUANDO TIVER POUCOS DADOS\n",
    "        epochs = 20,\n",
    "        verbose = 0,# Não printar\n",
    "        )\n",
    "        \n",
    "        history.history.keys()\n",
    "      \n",
    "    # RUN DE PROGRAM\n",
    "    def run(self):\n",
    "        \n",
    "        while True:\n",
    "            \n",
    "            # Jogar Player\n",
    "            #self.player('player')\n",
    "            #self.player_random('player')\n",
    "            self.player_model('player')\n",
    "             \n",
    "            # Check -----------------\n",
    "            if self.check() == 'break':\n",
    "                break\n",
    "            \n",
    "            \n",
    "            # Jogar PC\n",
    "            #self.player('pc')\n",
    "            #self.player_random('pc')\n",
    "            self.player_model('pc')\n",
    "             \n",
    "            # Check -----------------\n",
    "            if self.check() == 'break':\n",
    "                break\n",
    "            #------------------------\n",
    "    \n",
    "        #self.add_value_df() # Adicionar Tabela (COloquei no método Treina)\n",
    "        \n",
    "        \n",
    "        \n",
    "        "
   ]
  },
  {
   "cell_type": "code",
   "execution_count": 12,
   "metadata": {
    "scrolled": true
   },
   "outputs": [],
   "source": [
    "game = ticTacToe()"
   ]
  },
  {
   "cell_type": "code",
   "execution_count": 27,
   "metadata": {},
   "outputs": [
    {
     "name": "stdout",
     "output_type": "stream",
     "text": [
      "player: 1\n",
      "player: 2\n",
      "player: 3\n",
      "player, tente novamente: 4\n",
      "player: 5\n",
      "player, tente novamente: 6\n",
      "player, tente novamente: 7\n",
      "derrotado\n"
     ]
    },
    {
     "data": {
      "text/html": [
       "<div>\n",
       "<style scoped>\n",
       "    .dataframe tbody tr th:only-of-type {\n",
       "        vertical-align: middle;\n",
       "    }\n",
       "\n",
       "    .dataframe tbody tr th {\n",
       "        vertical-align: top;\n",
       "    }\n",
       "\n",
       "    .dataframe thead th {\n",
       "        text-align: right;\n",
       "    }\n",
       "</style>\n",
       "<table border=\"1\" class=\"dataframe\">\n",
       "  <thead>\n",
       "    <tr style=\"text-align: right;\">\n",
       "      <th></th>\n",
       "      <th>1</th>\n",
       "      <th>2</th>\n",
       "      <th>3</th>\n",
       "      <th>4</th>\n",
       "      <th>5</th>\n",
       "      <th>6</th>\n",
       "      <th>7</th>\n",
       "      <th>8</th>\n",
       "      <th>9</th>\n",
       "      <th>resultado</th>\n",
       "    </tr>\n",
       "  </thead>\n",
       "  <tbody>\n",
       "    <tr>\n",
       "      <th>0</th>\n",
       "      <td>1</td>\n",
       "      <td>3</td>\n",
       "      <td>4</td>\n",
       "      <td>5</td>\n",
       "      <td>6</td>\n",
       "      <td>0.5</td>\n",
       "      <td>2</td>\n",
       "      <td>0.5</td>\n",
       "      <td>0.5</td>\n",
       "      <td>1</td>\n",
       "    </tr>\n",
       "    <tr>\n",
       "      <th>1</th>\n",
       "      <td>1</td>\n",
       "      <td>3</td>\n",
       "      <td>4</td>\n",
       "      <td>5</td>\n",
       "      <td>2</td>\n",
       "      <td>6.0</td>\n",
       "      <td>7</td>\n",
       "      <td>0.5</td>\n",
       "      <td>0.5</td>\n",
       "      <td>0</td>\n",
       "    </tr>\n",
       "  </tbody>\n",
       "</table>\n",
       "</div>"
      ],
      "text/plain": [
       "   1  2  3  4  5    6  7    8    9 resultado\n",
       "0  1  3  4  5  6  0.5  2  0.5  0.5         1\n",
       "1  1  3  4  5  2  6.0  7  0.5  0.5         0"
      ]
     },
     "execution_count": 27,
     "metadata": {},
     "output_type": "execute_result"
    }
   ],
   "source": [
    "game.restart_game()\n",
    "game.run()\n",
    "game.df"
   ]
  },
  {
   "cell_type": "code",
   "execution_count": null,
   "metadata": {},
   "outputs": [],
   "source": []
  },
  {
   "cell_type": "code",
   "execution_count": null,
   "metadata": {},
   "outputs": [],
   "source": []
  },
  {
   "cell_type": "code",
   "execution_count": 14,
   "metadata": {},
   "outputs": [],
   "source": [
    "test = [\n",
    "    [1,3,5,0.5,0.5,0.5,2,4,0.5], # Perdeu -> 0\n",
    "    [1,3,0.5,5,0.5,0.5,2,4,6], # Ganhou -> 1\n",
    "    [6,1,2,9,3,4,5,8,7], # Empate -> 0.5\n",
    "    [1,3,5,0.5,0.5,0.5,2,4,0.5] # Perdeu\n",
    "]"
   ]
  },
  {
   "cell_type": "code",
   "execution_count": 15,
   "metadata": {
    "scrolled": false
   },
   "outputs": [
    {
     "data": {
      "text/plain": [
       "(4, 9)"
      ]
     },
     "execution_count": 15,
     "metadata": {},
     "output_type": "execute_result"
    }
   ],
   "source": [
    "test = np.array(test)\n",
    "test.shape"
   ]
  },
  {
   "cell_type": "markdown",
   "metadata": {},
   "source": [
    "### Predict"
   ]
  },
  {
   "cell_type": "code",
   "execution_count": 16,
   "metadata": {},
   "outputs": [],
   "source": [
    "pred = model.predict(test)"
   ]
  },
  {
   "cell_type": "code",
   "execution_count": 17,
   "metadata": {},
   "outputs": [],
   "source": [
    "pred_df = pd.DataFrame()\n",
    "pred_df['pred'] = pred[:,0]"
   ]
  },
  {
   "cell_type": "code",
   "execution_count": 18,
   "metadata": {
    "scrolled": false
   },
   "outputs": [
    {
     "data": {
      "text/html": [
       "<div>\n",
       "<style scoped>\n",
       "    .dataframe tbody tr th:only-of-type {\n",
       "        vertical-align: middle;\n",
       "    }\n",
       "\n",
       "    .dataframe tbody tr th {\n",
       "        vertical-align: top;\n",
       "    }\n",
       "\n",
       "    .dataframe thead th {\n",
       "        text-align: right;\n",
       "    }\n",
       "</style>\n",
       "<table border=\"1\" class=\"dataframe\">\n",
       "  <thead>\n",
       "    <tr style=\"text-align: right;\">\n",
       "      <th></th>\n",
       "      <th>pred</th>\n",
       "    </tr>\n",
       "  </thead>\n",
       "  <tbody>\n",
       "    <tr>\n",
       "      <th>0</th>\n",
       "      <td>5.781869e-29</td>\n",
       "    </tr>\n",
       "    <tr>\n",
       "      <th>1</th>\n",
       "      <td>9.999996e-01</td>\n",
       "    </tr>\n",
       "    <tr>\n",
       "      <th>2</th>\n",
       "      <td>1.223976e-01</td>\n",
       "    </tr>\n",
       "    <tr>\n",
       "      <th>3</th>\n",
       "      <td>5.781869e-29</td>\n",
       "    </tr>\n",
       "  </tbody>\n",
       "</table>\n",
       "</div>"
      ],
      "text/plain": [
       "           pred\n",
       "0  5.781869e-29\n",
       "1  9.999996e-01\n",
       "2  1.223976e-01\n",
       "3  5.781869e-29"
      ]
     },
     "execution_count": 18,
     "metadata": {},
     "output_type": "execute_result"
    }
   ],
   "source": [
    "pred_df.head()"
   ]
  },
  {
   "cell_type": "markdown",
   "metadata": {},
   "source": [
    "### Ajustando Valores"
   ]
  },
  {
   "cell_type": "code",
   "execution_count": 19,
   "metadata": {},
   "outputs": [],
   "source": [
    "pred_df['pred'] = pred_df[['pred']].apply(f,axis=1)"
   ]
  },
  {
   "cell_type": "code",
   "execution_count": 20,
   "metadata": {
    "scrolled": true
   },
   "outputs": [
    {
     "data": {
      "text/html": [
       "<div>\n",
       "<style scoped>\n",
       "    .dataframe tbody tr th:only-of-type {\n",
       "        vertical-align: middle;\n",
       "    }\n",
       "\n",
       "    .dataframe tbody tr th {\n",
       "        vertical-align: top;\n",
       "    }\n",
       "\n",
       "    .dataframe thead th {\n",
       "        text-align: right;\n",
       "    }\n",
       "</style>\n",
       "<table border=\"1\" class=\"dataframe\">\n",
       "  <thead>\n",
       "    <tr style=\"text-align: right;\">\n",
       "      <th></th>\n",
       "      <th>pred</th>\n",
       "    </tr>\n",
       "  </thead>\n",
       "  <tbody>\n",
       "    <tr>\n",
       "      <th>0</th>\n",
       "      <td>0.0</td>\n",
       "    </tr>\n",
       "    <tr>\n",
       "      <th>1</th>\n",
       "      <td>1.0</td>\n",
       "    </tr>\n",
       "    <tr>\n",
       "      <th>2</th>\n",
       "      <td>0.5</td>\n",
       "    </tr>\n",
       "    <tr>\n",
       "      <th>3</th>\n",
       "      <td>0.0</td>\n",
       "    </tr>\n",
       "  </tbody>\n",
       "</table>\n",
       "</div>"
      ],
      "text/plain": [
       "   pred\n",
       "0   0.0\n",
       "1   1.0\n",
       "2   0.5\n",
       "3   0.0"
      ]
     },
     "execution_count": 20,
     "metadata": {},
     "output_type": "execute_result"
    }
   ],
   "source": [
    "pred_df.head()\n",
    "\n",
    "# Acertou os resultados"
   ]
  },
  {
   "cell_type": "code",
   "execution_count": null,
   "metadata": {},
   "outputs": [],
   "source": []
  },
  {
   "cell_type": "code",
   "execution_count": null,
   "metadata": {},
   "outputs": [],
   "source": []
  },
  {
   "cell_type": "code",
   "execution_count": null,
   "metadata": {},
   "outputs": [],
   "source": []
  },
  {
   "cell_type": "code",
   "execution_count": null,
   "metadata": {},
   "outputs": [],
   "source": []
  },
  {
   "cell_type": "code",
   "execution_count": 21,
   "metadata": {},
   "outputs": [],
   "source": [
    "\"\"\"\n",
    "for i in range(0,1000):\n",
    "    game.restart_game()\n",
    "    game.run()\n",
    "\"\"\";"
   ]
  },
  {
   "cell_type": "code",
   "execution_count": 22,
   "metadata": {
    "scrolled": true
   },
   "outputs": [],
   "source": [
    "#game.df"
   ]
  },
  {
   "cell_type": "code",
   "execution_count": 23,
   "metadata": {},
   "outputs": [],
   "source": [
    "# Save TABLE\n",
    "#game.df.to_pickle('./dados.pkl')"
   ]
  },
  {
   "cell_type": "code",
   "execution_count": 24,
   "metadata": {},
   "outputs": [],
   "source": [
    "#load_df = pd.read_pickle('./dados.pkl')"
   ]
  },
  {
   "cell_type": "code",
   "execution_count": 25,
   "metadata": {
    "scrolled": true
   },
   "outputs": [],
   "source": [
    "#load_df.drop_duplicates().reset_index().drop('index',axis=1)"
   ]
  },
  {
   "cell_type": "code",
   "execution_count": null,
   "metadata": {},
   "outputs": [],
   "source": [
    "##### Remover Valores duplicados\n",
    "#dub = game.df.drop_duplicates().reset_index().drop('index',axis=1)\n",
    "#dub.tail()"
   ]
  }
 ],
 "metadata": {
  "kernelspec": {
   "display_name": "Python 3",
   "language": "python",
   "name": "python3"
  },
  "language_info": {
   "codemirror_mode": {
    "name": "ipython",
    "version": 3
   },
   "file_extension": ".py",
   "mimetype": "text/x-python",
   "name": "python",
   "nbconvert_exporter": "python",
   "pygments_lexer": "ipython3",
   "version": "3.6.9"
  }
 },
 "nbformat": 4,
 "nbformat_minor": 2
}
