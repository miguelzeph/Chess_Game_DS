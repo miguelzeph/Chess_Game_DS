{
 "cells": [
  {
   "cell_type": "code",
   "execution_count": 1,
   "metadata": {},
   "outputs": [],
   "source": [
    "import pandas as pd\n",
    "import numpy as np"
   ]
  },
  {
   "cell_type": "code",
   "execution_count": 2,
   "metadata": {},
   "outputs": [],
   "source": [
    "col = []\n",
    "for n in range(1,10):\n",
    "     col.append(str(n))\n",
    "col.append('resultado')"
   ]
  },
  {
   "cell_type": "code",
   "execution_count": 3,
   "metadata": {},
   "outputs": [],
   "source": [
    "df = pd.DataFrame(\n",
    "    columns=col\n",
    ")"
   ]
  },
  {
   "cell_type": "code",
   "execution_count": 4,
   "metadata": {
    "scrolled": true
   },
   "outputs": [
    {
     "data": {
      "text/html": [
       "<div>\n",
       "<style scoped>\n",
       "    .dataframe tbody tr th:only-of-type {\n",
       "        vertical-align: middle;\n",
       "    }\n",
       "\n",
       "    .dataframe tbody tr th {\n",
       "        vertical-align: top;\n",
       "    }\n",
       "\n",
       "    .dataframe thead th {\n",
       "        text-align: right;\n",
       "    }\n",
       "</style>\n",
       "<table border=\"1\" class=\"dataframe\">\n",
       "  <thead>\n",
       "    <tr style=\"text-align: right;\">\n",
       "      <th></th>\n",
       "      <th>1</th>\n",
       "      <th>2</th>\n",
       "      <th>3</th>\n",
       "      <th>4</th>\n",
       "      <th>5</th>\n",
       "      <th>6</th>\n",
       "      <th>7</th>\n",
       "      <th>8</th>\n",
       "      <th>9</th>\n",
       "      <th>resultado</th>\n",
       "    </tr>\n",
       "  </thead>\n",
       "  <tbody>\n",
       "  </tbody>\n",
       "</table>\n",
       "</div>"
      ],
      "text/plain": [
       "Empty DataFrame\n",
       "Columns: [1, 2, 3, 4, 5, 6, 7, 8, 9, resultado]\n",
       "Index: []"
      ]
     },
     "execution_count": 4,
     "metadata": {},
     "output_type": "execute_result"
    }
   ],
   "source": [
    "df"
   ]
  },
  {
   "cell_type": "code",
   "execution_count": 5,
   "metadata": {},
   "outputs": [],
   "source": [
    "# Regra do Jogo\n",
    "\"\"\"\n",
    "X = 0\n",
    "O = 1\n",
    "\n",
    "Result\n",
    "W = 1, L = 0, D = 0.5\n",
    "\n",
    "\"\"\";"
   ]
  },
  {
   "cell_type": "code",
   "execution_count": 6,
   "metadata": {},
   "outputs": [],
   "source": [
    "import random"
   ]
  },
  {
   "cell_type": "code",
   "execution_count": 7,
   "metadata": {},
   "outputs": [],
   "source": [
    "\"\"\"\n",
    "# condição de vitória\n",
    "\n",
    "123 = 0 ou 1\n",
    "159 = ...\n",
    "147\n",
    "256\n",
    "369\n",
    "357\n",
    "789\n",
    "456\n",
    "\n",
    "Se 9 turnos passarem e não tiver vitorioso, então é EMPATE\n",
    "\"\"\";"
   ]
  },
  {
   "cell_type": "code",
   "execution_count": 8,
   "metadata": {},
   "outputs": [],
   "source": [
    "def verificar_derrota(dados):\n",
    "    if dados[1] == dados[2] == dados[3] == 1:\n",
    "        return 0\n",
    "    if dados[4] == dados[5] == dados[6] == 1:\n",
    "        return 0\n",
    "    if dados[1] == dados[4] == dados[7] == 1:\n",
    "        return 0\n",
    "    if dados[1] == dados[5] == dados[9] == 1:\n",
    "        return 0\n",
    "    if dados[2] == dados[5] == dados[6] == 1:\n",
    "        return 0\n",
    "    if dados[3] == dados[5] == dados[7] == 1:\n",
    "        return 0\n",
    "    if dados[3] == dados[6] == dados[9] == 1:\n",
    "        return 0\n",
    "    if dados[7] == dados[8] == dados[9] == 1:\n",
    "        return 0\n",
    "    return 'nada'"
   ]
  },
  {
   "cell_type": "code",
   "execution_count": 9,
   "metadata": {},
   "outputs": [],
   "source": [
    "def verificar_vitoria(dados):\n",
    "    if dados[1] == dados[2] == dados[3] == 0:\n",
    "        return 1\n",
    "    if dados[4] == dados[5] == dados[6] == 0:\n",
    "        return 1\n",
    "    if dados[1] == dados[4] == dados[7] == 0:\n",
    "        return 1\n",
    "    if dados[1] == dados[5] == dados[9] == 0:\n",
    "        return 1\n",
    "    if dados[2] == dados[5] == dados[6] == 0:\n",
    "        return 1\n",
    "    if dados[3] == dados[5] == dados[7] == 0:\n",
    "        return 1\n",
    "    if dados[3] == dados[6] == dados[9] == 0:\n",
    "        return 1\n",
    "    if dados[7] == dados[8] == dados[9] == 0:\n",
    "        return 1\n",
    "    return 'nada'"
   ]
  },
  {
   "cell_type": "code",
   "execution_count": 10,
   "metadata": {},
   "outputs": [],
   "source": [
    "def sortear_pos(a,b):\n",
    "    return random.randint(a,b)\n",
    "    "
   ]
  },
  {
   "cell_type": "code",
   "execution_count": 11,
   "metadata": {},
   "outputs": [],
   "source": [
    "def verificar_tudo(p):\n",
    "    if p[1] != 0.5 and p[2] != 0.5 and p[3] != 0.5 and p[4] != 0.5 and p[5] != 0.5 and p[6] != 0.5 and p[7] != 0.5 and p[8] != 0.5 and p[9] != 0.5:\n",
    "        return 'break'\n",
    "    \n",
    "    return None\n",
    "    "
   ]
  },
  {
   "cell_type": "code",
   "execution_count": 12,
   "metadata": {},
   "outputs": [],
   "source": [
    "def verificar_turno(t):\n",
    "    if t == 9: # Verificar tempo (f)\n",
    "        return 'break'\n",
    "    return None"
   ]
  },
  {
   "cell_type": "code",
   "execution_count": 13,
   "metadata": {
    "scrolled": true
   },
   "outputs": [
    {
     "name": "stdout",
     "output_type": "stream",
     "text": [
      "player:1\n",
      "pc: 2\n",
      "player:3\n",
      "pc: 4\n",
      "player:5\n",
      "pc: 6\n",
      "player:7\n",
      "derrotado\n",
      "{1: 1, 2: 0, 3: 1, 4: 0, 5: 1, 6: 0, 7: 1, 8: 0.5, 9: 0.5, 'resultado': 0}\n"
     ]
    }
   ],
   "source": [
    "p = {\n",
    "    1:0.5,\n",
    "    2:0.5,\n",
    "    3:0.5,\n",
    "    4:0.5,\n",
    "    5:0.5,\n",
    "    6:0.5,\n",
    "    7:0.5,\n",
    "    8:0.5,\n",
    "    9:0.5,\n",
    "    'resultado':None\n",
    "}\n",
    "\n",
    "\n",
    "t = 0\n",
    "while True:\n",
    "    \n",
    "    # Jogar Player    \n",
    "    pl = int(input('player:')) # Criar função com Try e Excepet Value erro\n",
    "    \n",
    "    \n",
    "    \n",
    "    if p[pl] == 0.5:\n",
    "        p[pl] = 1\n",
    "    \n",
    "    else:\n",
    "        while True:\n",
    "            pl = int(input('player, tente outro numero:'))\n",
    "            if p[pl] == 0.5:\n",
    "                p[pl] = 1  \n",
    "                break\n",
    "    \n",
    "        \n",
    "    #-----------------------------------\n",
    "    # Verificar derrota\n",
    "    if verificar_derrota(p) == 0:\n",
    "        print('derrotado')\n",
    "        p['resultado'] = 0\n",
    "        break\n",
    "    # Verificar derrota\n",
    "    if verificar_vitoria(p) == 1:\n",
    "        print('vencedor')\n",
    "        p['resultado'] = 1\n",
    "        break\n",
    "    # Verificar Turno\n",
    "    t +=1\n",
    "    if verificar_turno(t) == 'break':\n",
    "        print('turno')\n",
    "        p['resultado'] = 0.5 # Empate\n",
    "        break\n",
    "    # Verificar Tudo\n",
    "    if verificar_tudo(p) == 'break':\n",
    "        print('tudo')\n",
    "        p['resultado'] = 0.5 # Empate\n",
    "        break \n",
    "\n",
    "    \n",
    "    # Jogar PC    \n",
    "    pc = int(input('pc: ')) # Criar função com Try e Excepet Value erro\n",
    "\n",
    "    if p[pc] == 0.5:\n",
    "        p[pc] = 0\n",
    "        \n",
    "    else:\n",
    "        while True:\n",
    "            pc = int(input('pc, tente outro numero:'))\n",
    "            if p[pc] == 0.5:\n",
    "                p[pc] = 0 \n",
    "                break\n",
    "\n",
    "    \n",
    "    #-----------------------------------\n",
    "    # Verificar derrota\n",
    "    if verificar_derrota(p) == 0:\n",
    "        print('derrotado')\n",
    "        p['resultado'] = 0\n",
    "        break\n",
    "    # Verificar derrota\n",
    "    if verificar_vitoria(p) == 1:\n",
    "        print('vencedor')\n",
    "        p['resultado'] = 1\n",
    "        break\n",
    "    # Verificar Turno\n",
    "    t +=1\n",
    "    if verificar_turno(t) == 'break':\n",
    "        print('turno')\n",
    "        p['resultado'] = 0.5 # Empate\n",
    "        break \n",
    "    # Verificar Tudo\n",
    "    if verificar_tudo(p) == 'break':\n",
    "        print('tudo')\n",
    "        p['resultado'] = 0.5 # Empate\n",
    "        break\n",
    "\n",
    "print(p)\n",
    "\n",
    "\n",
    "df1 = pd.DataFrame( columns=list(p.keys()) )\n",
    "\n",
    "for i in df1.columns:\n",
    "    if i == 'resultado':\n",
    "        df1[i] = [p[i]]\n",
    "    else:    \n",
    "        df1[i] = [p[int(i)]]\n",
    "\n"
   ]
  },
  {
   "cell_type": "markdown",
   "metadata": {},
   "source": [
    "## Adicionar os Resultados no DF"
   ]
  },
  {
   "cell_type": "code",
   "execution_count": 21,
   "metadata": {},
   "outputs": [
    {
     "data": {
      "text/html": [
       "<div>\n",
       "<style scoped>\n",
       "    .dataframe tbody tr th:only-of-type {\n",
       "        vertical-align: middle;\n",
       "    }\n",
       "\n",
       "    .dataframe tbody tr th {\n",
       "        vertical-align: top;\n",
       "    }\n",
       "\n",
       "    .dataframe thead th {\n",
       "        text-align: right;\n",
       "    }\n",
       "</style>\n",
       "<table border=\"1\" class=\"dataframe\">\n",
       "  <thead>\n",
       "    <tr style=\"text-align: right;\">\n",
       "      <th></th>\n",
       "      <th>1</th>\n",
       "      <th>2</th>\n",
       "      <th>3</th>\n",
       "      <th>4</th>\n",
       "      <th>5</th>\n",
       "      <th>6</th>\n",
       "      <th>7</th>\n",
       "      <th>8</th>\n",
       "      <th>9</th>\n",
       "      <th>resultado</th>\n",
       "    </tr>\n",
       "  </thead>\n",
       "  <tbody>\n",
       "    <tr>\n",
       "      <th>0</th>\n",
       "      <td>1</td>\n",
       "      <td>0</td>\n",
       "      <td>1</td>\n",
       "      <td>0</td>\n",
       "      <td>1</td>\n",
       "      <td>0</td>\n",
       "      <td>1</td>\n",
       "      <td>0.5</td>\n",
       "      <td>0.5</td>\n",
       "      <td>0</td>\n",
       "    </tr>\n",
       "  </tbody>\n",
       "</table>\n",
       "</div>"
      ],
      "text/plain": [
       "   1  2  3  4  5  6  7    8    9  resultado\n",
       "0  1  0  1  0  1  0  1  0.5  0.5          0"
      ]
     },
     "execution_count": 21,
     "metadata": {},
     "output_type": "execute_result"
    }
   ],
   "source": [
    "df1"
   ]
  },
  {
   "cell_type": "code",
   "execution_count": 22,
   "metadata": {
    "scrolled": true
   },
   "outputs": [
    {
     "data": {
      "text/html": [
       "<div>\n",
       "<style scoped>\n",
       "    .dataframe tbody tr th:only-of-type {\n",
       "        vertical-align: middle;\n",
       "    }\n",
       "\n",
       "    .dataframe tbody tr th {\n",
       "        vertical-align: top;\n",
       "    }\n",
       "\n",
       "    .dataframe thead th {\n",
       "        text-align: right;\n",
       "    }\n",
       "</style>\n",
       "<table border=\"1\" class=\"dataframe\">\n",
       "  <thead>\n",
       "    <tr style=\"text-align: right;\">\n",
       "      <th></th>\n",
       "      <th>1</th>\n",
       "      <th>2</th>\n",
       "      <th>3</th>\n",
       "      <th>4</th>\n",
       "      <th>5</th>\n",
       "      <th>6</th>\n",
       "      <th>7</th>\n",
       "      <th>8</th>\n",
       "      <th>9</th>\n",
       "      <th>resultado</th>\n",
       "    </tr>\n",
       "  </thead>\n",
       "  <tbody>\n",
       "    <tr>\n",
       "      <th>0</th>\n",
       "      <td>1</td>\n",
       "      <td>0</td>\n",
       "      <td>1</td>\n",
       "      <td>0</td>\n",
       "      <td>1</td>\n",
       "      <td>0</td>\n",
       "      <td>1</td>\n",
       "      <td>0.5</td>\n",
       "      <td>0.5</td>\n",
       "      <td>0</td>\n",
       "    </tr>\n",
       "  </tbody>\n",
       "</table>\n",
       "</div>"
      ],
      "text/plain": [
       "   1  2  3  4  5  6  7    8    9  resultado\n",
       "0  1  0  1  0  1  0  1  0.5  0.5          0"
      ]
     },
     "execution_count": 22,
     "metadata": {},
     "output_type": "execute_result"
    }
   ],
   "source": [
    "df"
   ]
  },
  {
   "cell_type": "code",
   "execution_count": 23,
   "metadata": {
    "scrolled": false
   },
   "outputs": [
    {
     "name": "stderr",
     "output_type": "stream",
     "text": [
      "/usr/local/lib/python3.6/dist-packages/ipykernel_launcher.py:1: FutureWarning: Sorting because non-concatenation axis is not aligned. A future version\n",
      "of pandas will change to not sort by default.\n",
      "\n",
      "To accept the future behavior, pass 'sort=False'.\n",
      "\n",
      "To retain the current behavior and silence the warning, pass 'sort=True'.\n",
      "\n",
      "  \"\"\"Entry point for launching an IPython kernel.\n"
     ]
    }
   ],
   "source": [
    "df3 = pd.concat([df,df1],axis=0)"
   ]
  },
  {
   "cell_type": "code",
   "execution_count": 24,
   "metadata": {},
   "outputs": [
    {
     "data": {
      "text/html": [
       "<div>\n",
       "<style scoped>\n",
       "    .dataframe tbody tr th:only-of-type {\n",
       "        vertical-align: middle;\n",
       "    }\n",
       "\n",
       "    .dataframe tbody tr th {\n",
       "        vertical-align: top;\n",
       "    }\n",
       "\n",
       "    .dataframe thead th {\n",
       "        text-align: right;\n",
       "    }\n",
       "</style>\n",
       "<table border=\"1\" class=\"dataframe\">\n",
       "  <thead>\n",
       "    <tr style=\"text-align: right;\">\n",
       "      <th></th>\n",
       "      <th>1</th>\n",
       "      <th>2</th>\n",
       "      <th>3</th>\n",
       "      <th>4</th>\n",
       "      <th>5</th>\n",
       "      <th>6</th>\n",
       "      <th>7</th>\n",
       "      <th>8</th>\n",
       "      <th>9</th>\n",
       "      <th>resultado</th>\n",
       "      <th>1</th>\n",
       "      <th>2</th>\n",
       "      <th>3</th>\n",
       "      <th>4</th>\n",
       "      <th>5</th>\n",
       "      <th>6</th>\n",
       "      <th>7</th>\n",
       "      <th>8</th>\n",
       "      <th>9</th>\n",
       "    </tr>\n",
       "  </thead>\n",
       "  <tbody>\n",
       "    <tr>\n",
       "      <th>0</th>\n",
       "      <td>1.0</td>\n",
       "      <td>0.0</td>\n",
       "      <td>1.0</td>\n",
       "      <td>0.0</td>\n",
       "      <td>1.0</td>\n",
       "      <td>0.0</td>\n",
       "      <td>1.0</td>\n",
       "      <td>0.5</td>\n",
       "      <td>0.5</td>\n",
       "      <td>0</td>\n",
       "      <td>NaN</td>\n",
       "      <td>NaN</td>\n",
       "      <td>NaN</td>\n",
       "      <td>NaN</td>\n",
       "      <td>NaN</td>\n",
       "      <td>NaN</td>\n",
       "      <td>NaN</td>\n",
       "      <td>NaN</td>\n",
       "      <td>NaN</td>\n",
       "    </tr>\n",
       "    <tr>\n",
       "      <th>0</th>\n",
       "      <td>NaN</td>\n",
       "      <td>NaN</td>\n",
       "      <td>NaN</td>\n",
       "      <td>NaN</td>\n",
       "      <td>NaN</td>\n",
       "      <td>NaN</td>\n",
       "      <td>NaN</td>\n",
       "      <td>NaN</td>\n",
       "      <td>NaN</td>\n",
       "      <td>0</td>\n",
       "      <td>1.0</td>\n",
       "      <td>0.0</td>\n",
       "      <td>1.0</td>\n",
       "      <td>0.0</td>\n",
       "      <td>1.0</td>\n",
       "      <td>0.0</td>\n",
       "      <td>1.0</td>\n",
       "      <td>0.5</td>\n",
       "      <td>0.5</td>\n",
       "    </tr>\n",
       "  </tbody>\n",
       "</table>\n",
       "</div>"
      ],
      "text/plain": [
       "     1    2    3    4    5    6    7    8    9  resultado    1    2    3    4  \\\n",
       "0  1.0  0.0  1.0  0.0  1.0  0.0  1.0  0.5  0.5          0  NaN  NaN  NaN  NaN   \n",
       "0  NaN  NaN  NaN  NaN  NaN  NaN  NaN  NaN  NaN          0  1.0  0.0  1.0  0.0   \n",
       "\n",
       "     5    6    7    8    9  \n",
       "0  NaN  NaN  NaN  NaN  NaN  \n",
       "0  1.0  0.0  1.0  0.5  0.5  "
      ]
     },
     "execution_count": 24,
     "metadata": {},
     "output_type": "execute_result"
    }
   ],
   "source": [
    "df3"
   ]
  },
  {
   "cell_type": "code",
   "execution_count": null,
   "metadata": {},
   "outputs": [],
   "source": []
  },
  {
   "cell_type": "code",
   "execution_count": null,
   "metadata": {},
   "outputs": [],
   "source": []
  },
  {
   "cell_type": "code",
   "execution_count": 18,
   "metadata": {},
   "outputs": [],
   "source": [
    "for i in df.columns:\n",
    "    if i == 'resultado':\n",
    "        df[i] = [p[i]]\n",
    "    else:    \n",
    "        df[i] = [p[int(i)]]"
   ]
  },
  {
   "cell_type": "code",
   "execution_count": 19,
   "metadata": {},
   "outputs": [
    {
     "name": "stdout",
     "output_type": "stream",
     "text": [
      "9\n",
      "7\n",
      "8\n",
      "6\n",
      "6\n",
      "4\n",
      "5\n",
      "8\n",
      "5\n"
     ]
    }
   ],
   "source": [
    "for x in range(0,9):\n",
    "    print(random.randint(0,9))"
   ]
  },
  {
   "cell_type": "code",
   "execution_count": null,
   "metadata": {},
   "outputs": [],
   "source": []
  }
 ],
 "metadata": {
  "kernelspec": {
   "display_name": "Python 3",
   "language": "python",
   "name": "python3"
  },
  "language_info": {
   "codemirror_mode": {
    "name": "ipython",
    "version": 3
   },
   "file_extension": ".py",
   "mimetype": "text/x-python",
   "name": "python",
   "nbconvert_exporter": "python",
   "pygments_lexer": "ipython3",
   "version": "3.6.9"
  }
 },
 "nbformat": 4,
 "nbformat_minor": 2
}
