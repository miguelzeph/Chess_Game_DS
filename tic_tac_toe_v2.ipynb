{
 "cells": [
  {
   "cell_type": "code",
   "execution_count": 1,
   "metadata": {
    "ExecuteTime": {
     "end_time": "2021-04-07T17:01:36.341290Z",
     "start_time": "2021-04-07T17:01:36.145195Z"
    }
   },
   "outputs": [],
   "source": [
    "import numpy as np\n",
    "import random"
   ]
  },
  {
   "cell_type": "markdown",
   "metadata": {
    "heading_collapsed": true
   },
   "source": [
    "## AMBIENTE "
   ]
  },
  {
   "cell_type": "code",
   "execution_count": 2,
   "metadata": {
    "ExecuteTime": {
     "end_time": "2021-04-07T17:01:36.361603Z",
     "start_time": "2021-04-07T17:01:36.344037Z"
    },
    "code_folding": [],
    "hidden": true,
    "scrolled": true
   },
   "outputs": [],
   "source": [
    "class Ambiente(object):\n",
    "    \n",
    "    def __init__(self):\n",
    "        \n",
    "        \"\"\"\n",
    "        As perspectivas de vitórias e derrota são sempre\n",
    "        relacionadas com o player 1 (p1), ele é o nosso\n",
    "        jogador principal (máquina que será treinada)\n",
    "        \"\"\"\n",
    "        \n",
    "        self.board = np.zeros((3,3)) # Tabuleiro\n",
    "    \n",
    "    # reset game\n",
    "    def reset_board (self):\n",
    "        self.board = np.zeros((3,3))\n",
    "    \n",
    "    # draw board\n",
    "    def draw_board(self):\n",
    "        \n",
    "        draw = ''\n",
    "\n",
    "        for i in range(3):\n",
    "            for j in range(3):\n",
    "                simbolo = ''\n",
    "                # simbolo X (p1 = 1) ou O (p2 = -1)\n",
    "                if game.board[i][j] == 1:\n",
    "                    symbol = 'X'\n",
    "                elif game.board[i][j] == -1:\n",
    "                    symbol = 'O'\n",
    "                else:\n",
    "                    symbol = ' '\n",
    "\n",
    "\n",
    "                draw += '|'+symbol+''\n",
    "\n",
    "\n",
    "\n",
    "                if j == 2:\n",
    "\n",
    "                    draw +='|\\n-------\\n'\n",
    "        \n",
    "        print(draw)\n",
    "        \n",
    "    # available_moves\n",
    "    def available_moves(self):\n",
    "        return np.argwhere(self.board == 0)\n",
    "    \n",
    "    \n",
    "    # random available move choice\n",
    "    def available_move_choice(self):\n",
    "        return random.choice(self.available_moves())\n",
    "    \n",
    "    \n",
    "    # chegar vencedor\n",
    "    def check_win(self):\n",
    "        \n",
    "        # Row\n",
    "        if sum(self.board[0]) == 3 or sum(self.board[1]) == 3 or sum(self.board[2]) == 3:\n",
    "            #print('venceu')\n",
    "            return 1\n",
    "        if sum(self.board[0]) == -3 or sum(self.board[1]) == -3 or sum(self.board[2]) == -3:\n",
    "            #print('perdeu')\n",
    "            return -1\n",
    "        # Col\n",
    "        if sum(self.board[:,0]) == 3 or sum(self.board[:,1]) == 3 or sum(self.board[:,2]) == 3:\n",
    "            #print('venceu')\n",
    "            return 1\n",
    "        if sum(self.board[:,0]) == - 3 or sum(self.board[:,1]) == - 3 or sum(self.board[:,2]) == - 3:\n",
    "            #print('perdeu')\n",
    "            return -1\n",
    "        # Diagonal\n",
    "        if sum(game.board.diagonal()) == 3 or sum(np.fliplr(game.board).diagonal()) == 3:\n",
    "            #print('venceu')\n",
    "            return 1\n",
    "        if sum(game.board.diagonal()) == -3 or sum(np.fliplr(game.board).diagonal()) == -3:\n",
    "            #print('perdeu')\n",
    "            return -1\n",
    "        # Empate\n",
    "        if not 0 in self.board:\n",
    "            #print('empate')\n",
    "            return 0\n",
    "        \n",
    "        # continua = 2, empate = 0, vitoria = 1, derrota = -1\n",
    "        return 2\n",
    "    \n",
    "    # recompensa dada\n",
    "    def reward(self, result):\n",
    "        if result == 1:  # Vitória\n",
    "            return 1\n",
    "        if result == -1: # Derrota\n",
    "            return -1\n",
    "        if result == 0:  # Empate\n",
    "            return 0.5\n",
    "        "
   ]
  },
  {
   "cell_type": "markdown",
   "metadata": {},
   "source": [
    "## Q Learning +  Agentes"
   ]
  },
  {
   "cell_type": "code",
   "execution_count": 3,
   "metadata": {
    "ExecuteTime": {
     "end_time": "2021-04-07T17:01:36.482216Z",
     "start_time": "2021-04-07T17:01:36.365441Z"
    },
    "code_folding": []
   },
   "outputs": [],
   "source": [
    "#class qLearning(object):\n",
    "    \n",
    "class Agente(Ambiente):\n",
    "    \n",
    "    def __init__(self, name, epsilon  = 0.5):\n",
    "        \n",
    "        super().__init__()\n",
    "                \n",
    "        self.epsilon = epsilon\n",
    "        self.name = name # Nome\n",
    "        self.player = 1 # player1 = 1      player2 = -1\n",
    "        self.path = [] # Registrar os caminhos, depois do REWARD voltar de trás pra frente\n",
    "        # não se esqueça de resetar\n",
    "        \n",
    "        # valor de Q\n",
    "        self.Q = [\n",
    "            # ações( Estados - neste caso específico...)\n",
    "            [0,0,0],#estados\n",
    "            [0,0,0],# estados\n",
    "            [0,0,0] #estados\n",
    "        ] \n",
    "        \n",
    "        self.states_value = {\n",
    "            '(0, 0)':[[0,0,0],[0,0,0],[0,0,0]],\n",
    "            '(0, 1)':[[0,0,0],[0,0,0],[0,0,0]],\n",
    "            '(0, 2)':[[0,0,0],[0,0,0],[0,0,0]],\n",
    "            '(1, 0)':[[0,0,0],[0,0,0],[0,0,0]],\n",
    "            '(1, 1)':[[0,0,0],[0,0,0],[0,0,0]],\n",
    "            '(1, 2)':[[0,0,0],[0,0,0],[0,0,0]],\n",
    "            '(2, 0)':[[0,0,0],[0,0,0],[0,0,0]],\n",
    "            '(2, 1)':[[0,0,0],[0,0,0],[0,0,0]],\n",
    "            '(2, 2)':[[0,0,0],[0,0,0],[0,0,0]]\n",
    "            #s01: Q_table...\n",
    "            #s02:...\n",
    "        } # State -> Value\n",
    "        \n",
    "        # Discount for future rewards\n",
    "        self.gamma   = 0.9\n",
    "        # learning rate - the rate at which the AI agent should learn\n",
    "        self.lr      = 0.9 #  = ALPHA\n",
    "        \n",
    "    def reset_Q(self):\n",
    "        self.Q = [\n",
    "            [0,0,0],\n",
    "            [0,0,0],\n",
    "            [0,0,0] \n",
    "        ]\n",
    "    \n",
    "    def update_q(self, row, col, reward, path):\n",
    "        \n",
    "        \n",
    "        # Contém os [row,col] dos estados (de trás pra frente)\n",
    "        path_rev = list(reversed(path)) \n",
    "        path_rev = iter( path_rev ) # iterator\n",
    "        \n",
    "        print(not self.states_value)\n",
    "        \n",
    "        \"\"\"\n",
    "        if not self.states_value: # Se o dicionário estiver vazio\n",
    "            print('vazio')\n",
    "            for row,col in path_rev:\n",
    "\n",
    "                self.Q[row][col] = self.Q[row][col] + self.lr*( reward + self.gamma* np.max(self.Q) - self.Q[row][col] )\n",
    "\n",
    "                self.states_value[f'({row}, {col})'] = self.Q\n",
    "\n",
    "                self.reset_Q()\"\"\"\n",
    "            \n",
    "        while True:\n",
    "            try:\n",
    "                s2 = next(path_rev) # adiantado\n",
    "                s1 = next(path_rev) # \n",
    "                self.states_value[str(s1)][s1[0]][s1[1]] += self..lr*( 1 + self.gamma* np.max(self.states_value[str(s2)]) - self.states_value[str(s1)][s1[0]][s1[1]] )\n",
    "\n",
    "            except StopIteration:\n",
    "                break\n",
    "\n",
    "            \n",
    "        "
   ]
  },
  {
   "cell_type": "code",
   "execution_count": 4,
   "metadata": {
    "ExecuteTime": {
     "end_time": "2021-04-07T17:01:36.649714Z",
     "start_time": "2021-04-07T17:01:36.485893Z"
    }
   },
   "outputs": [
    {
     "data": {
      "text/plain": [
       "\"game.path = [(0, 0), (0, 1), (0, 2), (1, 0)]\\npath_rev = list(reversed(game.path))\\npath_rev = iter(path_rev)\\n\\n\\nwhile True:\\n    try:\\n        s2 = next(path_rev) # adiantado\\n        s1 = next(path_rev) # \\n        game.states_value[str(s1)][s1[0]][s1[1]] += game.lr*( 1 + game.gamma* np.max(game.states_value[str(s2)]) - game.states_value[str(s1)][s1[0]][s1[1]] )\\n        \\n    except StopIteration:\\n        print('okay')\\n        break\\n\""
      ]
     },
     "execution_count": 4,
     "metadata": {},
     "output_type": "execute_result"
    }
   ],
   "source": [
    "\"\"\"game.path = [(0, 0), (0, 1), (0, 2), (1, 0)]\n",
    "path_rev = list(reversed(game.path))\n",
    "path_rev = iter(path_rev)\n",
    "\n",
    "\n",
    "while True:\n",
    "    try:\n",
    "        s2 = next(path_rev) # adiantado\n",
    "        s1 = next(path_rev) # \n",
    "        game.states_value[str(s1)][s1[0]][s1[1]] += game.lr*( 1 + game.gamma* np.max(game.states_value[str(s2)]) - game.states_value[str(s1)][s1[0]][s1[1]] )\n",
    "        \n",
    "    except StopIteration:\n",
    "        print('okay')\n",
    "        break\n",
    "\"\"\""
   ]
  },
  {
   "cell_type": "code",
   "execution_count": 5,
   "metadata": {
    "ExecuteTime": {
     "end_time": "2021-04-07T17:01:36.741078Z",
     "start_time": "2021-04-07T17:01:36.653028Z"
    },
    "code_folding": [
     21,
     36
    ]
   },
   "outputs": [],
   "source": [
    "class Game(Agente):\n",
    "    \n",
    "    def __init__(self, name,epsilon=0.5):\n",
    "        super().__init__(name,epsilon)\n",
    "\n",
    "        \n",
    "    def printar_vencedor(self, resultado):        \n",
    "    \n",
    "        if resultado == 1:\n",
    "            print('venceu')\n",
    "        if resultado == -1:\n",
    "            print('perdeu')\n",
    "        if resultado == 0:\n",
    "            print('empate')\n",
    "        \n",
    "    \n",
    "    # jogada - Random \n",
    "    def select_pos_by_random(self, player, name):\n",
    "        \n",
    "        row_col = self.available_move_choice()\n",
    "        \n",
    "        row = row_col[0] # Linha\n",
    "        col = row_col[1] # Coluna\n",
    "\n",
    "        self.board[row][col] = player\n",
    "        \n",
    "        print(name + f' jogou na posição { str(row_col) }')\n",
    "        \n",
    "        return row,col\n",
    "    \n",
    "    \"\"\"# jogada - Human\n",
    "    def select_pos_by_human(self, player, name):\n",
    "        \n",
    "        while True:\n",
    "            row = int( input(name+' row :') )\n",
    "            col = int( input(name+' col :') )\n",
    "\n",
    "            # Tem que checar se a posição está ocupada\n",
    "            if self.board[row,col] == 0:\n",
    "                self.board[row,col] = player\n",
    "                break\n",
    "            else:\n",
    "                print('p1 escolha outra posição...')\n",
    "        return row,col\n",
    "    \n",
    "    # jogada - QLearning\n",
    "    def select_pos_by_q(self, player, name):\n",
    "        \n",
    "    \n",
    "        if np.random.uniform(0, 1) <= self.epsilon:\n",
    "            self.select_pos_by_random( player, name )\n",
    "            \n",
    "            \n",
    "        else:\n",
    "            \n",
    "            Q_new = self.Q # Caso de empates, eu faço uma cópia e deleto os valores\n",
    "            \n",
    "            while True:\n",
    "                # Veja os valores disponíveis\n",
    "                available_moves = self.available_move_choice()\n",
    "\n",
    "                # pegue o ÍNDICE com o  ESTADO na tabela Q com maior valores\n",
    "                q_max_pos = np.where( Q_new == np.max(Q_new) )\n",
    "\n",
    "                row = q_max_pos[0][0]\n",
    "                col = q_max_pos[1][0]\n",
    "\n",
    "                if [row,col] in available_moves:\n",
    "\n",
    "                    print(q_max_pos, row, col)\n",
    "\n",
    "                    # Jogar no Tabuleiro\n",
    "                    self.board[row][col] = player\n",
    "\n",
    "                    return row,col\n",
    "\n",
    "\n",
    "                else:\n",
    "                    # Remove o maior valor disponível... tenta outro\n",
    "                    del Q_new[row][col]\"\"\"\n",
    "                \n",
    "        \n",
    "    \n",
    "    # iniciar o Jogo\n",
    "    def start(self):\n",
    "        print ( 'player 1 = X\\nplayer 2 = O\\n')\n",
    "        \n",
    "        \n",
    "        while True:\n",
    "            \n",
    "            # player 1 joga\n",
    "            pos = self.select_pos_by_random(self.player, name = 'player '+str(self.player))\n",
    "            \n",
    "            # Guarda path (qualquer player)\n",
    "            #self.path.append(pos)\n",
    "            \n",
    "            if self.player == 1:\n",
    "                self.path.append(pos)\n",
    "            \n",
    "            # desenhar jogada do player 1\n",
    "            self.draw_board()\n",
    "            \n",
    "            # checa resultado\n",
    "            if self.check_win() != 2: # continua = 2, empate = 0, vitoria = 1, derrota = -1\n",
    "                self.update_q( # TRAS PRA FRENTE\n",
    "                    row    = pos[0],\n",
    "                    col    = pos[1],\n",
    "                    reward = self.reward(result = self.check_win() ),\n",
    "                    path   = self.path\n",
    "                )\n",
    "                break\n",
    "                \n",
    "            self.player *= -1 # switch players\n",
    "        \n",
    "        \n",
    "        # Printa se venceu, perdeu, empate\n",
    "        self.printar_vencedor( resultado =self.check_win() )\n",
    "        \n",
    "        print(self.path)\n",
    "        self.path = [] # Resetar path\n",
    "        \n",
    "        \n",
    "        \n",
    "        #return estado # ESTADO\n",
    "        "
   ]
  },
  {
   "cell_type": "code",
   "execution_count": 6,
   "metadata": {
    "ExecuteTime": {
     "end_time": "2021-04-07T17:01:36.869359Z",
     "start_time": "2021-04-07T17:01:36.744946Z"
    }
   },
   "outputs": [],
   "source": [
    "game = Game(name = 'miguel')"
   ]
  },
  {
   "cell_type": "code",
   "execution_count": 17,
   "metadata": {
    "ExecuteTime": {
     "end_time": "2021-04-07T17:01:52.182325Z",
     "start_time": "2021-04-07T17:01:52.171274Z"
    },
    "scrolled": true
   },
   "outputs": [
    {
     "name": "stdout",
     "output_type": "stream",
     "text": [
      "player 1 = X\n",
      "player 2 = O\n",
      "\n",
      "player 1 jogou na posição [2 1]\n",
      "| | | |\n",
      "-------\n",
      "| | | |\n",
      "-------\n",
      "| |X| |\n",
      "-------\n",
      "\n",
      "player -1 jogou na posição [2 2]\n",
      "| | | |\n",
      "-------\n",
      "| | | |\n",
      "-------\n",
      "| |X|O|\n",
      "-------\n",
      "\n",
      "player 1 jogou na posição [0 0]\n",
      "|X| | |\n",
      "-------\n",
      "| | | |\n",
      "-------\n",
      "| |X|O|\n",
      "-------\n",
      "\n",
      "player -1 jogou na posição [2 0]\n",
      "|X| | |\n",
      "-------\n",
      "| | | |\n",
      "-------\n",
      "|O|X|O|\n",
      "-------\n",
      "\n",
      "player 1 jogou na posição [1 2]\n",
      "|X| | |\n",
      "-------\n",
      "| | |X|\n",
      "-------\n",
      "|O|X|O|\n",
      "-------\n",
      "\n",
      "player -1 jogou na posição [1 0]\n",
      "|X| | |\n",
      "-------\n",
      "|O| |X|\n",
      "-------\n",
      "|O|X|O|\n",
      "-------\n",
      "\n",
      "player 1 jogou na posição [0 2]\n",
      "|X| |X|\n",
      "-------\n",
      "|O| |X|\n",
      "-------\n",
      "|O|X|O|\n",
      "-------\n",
      "\n",
      "player -1 jogou na posição [0 1]\n",
      "|X|O|X|\n",
      "-------\n",
      "|O| |X|\n",
      "-------\n",
      "|O|X|O|\n",
      "-------\n",
      "\n",
      "player 1 jogou na posição [1 1]\n",
      "|X|O|X|\n",
      "-------\n",
      "|O|X|X|\n",
      "-------\n",
      "|O|X|O|\n",
      "-------\n",
      "\n",
      "False\n",
      "empate\n",
      "[(2, 1), (0, 0), (1, 2), (0, 2), (1, 1)]\n"
     ]
    }
   ],
   "source": [
    "game.reset_board()\n",
    "game.start()"
   ]
  },
  {
   "cell_type": "code",
   "execution_count": 8,
   "metadata": {
    "ExecuteTime": {
     "end_time": "2021-04-07T17:01:37.082461Z",
     "start_time": "2021-04-07T17:01:36.977121Z"
    }
   },
   "outputs": [
    {
     "data": {
      "text/plain": [
       "False"
      ]
     },
     "execution_count": 8,
     "metadata": {},
     "output_type": "execute_result"
    }
   ],
   "source": [
    "x ={'(1,1)':[1,2,4]}\n",
    "not x"
   ]
  },
  {
   "cell_type": "code",
   "execution_count": 18,
   "metadata": {
    "ExecuteTime": {
     "end_time": "2021-04-07T17:01:54.340609Z",
     "start_time": "2021-04-07T17:01:54.334462Z"
    },
    "scrolled": true
   },
   "outputs": [
    {
     "data": {
      "text/plain": [
       "{'(0, 0)': [[0.99, 0, 0], [0, 0, 0], [0, 0, 0]],\n",
       " '(0, 1)': [[0, 0.9, 0], [0, 0, 0], [0, 0, 0]],\n",
       " '(0, 2)': [[0, 0, 1.07019], [0, 0, 0], [0, 0, 0]],\n",
       " '(1, 0)': [[0, 0, 0], [1.7919, 0, 0], [0, 0, 0]],\n",
       " '(1, 1)': [[0, 0, 0], [0, 0, 0], [0, 0, 0]],\n",
       " '(1, 2)': [[0, 0, 0], [0, 0, 0], [0, 0, 0]],\n",
       " '(2, 0)': [[0, 0, 0], [0, 0, 0], [0.9, 0, 0]],\n",
       " '(2, 1)': [[0, 0, 0], [0, 0, 0], [0, 0, 0]],\n",
       " '(2, 2)': [[0, 0, 0], [0, 0, 0], [0, 0, 0.99]]}"
      ]
     },
     "execution_count": 18,
     "metadata": {},
     "output_type": "execute_result"
    }
   ],
   "source": [
    "game.states_value"
   ]
  },
  {
   "cell_type": "code",
   "execution_count": 10,
   "metadata": {
    "ExecuteTime": {
     "end_time": "2021-04-07T17:01:37.289735Z",
     "start_time": "2021-04-07T17:01:37.195613Z"
    }
   },
   "outputs": [
    {
     "name": "stdout",
     "output_type": "stream",
     "text": [
      "1 2\n",
      "25 5\n"
     ]
    }
   ],
   "source": [
    "x = [ [1,2], [25,5] ] \n",
    "\n",
    "for a,b in x:\n",
    "    print(a,b)"
   ]
  },
  {
   "cell_type": "markdown",
   "metadata": {},
   "source": [
    "## Agente"
   ]
  },
  {
   "cell_type": "code",
   "execution_count": 11,
   "metadata": {
    "ExecuteTime": {
     "end_time": "2021-04-07T17:01:37.389547Z",
     "start_time": "2021-04-07T17:01:37.292020Z"
    }
   },
   "outputs": [],
   "source": [
    "class Player(object):\n",
    "    def __init__(self,name, epsilon = 0.3):\n",
    "        self.name = name\n",
    "        self.states = [] # Record all positions taken\n",
    "        self.lr = 0.2\n",
    "        self.epsilon = epsilon\n",
    "        self.gamma = 0.9\n",
    "        self.states_value = {} # State -> Value\n",
    "        \n",
    "    def chooseAction(self, positions, current_board, symbol):\n",
    "        \n",
    "        if np.random.uniform(0,1) <= epsilon:\n",
    "            idx = np.random.choice(len(positions))\n",
    "            action = positions[idx]\n",
    "        else:\n",
    "            value_max = -999\n",
    "            \n",
    "            for p in positions:\n",
    "                next_board = current_board.copy()\n",
    "                next_board[p] = symbol\n",
    "                value = 0 if self.states_value.get(next_boardHash) is None else self.states_value.get(next_boardHash)\n",
    "                if value >= value_max:\n",
    "                    value_max = value\n",
    "                    action = p\n",
    "    \n",
    "        print(\"{} takes action {}\".format(self.name, action))\n",
    "        \n",
    "        return action\n",
    "    \n",
    "    def feedReward(self, reward):\n",
    "        for st in reversed(self.states):\n",
    "            if self.states_value.get(st) is None:\n",
    "                self.states_value[st] = 0\n",
    "            self.states_value[st] += self.lr * (self.decay_gamma * reward - self.states_value[st])\n",
    "            reward = self.states_value[st]\n",
    "    "
   ]
  },
  {
   "cell_type": "code",
   "execution_count": null,
   "metadata": {},
   "outputs": [],
   "source": []
  },
  {
   "cell_type": "code",
   "execution_count": 12,
   "metadata": {
    "ExecuteTime": {
     "end_time": "2021-04-07T17:01:37.606936Z",
     "start_time": "2021-04-07T17:01:37.392388Z"
    }
   },
   "outputs": [
    {
     "ename": "NameError",
     "evalue": "name 'Q' is not defined",
     "output_type": "error",
     "traceback": [
      "\u001b[0;31m---------------------------------------------------------------------------\u001b[0m",
      "\u001b[0;31mNameError\u001b[0m                                 Traceback (most recent call last)",
      "\u001b[0;32m<ipython-input-12-0599ffd3f0cf>\u001b[0m in \u001b[0;36m<module>\u001b[0;34m\u001b[0m\n\u001b[0;32m----> 1\u001b[0;31m \u001b[0mQ\u001b[0m\u001b[0;34m[\u001b[0m\u001b[0;36m2\u001b[0m\u001b[0;34m]\u001b[0m\u001b[0;34m[\u001b[0m\u001b[0;36m1\u001b[0m\u001b[0;34m]\u001b[0m \u001b[0;34m=\u001b[0m \u001b[0;36m1\u001b[0m\u001b[0;34m\u001b[0m\u001b[0;34m\u001b[0m\u001b[0m\n\u001b[0m",
      "\u001b[0;31mNameError\u001b[0m: name 'Q' is not defined"
     ]
    }
   ],
   "source": [
    "Q[2][1] = 1"
   ]
  },
  {
   "cell_type": "code",
   "execution_count": null,
   "metadata": {
    "ExecuteTime": {
     "end_time": "2021-04-07T17:01:37.614366Z",
     "start_time": "2021-04-07T17:01:36.213Z"
    }
   },
   "outputs": [],
   "source": [
    "np.max(Q)"
   ]
  },
  {
   "cell_type": "code",
   "execution_count": null,
   "metadata": {
    "ExecuteTime": {
     "end_time": "2021-04-07T17:01:37.616774Z",
     "start_time": "2021-04-07T17:01:36.219Z"
    }
   },
   "outputs": [],
   "source": [
    "# Exemplo de herança de classe\n",
    "\n",
    "class Personagem(object):\n",
    "    k = 10\n",
    "    def __init__(self, nome):\n",
    "        self.nome = nome\n",
    "        \n",
    "    def ataque(self, alvo):\n",
    "        alvo.hp -= self.mp\n",
    "\n",
    "# Raças \n",
    "class Dracula(Personagem):\n",
    "    def __init__(self,nome):\n",
    "        super().__init__(nome)\n",
    "        self.hp = 100\n",
    "        self.mp = 10            \n",
    "class Ghoust(Personagem):\n",
    "    def __init__(self,nome):\n",
    "        super().__init__(nome)\n",
    "        self.hp = 50\n",
    "        self.mp = 30\n",
    "\n",
    "\n",
    "p1 = Dracula('player 1')\n",
    "p2 = Ghoust('player 2')\n",
    "\n",
    "p1.ataque(p2)\n",
    "p2.hp"
   ]
  }
 ],
 "metadata": {
  "kernelspec": {
   "display_name": "Python 3",
   "language": "python",
   "name": "python3"
  },
  "language_info": {
   "codemirror_mode": {
    "name": "ipython",
    "version": 3
   },
   "file_extension": ".py",
   "mimetype": "text/x-python",
   "name": "python",
   "nbconvert_exporter": "python",
   "pygments_lexer": "ipython3",
   "version": "3.6.9"
  }
 },
 "nbformat": 4,
 "nbformat_minor": 2
}
