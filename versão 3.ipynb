{
 "cells": [
  {
   "cell_type": "code",
   "execution_count": 1,
   "metadata": {
    "ExecuteTime": {
     "end_time": "2021-04-07T20:35:24.537140Z",
     "start_time": "2021-04-07T20:35:24.370571Z"
    }
   },
   "outputs": [],
   "source": [
    "import numpy as np\n",
    "import random"
   ]
  },
  {
   "cell_type": "code",
   "execution_count": 80,
   "metadata": {
    "ExecuteTime": {
     "end_time": "2021-04-07T21:50:12.691949Z",
     "start_time": "2021-04-07T21:50:12.681261Z"
    }
   },
   "outputs": [
    {
     "data": {
      "text/plain": [
       "array([[1, 2, 3],\n",
       "       [4, 5, 6],\n",
       "       [7, 8, 9]])"
      ]
     },
     "execution_count": 80,
     "metadata": {},
     "output_type": "execute_result"
    }
   ],
   "source": [
    "x = [1,2,3,4,5,6,7,8,9]\n",
    "# Transforma 1D em 2D\n",
    "np.reshape(x, (-1, 3)) "
   ]
  },
  {
   "cell_type": "code",
   "execution_count": 79,
   "metadata": {
    "ExecuteTime": {
     "end_time": "2021-04-07T21:50:03.877881Z",
     "start_time": "2021-04-07T21:50:03.871973Z"
    }
   },
   "outputs": [
    {
     "data": {
      "text/plain": [
       "array([-1.,  1.,  0.,  1.,  1., -1.,  0.,  1., -1.])"
      ]
     },
     "execution_count": 79,
     "metadata": {},
     "output_type": "execute_result"
    }
   ],
   "source": [
    "# Transforma 2D em 1D\n",
    "game.board.flatten()"
   ]
  },
  {
   "cell_type": "code",
   "execution_count": 84,
   "metadata": {
    "ExecuteTime": {
     "end_time": "2021-04-07T22:13:43.018525Z",
     "start_time": "2021-04-07T22:13:43.015344Z"
    }
   },
   "outputs": [],
   "source": [
    "Q = {\n",
    "    \"\"\"\n",
    "    'board':{\n",
    "        '(0, 0)':0,\n",
    "        '(0, 1)':0,\n",
    "        '(0, 2)':0,\n",
    "        '(1, 0)':0,\n",
    "        '(1, 1)':0,\n",
    "        '(1, 2)':0,\n",
    "        '(2, 0)':0,\n",
    "        '(2, 1)':0,\n",
    "        '(2, 2)':0,   \n",
    "    }\"\"\"\n",
    "}"
   ]
  },
  {
   "cell_type": "code",
   "execution_count": 85,
   "metadata": {
    "ExecuteTime": {
     "end_time": "2021-04-07T22:13:49.352988Z",
     "start_time": "2021-04-07T22:13:49.348114Z"
    }
   },
   "outputs": [
    {
     "data": {
      "text/plain": [
       "{\"\\n    'board':{\\n        '(0, 0)':0,\\n        '(0, 1)':0,\\n        '(0, 2)':0,\\n        '(1, 0)':0,\\n        '(1, 1)':0,\\n        '(1, 2)':0,\\n        '(2, 0)':0,\\n        '(2, 1)':0,\\n        '(2, 2)':0,   \\n    }\"}"
      ]
     },
     "execution_count": 85,
     "metadata": {},
     "output_type": "execute_result"
    }
   ],
   "source": [
    "Q"
   ]
  },
  {
   "cell_type": "code",
   "execution_count": 82,
   "metadata": {
    "ExecuteTime": {
     "end_time": "2021-04-07T22:12:40.940043Z",
     "start_time": "2021-04-07T22:12:40.900284Z"
    },
    "code_folding": [
     25,
     28,
     54,
     57,
     60,
     91,
     100,
     113
    ]
   },
   "outputs": [],
   "source": [
    "class Game:\n",
    "    \n",
    "    def __init__(self):\n",
    "        \n",
    "        # Board (é nosso ESTADO ATUAL)\n",
    "        self.board = np.zeros((3,3))\n",
    "        \n",
    "        # Player\n",
    "        self.player = 1 # player1 = 1      player2 = -1\n",
    "\n",
    "        \n",
    "        # Faz o papel do nosso antigo \"path\"\n",
    "        self.states_history = [] # Appends...\n",
    "        \n",
    "        # Ações serão nossas posições escolhidas(movimentos)\n",
    "        self.actions = []\n",
    "        \n",
    "        # Q -> (state e actions )\n",
    "        self.Q = {\n",
    "            \"\"\"\n",
    "            'board':{\n",
    "                '(0, 0)':0,\n",
    "                '(0, 1)':0,\n",
    "                '(0, 2)':0,\n",
    "                '(1, 0)':0,\n",
    "                '(1, 1)':0,\n",
    "                '(1, 2)':0,\n",
    "                '(2, 0)':0,\n",
    "                '(2, 1)':0,\n",
    "                '(2, 2)':0,   \n",
    "            }\"\"\"\n",
    "        }\n",
    "            \n",
    "    def reset_board(self):\n",
    "        self.board = np.zeros((3,3))\n",
    "    \n",
    "    def draw_board(self):\n",
    "        \n",
    "        draw = ''\n",
    "\n",
    "        for i in range(3):\n",
    "            for j in range(3):\n",
    "                simbolo = ''\n",
    "                # simbolo X (p1 = 1) ou O (p2 = -1)\n",
    "                if game.board[i][j] == 1:\n",
    "                    symbol = 'X'\n",
    "                elif game.board[i][j] == -1:\n",
    "                    symbol = 'O'\n",
    "                else:\n",
    "                    symbol = ' '\n",
    "\n",
    "\n",
    "                draw += '|'+symbol+''\n",
    "\n",
    "\n",
    "\n",
    "                if j == 2:\n",
    "\n",
    "                    draw +='|\\n-------\\n'\n",
    "        \n",
    "        print(draw)\n",
    "        \n",
    "    def available_moves(self):\n",
    "        return np.argwhere(self.board == 0)\n",
    "    \n",
    "    def available_move_choice(self):\n",
    "        return random.choice(self.available_moves())\n",
    "    \n",
    "    def check_win(self):\n",
    "        \n",
    "        # Row\n",
    "        if sum(self.board[0]) == 3 or sum(self.board[1]) == 3 or sum(self.board[2]) == 3:\n",
    "            #print('venceu')\n",
    "            return 1\n",
    "        if sum(self.board[0]) == -3 or sum(self.board[1]) == -3 or sum(self.board[2]) == -3:\n",
    "            #print('perdeu')\n",
    "            return -1\n",
    "        # Col\n",
    "        if sum(self.board[:,0]) == 3 or sum(self.board[:,1]) == 3 or sum(self.board[:,2]) == 3:\n",
    "            #print('venceu')\n",
    "            return 1\n",
    "        if sum(self.board[:,0]) == - 3 or sum(self.board[:,1]) == - 3 or sum(self.board[:,2]) == - 3:\n",
    "            #print('perdeu')\n",
    "            return -1\n",
    "        # Diagonal\n",
    "        if sum(game.board.diagonal()) == 3 or sum(np.fliplr(game.board).diagonal()) == 3:\n",
    "            #print('venceu')\n",
    "            return 1\n",
    "        if sum(game.board.diagonal()) == -3 or sum(np.fliplr(game.board).diagonal()) == -3:\n",
    "            #print('perdeu')\n",
    "            return -1\n",
    "        # Empate\n",
    "        if not 0 in self.board:\n",
    "            #print('empate')\n",
    "            return 0\n",
    "        \n",
    "        # continua = 2, empate = 0, vitoria = 1, derrota = -1\n",
    "        return 2\n",
    "    \n",
    "    def reward(self, result):\n",
    "        if result == 1:  # Vitória\n",
    "            return 1\n",
    "        if result == -1: # Derrota\n",
    "            return -1\n",
    "        if result == 0:  # Empate\n",
    "            return 0.5\n",
    "        \n",
    "    # jogada - Random \n",
    "    def select_pos_by_random(self, player, name):\n",
    "        \n",
    "        row_col = self.available_move_choice()\n",
    "        \n",
    "        row = row_col[0] # Linha\n",
    "        col = row_col[1] # Coluna\n",
    "\n",
    "        self.board[row][col] = player\n",
    "        \n",
    "        print(name + f' jogou na posição { str(row_col) }')\n",
    "        \n",
    "        return row,col\n",
    "    \n",
    "    def print_resultado(self, resultado):\n",
    "        if resultado == 1:\n",
    "            print('venceu')\n",
    "        elif resultado == -1:\n",
    "            print('perdeu')\n",
    "        else:\n",
    "            print('empate')\n",
    "    \n",
    "    # iniciar o Jogo\n",
    "    def start(self):\n",
    "        print ( 'player 1 = X\\nplayer 2 = O\\n')\n",
    "        \n",
    "        while True:\n",
    "            \n",
    "\n",
    "            \n",
    "            self.Q = { \n",
    "                str(self.board):{\n",
    "                    '(0, 0)':0,\n",
    "                    '(0, 1)':0,\n",
    "                    '(0, 2)':0,\n",
    "                    '(1, 0)':0,\n",
    "                    '(1, 1)':0,\n",
    "                    '(1, 2)':0,\n",
    "                    '(2, 0)':0,\n",
    "                    '(2, 1)':0,\n",
    "                    '(2, 2)':0,   \n",
    "                }\n",
    "            }\n",
    "            \n",
    "            # player 1 jogada (movimento) -> Ação\n",
    "            pos = self.select_pos_by_random(self.player, name = 'player '+str(self.player))\n",
    "            \n",
    "            # adicionar ações\n",
    "            self.actions.append(pos)\n",
    "            \n",
    "            input()\n",
    "            print(self.board, pos)\n",
    "            #print(self.states)\n",
    "            \n",
    "            \n",
    "            \n",
    "            \n",
    "            \n",
    "            \n",
    "            # desenhar jogada do player \n",
    "            self.draw_board()\n",
    "            \n",
    "            # checa resultado\n",
    "            if self.check_win() != 2: # continua = 2, empate = 0, vitoria = 1, derrota = -1\n",
    "                self.print_resultado(self.check_win())\n",
    "                break\n",
    "                \n",
    "            self.player *= -1 # switch players  \n",
    "        "
   ]
  },
  {
   "cell_type": "code",
   "execution_count": 36,
   "metadata": {
    "ExecuteTime": {
     "end_time": "2021-04-07T21:01:02.774544Z",
     "start_time": "2021-04-07T21:01:02.767450Z"
    }
   },
   "outputs": [],
   "source": [
    "game = Game()"
   ]
  },
  {
   "cell_type": "code",
   "execution_count": 37,
   "metadata": {
    "ExecuteTime": {
     "end_time": "2021-04-07T21:01:11.564253Z",
     "start_time": "2021-04-07T21:01:03.305665Z"
    },
    "scrolled": false
   },
   "outputs": [
    {
     "name": "stdout",
     "output_type": "stream",
     "text": [
      "player 1 = X\n",
      "player 2 = O\n",
      "\n",
      "player 1 jogou na posição [1 1]\n",
      "\n",
      "[[0. 0. 0.]\n",
      " [0. 1. 0.]\n",
      " [0. 0. 0.]] (1, 1)\n",
      "| | | |\n",
      "-------\n",
      "| |X| |\n",
      "-------\n",
      "| | | |\n",
      "-------\n",
      "\n",
      "player -1 jogou na posição [2 2]\n",
      "\n",
      "[[ 0.  0.  0.]\n",
      " [ 0.  1.  0.]\n",
      " [ 0.  0. -1.]] (2, 2)\n",
      "| | | |\n",
      "-------\n",
      "| |X| |\n",
      "-------\n",
      "| | |O|\n",
      "-------\n",
      "\n",
      "player 1 jogou na posição [1 0]\n",
      "\n",
      "[[ 0.  0.  0.]\n",
      " [ 1.  1.  0.]\n",
      " [ 0.  0. -1.]] (1, 0)\n",
      "| | | |\n",
      "-------\n",
      "|X|X| |\n",
      "-------\n",
      "| | |O|\n",
      "-------\n",
      "\n",
      "player -1 jogou na posição [1 2]\n",
      "\n",
      "[[ 0.  0.  0.]\n",
      " [ 1.  1. -1.]\n",
      " [ 0.  0. -1.]] (1, 2)\n",
      "| | | |\n",
      "-------\n",
      "|X|X|O|\n",
      "-------\n",
      "| | |O|\n",
      "-------\n",
      "\n",
      "player 1 jogou na posição [2 1]\n",
      "\n",
      "[[ 0.  0.  0.]\n",
      " [ 1.  1. -1.]\n",
      " [ 0.  1. -1.]] (2, 1)\n",
      "| | | |\n",
      "-------\n",
      "|X|X|O|\n",
      "-------\n",
      "| |X|O|\n",
      "-------\n",
      "\n",
      "player -1 jogou na posição [0 0]\n",
      "\n",
      "[[-1.  0.  0.]\n",
      " [ 1.  1. -1.]\n",
      " [ 0.  1. -1.]] (0, 0)\n",
      "|O| | |\n",
      "-------\n",
      "|X|X|O|\n",
      "-------\n",
      "| |X|O|\n",
      "-------\n",
      "\n",
      "player 1 jogou na posição [0 1]\n",
      "\n",
      "[[-1.  1.  0.]\n",
      " [ 1.  1. -1.]\n",
      " [ 0.  1. -1.]] (0, 1)\n",
      "|O|X| |\n",
      "-------\n",
      "|X|X|O|\n",
      "-------\n",
      "| |X|O|\n",
      "-------\n",
      "\n",
      "venceu\n"
     ]
    }
   ],
   "source": [
    "game.reset_board()\n",
    "game.start()"
   ]
  },
  {
   "cell_type": "code",
   "execution_count": 81,
   "metadata": {
    "ExecuteTime": {
     "end_time": "2021-04-07T21:51:44.830571Z",
     "start_time": "2021-04-07T21:51:44.822364Z"
    },
    "scrolled": false
   },
   "outputs": [
    {
     "data": {
      "text/plain": [
       "[array([[0., 0., 0.],\n",
       "        [0., 0., 0.],\n",
       "        [0., 0., 0.]]), array([[0., 0., 0.],\n",
       "        [0., 1., 0.],\n",
       "        [0., 0., 0.]]), array([[ 0.,  0.,  0.],\n",
       "        [ 0.,  1.,  0.],\n",
       "        [ 0.,  0., -1.]]), array([[ 0.,  0.,  0.],\n",
       "        [ 1.,  1.,  0.],\n",
       "        [ 0.,  0., -1.]]), array([[ 0.,  0.,  0.],\n",
       "        [ 1.,  1., -1.],\n",
       "        [ 0.,  0., -1.]]), array([[ 0.,  0.,  0.],\n",
       "        [ 1.,  1., -1.],\n",
       "        [ 0.,  1., -1.]]), array([[-1.,  0.,  0.],\n",
       "        [ 1.,  1., -1.],\n",
       "        [ 0.,  1., -1.]])]"
      ]
     },
     "execution_count": 81,
     "metadata": {},
     "output_type": "execute_result"
    }
   ],
   "source": [
    "game.states"
   ]
  }
 ],
 "metadata": {
  "kernelspec": {
   "display_name": "Python 3",
   "language": "python",
   "name": "python3"
  },
  "language_info": {
   "codemirror_mode": {
    "name": "ipython",
    "version": 3
   },
   "file_extension": ".py",
   "mimetype": "text/x-python",
   "name": "python",
   "nbconvert_exporter": "python",
   "pygments_lexer": "ipython3",
   "version": "3.6.9"
  }
 },
 "nbformat": 4,
 "nbformat_minor": 2
}
